{
 "cells": [
  {
   "cell_type": "markdown",
   "metadata": {},
   "source": [
    "# Robot Find Light\n",
    "\n",
    "Creating a dataset for finding the light."
   ]
  },
  {
   "cell_type": "code",
   "execution_count": 1,
   "metadata": {},
   "outputs": [],
   "source": [
    "from jyro.simulator import (Robot, Pioneer, Pioneer16Sonars, PioneerFrontLightSensors, \n",
    "                            Camera, Simulator, VSimulator)\n",
    "import numpy as np\n",
    "from math import pi\n",
    "from random import random"
   ]
  },
  {
   "cell_type": "code",
   "execution_count": 2,
   "metadata": {},
   "outputs": [],
   "source": [
    "def make_world(physics):\n",
    "    physics.addBox(0, 0, 4, 4, fill=\"backgroundgreen\", wallcolor=\"gray\")\n",
    "    physics.addBox(1.75, 2.9, 2.25, 3.0, fill=\"blue\", wallcolor=\"blue\")\n",
    "    physics.addLight(2, 3.5, 1.0)"
   ]
  },
  {
   "cell_type": "code",
   "execution_count": 3,
   "metadata": {},
   "outputs": [],
   "source": [
    "def make_robot():\n",
    "    robot = Pioneer(\"Pioneer\", 2, 1, 0) #paremeters are x, y, heading (in radians)\n",
    "    robot.addDevice(Camera())\n",
    "    robot.addDevice(Pioneer16Sonars())\n",
    "    light_sensors = PioneerFrontLightSensors(3) #parameter defines max range\n",
    "    #light_sensors.lightMode = 'ambient'\n",
    "    robot.addDevice(light_sensors)\n",
    "    return robot"
   ]
  },
  {
   "cell_type": "code",
   "execution_count": 4,
   "metadata": {},
   "outputs": [],
   "source": [
    "def get_senses(robot):\n",
    "    light = robot[\"light\"].getData()\n",
    "    #print(\"light\", light)\n",
    "    sonar = robot[\"sonar\"].getData()\n",
    "    #print(\"sonar\", sonar)\n",
    "    return [light, sonar]"
   ]
  },
  {
   "cell_type": "code",
   "execution_count": 5,
   "metadata": {},
   "outputs": [],
   "source": [
    "def random_start(robot):\n",
    "    robot.setPose(0.5 + random()*2.5, 0.5 + random()*2, random()*2*pi)"
   ]
  },
  {
   "cell_type": "code",
   "execution_count": 6,
   "metadata": {},
   "outputs": [],
   "source": [
    "def determine_move(senses):\n",
    "    \"\"\"Returns tuple of (translation, rotation) movement\"\"\"\n",
    "    lights = senses[0]\n",
    "    left_light = lights[0]\n",
    "    right_light = lights[1]\n",
    "    light_diff = abs(left_light-right_light)\n",
    "    sonars = senses[1]\n",
    "    # if found light, then stop\n",
    "    if sum(lights) > 1.8:\n",
    "        return (0, 0)\n",
    "    # if getting close to an obstacle in front, turn to avoid it\n",
    "    elif min(sonars[2:6]) < 0.5:\n",
    "        # if closer on left, turn right\n",
    "        if min(sonars[1:4]) < min(sonars[4:7]):\n",
    "            return (0, -0.3)\n",
    "        # otherwise, turn left\n",
    "        else:\n",
    "            return (0, 0.3)\n",
    "    # if diff in light readings is high enough or total of light readings is\n",
    "    # low ennough, then turn towards the light\n",
    "    elif light_diff > 0.1 or sum(lights) < 0.1:\n",
    "        # if brighter on left side, turn slightly left\n",
    "        if  left_light > right_light:\n",
    "            return (0.1, 0.3)\n",
    "        else:\n",
    "            return (0.1, -0.3)\n",
    "    # default is to go straight\n",
    "    else:\n",
    "        return (0.3, 0)\n",
    "    \n",
    "def find_light_brain(robot):\n",
    "    senses = get_senses(robot)\n",
    "    translate, rotate = determine_move(senses)\n",
    "    robot.move(translate, rotate)"
   ]
  },
  {
   "cell_type": "code",
   "execution_count": 7,
   "metadata": {},
   "outputs": [
    {
     "data": {
      "application/vnd.jupyter.widget-view+json": {
       "model_id": "0ad0256f5fed411e903156081eaef4a1",
       "version_major": 2,
       "version_minor": 0
      },
      "text/html": [
       "<p>Failed to display Jupyter Widget of type <code>VBox</code>.</p>\n",
       "<p>\n",
       "  If you're reading this message in the Jupyter Notebook or JupyterLab Notebook, it may mean\n",
       "  that the widgets JavaScript is still loading. If this message persists, it\n",
       "  likely means that the widgets JavaScript library is either not installed or\n",
       "  not enabled. See the <a href=\"https://ipywidgets.readthedocs.io/en/stable/user_install.html\">Jupyter\n",
       "  Widgets Documentation</a> for setup instructions.\n",
       "</p>\n",
       "<p>\n",
       "  If you're reading this message in another frontend (for example, a static\n",
       "  rendering on GitHub or <a href=\"https://nbviewer.jupyter.org/\">NBViewer</a>),\n",
       "  it may mean that your frontend doesn't currently support widgets.\n",
       "</p>\n"
      ],
      "text/plain": [
       "VBox(children=(VBox(children=(HBox(children=(Checkbox(value=True, description='Update GUI'), Checkbox(value=False, description='Trace Path'), Text(value='0.0 seconds', description='Time:'))), HBox(children=(VBox(children=(HBox(children=(FloatSlider(value=0.0, layout=Layout(height='248px', padding='0px 0px 0px 0px', width='10px'), orientation='vertical', readout=False), HTML(value='<svg baseProfile=\"full\" height=\"240\" version=\"1.1\" width=\"240\" xmlns=\"http://www.w3.org/2000/svg\" xmlns:ev=\"http://www.w3.org/2001/xml-events\" xmlns:xlink=\"http://www.w3.org/1999/xlink\"><defs /><rect fill=\"#eef3dd\" height=\"240.0\" stroke=\"#bebebe\" stroke-width=\"1\" width=\"240.0\" x=\"0.0\" y=\"0.0\" /><rect fill=\"#0000ff\" height=\"6.0\" stroke=\"#0000ff\" stroke-width=\"1\" width=\"30.0\" x=\"105.0\" y=\"60.0\" /><circle cx=\"120.0\" cy=\"30.0\" fill=\"#ffff00\" r=\"15.0\" stroke=\"#ffff00\" stroke-width=\"1\" /><line fill=\"#800080\" stroke=\"#a020f0\" stroke-width=\"1\" x1=\"120.0\" x2=\"0.0\" y1=\"180.0\" y2=\"110.717964\" /><line fill=\"#800080\" stroke=\"#a020f0\" stroke-width=\"1\" x1=\"120.0\" x2=\"240.0\" y1=\"180.0\" y2=\"110.717964\" /><line fill=\"#800080\" stroke=\"#add8e6\" stroke-width=\"1\" x1=\"109.5\" x2=\"0.0\" y1=\"174.0\" y2=\"174.0\" /><line fill=\"#800080\" stroke=\"#add8e6\" stroke-width=\"1\" x1=\"111.0\" x2=\"0.0\" y1=\"169.8\" y2=\"118.039848\" /><line fill=\"#800080\" stroke=\"#add8e6\" stroke-width=\"1\" x1=\"113.4\" x2=\"0.0\" y1=\"168.0\" y2=\"32.855142\" /><line fill=\"#800080\" stroke=\"#add8e6\" stroke-width=\"1\" x1=\"117.0\" x2=\"72.38645873701557\" y1=\"166.5\" y2=\"0.0\" /><line fill=\"#800080\" stroke=\"#add8e6\" stroke-width=\"1\" x1=\"122.99999999999999\" x2=\"167.61354126298448\" y1=\"166.5\" y2=\"0.0\" /><line fill=\"#800080\" stroke=\"#add8e6\" stroke-width=\"1\" x1=\"126.6\" x2=\"240.0\" y1=\"168.0\" y2=\"32.855142\" /><line fill=\"#800080\" stroke=\"#add8e6\" stroke-width=\"1\" x1=\"129.0\" x2=\"240.0\" y1=\"169.8\" y2=\"118.039848\" /><line fill=\"#800080\" stroke=\"#add8e6\" stroke-width=\"1\" x1=\"130.5\" x2=\"240.0\" y1=\"174.0\" y2=\"174.0\" /><line fill=\"#800080\" stroke=\"#add8e6\" stroke-width=\"1\" x1=\"130.5\" x2=\"240.0\" y1=\"186.0\" y2=\"186.0\" /><line fill=\"#800080\" stroke=\"#add8e6\" stroke-width=\"1\" x1=\"129.0\" x2=\"235.79644084796368\" y1=\"190.2\" y2=\"240.0\" /><line fill=\"#800080\" stroke=\"#add8e6\" stroke-width=\"1\" x1=\"126.6\" x2=\"166.87678224760555\" y1=\"192.0\" y2=\"240.0\" /><line fill=\"#800080\" stroke=\"#add8e6\" stroke-width=\"1\" x1=\"122.99999999999999\" x2=\"135.45963724447796\" y1=\"193.5\" y2=\"240.0\" /><line fill=\"#800080\" stroke=\"#add8e6\" stroke-width=\"1\" x1=\"117.0\" x2=\"104.54036275552205\" y1=\"193.5\" y2=\"240.0\" /><line fill=\"#800080\" stroke=\"#add8e6\" stroke-width=\"1\" x1=\"113.39999999999999\" x2=\"73.12321775239447\" y1=\"192.0\" y2=\"240.0\" /><line fill=\"#800080\" stroke=\"#add8e6\" stroke-width=\"1\" x1=\"111.0\" x2=\"4.203559152036306\" y1=\"190.2\" y2=\"240.0\" /><line fill=\"#800080\" stroke=\"#add8e6\" stroke-width=\"1\" x1=\"109.5\" x2=\"0.0\" y1=\"186.0\" y2=\"186.0\" /><line fill=\"#800080\" stroke=\"#a020f0\" stroke-width=\"1\" x1=\"120.0\" x2=\"117.69230705325427\" y1=\"30.0\" y2=\"60.0\" /><line fill=\"#800080\" stroke=\"#a020f0\" stroke-width=\"1\" x1=\"120.0\" x2=\"122.30769294674575\" y1=\"30.0\" y2=\"60.0\" /><polygon fill=\"red\" points=\"115.19999999999999,166.5 109.5,171.0 109.5,189.0 115.19999999999999,193.5 124.80000000000001,193.5 130.5,189.0 130.5,171.0 124.80000000000001,166.5\" stroke=\"red\" stroke-width=\"1\" /><polygon points=\"-3.0,-3.0 0,0 3.0,-3.0 0,3.0\" stroke=\"black\" stroke-width=\"1\" transform=\"translate(120.0,180.0) rotate(180.0)\" /><polygon fill=\"black\" points=\"123.60000000000001,171.6 123.60000000000001,176.4 116.39999999999999,176.4 116.39999999999999,171.6\" stroke=\"black\" stroke-width=\"1\" /><circle cx=\"109.5\" cy=\"166.5\" fill=\"yellow\" r=\"1.5\" stroke=\"orange\" stroke-width=\"1\" /><circle cx=\"130.5\" cy=\"166.5\" fill=\"yellow\" r=\"1.5\" stroke=\"orange\" stroke-width=\"1\" /></svg>'))), FloatSlider(value=0.0, layout=Layout(height='30px', padding='0px 0px 0px 10px', width='260px'), readout=False))), VBox(children=(HTML(value='<img style=\"image-rendering: pixelated;\" src=\"data:image/gif;base64,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\" width=\"240\"/>'), FloatSlider(value=0.0, layout=Layout(height='20px', padding='0px 0px 0px 0px', width='248px'), readout=False))))))), HBox(children=(Button(icon='step-forward', style=ButtonStyle()), Play(value=0, max=1000000), Button(description='Clear Output', style=ButtonStyle()))), Output()))"
      ]
     },
     "metadata": {},
     "output_type": "display_data"
    }
   ],
   "source": [
    "robot = make_robot()\n",
    "vsim = VSimulator(robot, make_world) #create a visual simulator to watch robot's behavior\n",
    "random_start(robot)\n",
    "vsim.update_gui()\n",
    "robot.brain = find_light_brain"
   ]
  },
  {
   "cell_type": "code",
   "execution_count": 8,
   "metadata": {},
   "outputs": [
    {
     "data": {
      "image/png": "[encoded data removed]",
      "text/plain": [
       "<PIL.Image.Image image mode=RGB size=240x160 at 0x7F6DB7409F60>"
      ]
     },
     "execution_count": 8,
     "metadata": {},
     "output_type": "execute_result"
    }
   ],
   "source": [
    "robot[\"camera\"].getImage().resize((240, 160))"
   ]
  },
  {
   "cell_type": "code",
   "execution_count": 9,
   "metadata": {},
   "outputs": [
    {
     "data": {
      "text/plain": [
       "[(2.661347914428072, 1.9886887713326211)]"
      ]
     },
     "execution_count": 9,
     "metadata": {},
     "output_type": "execute_result"
    }
   ],
   "source": [
    "robot[\"camera\"].lights"
   ]
  },
  {
   "cell_type": "code",
   "execution_count": 10,
   "metadata": {},
   "outputs": [
    {
     "data": {
      "text/plain": [
       "[(151, 9, 3.1468658102018714, 0.6853134189798128),\n",
       " (151, 9, 3.205917041685684, 0.6794082958314316),\n",
       " (151, 9, 3.271427583532677, 0.6728572416467322),\n",
       " (151, 9, 3.117340854250534, 0.6882659145749466),\n",
       " (151, 9, 2.955939301808889, 0.7044060698191111),\n",
       " (151, 10, 2.813799179070223, 0.7186200820929777),\n",
       " (151, 10, 2.6879332300963967, 0.7312066769903603),\n",
       " (151, 11, 2.575952233737128, 0.7424047766262871),\n",
       " (151, 11, 2.475923400873351, 0.752407659912665),\n",
       " (151, 11, 2.3862669170965702, 0.761373308290343),\n",
       " (151, 11, 2.3056804602620136, 0.7694319539737986),\n",
       " (151, 12, 2.233080789922769, 0.7766919210077231),\n",
       " (151, 12, 2.1675613146576613, 0.7832438685342339),\n",
       " (151, 12, 2.1083576826492845, 0.7891642317350716),\n",
       " (151, 12, 2.054822509355691, 0.7945177490644308),\n",
       " (151, 12, 2.006404088175722, 0.7993595911824277),\n",
       " (151, 12, 1.9626309549651584, 0.8037369045034841),\n",
       " (151, 13, 1.9230983499660799, 0.807690165003392),\n",
       " (151, 13, 1.8874580699053687, 0.8112541930094631),\n",
       " (151, 13, 1.855410109638303, 0.8144589890361698),\n",
       " (151, 13, 1.8266954680809961, 0.8173304531919005),\n",
       " (151, 13, 1.8010907999569872, 0.8198909200043012),\n",
       " (151, 13, 1.7784038489031955, 0.8221596151096804),\n",
       " (151, 13, 1.7584693819658332, 0.8241530618034167),\n",
       " (151, 13, 1.7411464026794672, 0.8258853597320532),\n",
       " (151, 13, 1.726315305661425, 0.8273684694338576),\n",
       " (151, 13, 1.7138759757197426, 0.8286124024280257),\n",
       " (151, 13, 1.70374598830988, 0.8296254011690121),\n",
       " (151, 13, 1.6958592459161284, 0.8304140754083871),\n",
       " (151, 13, 1.6901649600661617, 0.8309835039933839),\n",
       " (151, 13, 1.6866268159290632, 0.8313373184070937),\n",
       " (151, 13, 1.6852223823983883, 0.8314777617601612),\n",
       " (151, 13, 1.6859427943949996, 0.8314057205605),\n",
       " (151, 13, 1.6887925940390223, 0.8311207405960979),\n",
       " (151, 13, 1.6937898161250025, 0.8306210183874997),\n",
       " (151, 13, 1.700966267038597, 0.8299033732961403),\n",
       " (151, 13, 1.7103680115403526, 0.8289631988459647),\n",
       " (151, 13, 1.722056088186009, 0.8277943911813992),\n",
       " (151, 13, 1.7361075622433133, 0.8263892437756686),\n",
       " (151, 13, 1.7526166634867562, 0.8247383336513243),\n",
       " (151, 13, 1.7716965367527164, 0.8228303463247283),\n",
       " (151, 13, 1.7934810363489488, 0.8206518963651052),\n",
       " (151, 13, 1.8181272471987486, 0.8181872752801251),\n",
       " (151, 13, 1.8458184304946816, 0.8154181569505319),\n",
       " (151, 13, 1.876767429202236, 0.8123232570797765),\n",
       " (151, 13, 1.9112211316817869, 0.8088778868318214),\n",
       " (151, 12, 1.949465798554368, 0.8050534201445633),\n",
       " (151, 12, 1.9918332863340396, 0.8008166713665961),\n",
       " (151, 12, 2.0387089690575677, 0.7961291030942432),\n",
       " (151, 12, 2.0054235864692225, 0.7994576413530778),\n",
       " (151, 13, 1.9140926223573742, 0.8085907377642625),\n",
       " (151, 13, 1.832927119961525, 0.8167072880038475),\n",
       " (151, 13, 1.7604929736783075, 0.8239507026321693),\n",
       " (151, 13, 1.6956213995870806, 0.8304378600412919),\n",
       " (151, 13, 1.637350561557506, 0.8362649438442494),\n",
       " (151, 14, 1.5848822220366188, 0.8415117777963381),\n",
       " (151, 14, 1.5375492910943342, 0.8462450708905666),\n",
       " (151, 14, 1.4947903656360915, 0.8505209634363908),\n",
       " (151, 14, 1.4561303674579862, 0.8543869632542014),\n",
       " (151, 14, 1.4211653031102505, 0.857883469688975)]"
      ]
     },
     "execution_count": 10,
     "metadata": {},
     "output_type": "execute_result"
    }
   ],
   "source": [
    "robot[\"camera\"].scan"
   ]
  },
  {
   "cell_type": "code",
   "execution_count": 11,
   "metadata": {},
   "outputs": [
    {
     "data": {
      "text/plain": [
       "[[0.1461228864206821, 0.12172244605589383],\n",
       " [2.6372377111130882,\n",
       "  2.854330863239106,\n",
       "  2.0527609659953323,\n",
       "  1.5421885828814874,\n",
       "  1.4881493361730065,\n",
       "  1.8251022517793707,\n",
       "  1.1900404307087387,\n",
       "  1.0197245152096421,\n",
       "  1.0079192040998226,\n",
       "  1.1047337454336814,\n",
       "  1.5508853769772477,\n",
       "  2.205636881674792,\n",
       "  2.130937951766538,\n",
       "  1.2567712693888453,\n",
       "  3.0386776706954968,\n",
       "  2.6490431220491546]]"
      ]
     },
     "execution_count": 11,
     "metadata": {},
     "output_type": "execute_result"
    }
   ],
   "source": [
    "get_senses(robot)"
   ]
  },
  {
   "cell_type": "code",
   "execution_count": 12,
   "metadata": {},
   "outputs": [],
   "source": [
    "def generate_data(robot, make_world, trials, filename):\n",
    "    sim = Simulator(robot, make_world)\n",
    "    fp = open(filename, \"w\")\n",
    "    for i in range(trials):\n",
    "        #print(\"Trial %d\" % i)\n",
    "        random_start(robot)\n",
    "        while True:\n",
    "            senses = get_senses(robot)\n",
    "            translate, rotate = determine_move(senses)\n",
    "            if translate == 0 and rotate == 0:\n",
    "                break # found light, so end trial\n",
    "            robot.move(translate, rotate)\n",
    "            sim.step()\n",
    "            lights = senses[0]\n",
    "            sonars = [min(v/3.0, 1.0) for v in senses[1]] #normalize sonar values\n",
    "            for value in lights:\n",
    "                fp.write(\"%.3f \" % value)\n",
    "            for value in sonars[1:7]:\n",
    "                fp.write(\"%.3f \" % value)\n",
    "            fp.write(\"%.1f %.1f\\n\" % (translate, rotate))\n",
    "    fp.close()"
   ]
  },
  {
   "cell_type": "code",
   "execution_count": 13,
   "metadata": {},
   "outputs": [],
   "source": [
    "generate_data(robot, make_world, 5, \"testing_data.txt\")"
   ]
  },
  {
   "cell_type": "code",
   "execution_count": null,
   "metadata": {
    "collapsed": true
   },
   "outputs": [],
   "source": []
  }
 ],
 "metadata": {
  "kernelspec": {
   "display_name": "Python 3",
   "language": "python",
   "name": "python3"
  },
  "language_info": {
   "codemirror_mode": {
    "name": "ipython",
    "version": 3
   },
   "file_extension": ".py",
   "mimetype": "text/x-python",
   "name": "python",
   "nbconvert_exporter": "python",
   "pygments_lexer": "ipython3",
   "version": "3.6.3"
  },
  "widgets": {
   "application/vnd.jupyter.widget-state+json": {
    "state": {
     "0ad0256f5fed411e903156081eaef4a1": {
      "model_module": "@jupyter-widgets/controls",
      "model_module_version": "1.1.0",
      "model_name": "VBoxModel",
      "state": {
       "children": [
        "IPY_MODEL_46c8c20068ea44d6bd5cc6e698bbce56",
        "IPY_MODEL_4fc854f0b09e44fb976e03affe632af7",
        "IPY_MODEL_c81b8eec39c5433da1418451f9e8675c"
       ],
       "layout": "IPY_MODEL_34a07b62e5b14885b2cd41f22fc2195b"
      }
     },
     "0b08b8c30cb944aeb3bae53015efa23f": {
      "model_module": "@jupyter-widgets/base",
      "model_module_version": "1.0.0",
      "model_name": "LayoutModel",
      "state": {}
     },
     "0b8eaaf3f9f64fb8a1c2a3e0b39aaf20": {
      "model_module": "@jupyter-widgets/controls",
      "model_module_version": "1.1.0",
      "model_name": "DescriptionStyleModel",
      "state": {
       "description_width": ""
      }
     },
     "12545e2c073e485da384658c92a0f25f": {
      "model_module": "@jupyter-widgets/controls",
      "model_module_version": "1.1.0",
      "model_name": "FloatSliderModel",
      "state": {
       "layout": "IPY_MODEL_e970f538e5d344e28c36921d766c106d",
       "readout": false,
       "step": 0.1,
       "style": "IPY_MODEL_9b4086f743104614b0d6d1534d6d567e",
       "value": 49.061648258249804
      }
     },
     "125d296ef10e4c9d88c563c1fb893891": {
      "model_module": "@jupyter-widgets/controls",
      "model_module_version": "1.1.0",
      "model_name": "ButtonModel",
      "state": {
       "description": "Clear Output",
       "layout": "IPY_MODEL_e6e05fc2bd58466eba5c14b45fae6031",
       "style": "IPY_MODEL_b6c5e7ff248c48abb68581024f332c5f"
      }
     },
     "139fd26c00ea4b22bea7ecf008714e9a": {
      "model_module": "@jupyter-widgets/controls",
      "model_module_version": "1.1.0",
      "model_name": "PlayModel",
      "state": {
       "layout": "IPY_MODEL_0b08b8c30cb944aeb3bae53015efa23f",
       "max": 1000000,
       "style": "IPY_MODEL_0b8eaaf3f9f64fb8a1c2a3e0b39aaf20"
      }
     },
     "18cee8ab2ec7444dac28195d982f2c2f": {
      "model_module": "@jupyter-widgets/controls",
      "model_module_version": "1.1.0",
      "model_name": "HTMLModel",
      "state": {
       "layout": "IPY_MODEL_39ef5b15b2264672be18021228857716",
       "style": "IPY_MODEL_40d819da8226430b9ffd3179ca782d30",
       "value": "<svg baseProfile=\"full\" height=\"240\" version=\"1.1\" width=\"240\" xmlns=\"http://www.w3.org/2000/svg\" xmlns:ev=\"http://www.w3.org/2001/xml-events\" xmlns:xlink=\"http://www.w3.org/1999/xlink\"><defs /><rect fill=\"#eef3dd\" height=\"240.0\" stroke=\"#bebebe\" stroke-width=\"1\" width=\"240.0\" x=\"0.0\" y=\"0.0\" /><rect fill=\"#0000ff\" height=\"6.0\" stroke=\"#0000ff\" stroke-width=\"1\" width=\"30.0\" x=\"105.0\" y=\"60.0\" /><circle cx=\"120.0\" cy=\"30.0\" fill=\"#ffff00\" r=\"15.0\" stroke=\"#ffff00\" stroke-width=\"1\" /><line fill=\"#800080\" stroke=\"#a020f0\" stroke-width=\"1\" x1=\"71.2053742096764\" x2=\"240.0\" y1=\"138.888308849301\" y2=\"223.49519399999997\" /><line fill=\"#800080\" stroke=\"#a020f0\" stroke-width=\"1\" x1=\"71.2053742096764\" x2=\"0.0\" y1=\"138.888308849301\" y2=\"185.8005\" /><line fill=\"#800080\" stroke=\"#add8e6\" stroke-width=\"1\" x1=\"82.0406753842901\" x2=\"240.0\" y1=\"144.25917921223243\" y2=\"134.93535\" /><line fill=\"#800080\" stroke=\"#add8e6\" stroke-width=\"1\" x1=\"80.7907634514931\" x2=\"240.0\" y1=\"148.5402678775431\" y2=\"211.64617200000004\" /><line fill=\"#800080\" stroke=\"#add8e6\" stroke-width=\"1\" x1=\"78.50099716089444\" x2=\"163.09232060729397\" y1=\"150.4785584477204\" y2=\"240.0\" /><line fill=\"#800080\" stroke=\"#add8e6\" stroke-width=\"1\" x1=\"74.99563865228342\" x2=\"104.16944624633403\" y1=\"152.18807935315215\" y2=\"240.0\" /><line fill=\"#800080\" stroke=\"#add8e6\" stroke-width=\"1\" x1=\"69.00606390311286\" x2=\"51.01854511653697\" y1=\"152.54162471671737\" y2=\"240.0\" /><line fill=\"#800080\" stroke=\"#add8e6\" stroke-width=\"1\" x1=\"65.32393271271923\" x2=\"0.0\" y1=\"151.25635824756384\" y2=\"239.144796\" /><line fill=\"#800080\" stroke=\"#add8e6\" stroke-width=\"1\" x1=\"62.82203920398143\" x2=\"0.0\" y1=\"149.60090396823875\" y2=\"183.537576\" /><line fill=\"#800080\" stroke=\"#add8e6\" stroke-width=\"1\" x1=\"61.077163762193145\" x2=\"0.0\" y1=\"145.4965879847107\" y2=\"149.101776\" /><line fill=\"#800080\" stroke=\"#add8e6\" stroke-width=\"1\" x1=\"60.37007303506272\" x2=\"0.0\" y1=\"133.51743848636957\" y2=\"137.08089\" /><line fill=\"#800080\" stroke=\"#add8e6\" stroke-width=\"1\" x1=\"61.6199849678597\" x2=\"0.0\" y1=\"129.23634982105887\" y2=\"104.811984\" /><line fill=\"#800080\" stroke=\"#add8e6\" stroke-width=\"1\" x1=\"63.909751258458364\" x2=\"0.0\" y1=\"127.29805925088162\" y2=\"59.66354400000001\" /><line fill=\"#800080\" stroke=\"#add8e6\" stroke-width=\"1\" x1=\"67.4151097670694\" x2=\"25.690756098715674\" y1=\"125.58853834544988\" y2=\"0.0\" /><line fill=\"#800080\" stroke=\"#add8e6\" stroke-width=\"1\" x1=\"73.40468451623994\" x2=\"99.16170225071119\" y1=\"125.23499298188463\" y2=\"0.0\" /><line fill=\"#800080\" stroke=\"#add8e6\" stroke-width=\"1\" x1=\"77.08681570663359\" x2=\"122.06908777064315\" y1=\"126.52025945103814\" y2=\"66.0\" /><line fill=\"#800080\" stroke=\"#add8e6\" stroke-width=\"1\" x1=\"79.58870921537138\" x2=\"240.0\" y1=\"128.1757137303632\" y2=\"41.52099000000001\" /><line fill=\"#800080\" stroke=\"#add8e6\" stroke-width=\"1\" x1=\"81.33358465715966\" x2=\"240.0\" y1=\"132.28002971389134\" y2=\"122.91446400000001\" /><line fill=\"#800080\" stroke=\"#a020f0\" stroke-width=\"1\" x1=\"120.0\" x2=\"110.75517550698386\" y1=\"30.0\" y2=\"60.0\" /><line fill=\"#800080\" stroke=\"#a020f0\" stroke-width=\"1\" x1=\"120.0\" x2=\"105.73445854852109\" y1=\"30.0\" y2=\"60.0\" /><polygon fill=\"red\" points=\"76.79251107703459,152.08201574408258 82.2174480660727,147.2539665868177 81.15681197537705,129.28524233930605 75.20155694099111,125.12892937281508 65.61823734231822,125.69460195451943 60.1933003532801,130.5226511117843 61.25393644397575,148.49137535929597 67.2091914783617,152.64768832578693\" stroke=\"red\" stroke-width=\"1\" /><polygon points=\"-3.0,-3.0 0,0 3.0,-3.0 0,3.0\" stroke=\"black\" stroke-width=\"1\" transform=\"translate(71.2053742096764,138.888308849301) rotate(-3.378066270300717)\" /><polygon fill=\"black\" points=\"68.10659286916535,147.48584071627891 67.8237565783132,142.69418091694249 75.01124627731788,142.2699264806642 75.29408256817004,147.06158628000065\" stroke=\"black\" stroke-width=\"1\" /><circle cx=\"82.48260708874662\" cy=\"151.74614764869563\" fill=\"yellow\" r=\"1.5\" stroke=\"orange\" stroke-width=\"1\" /><circle cx=\"61.51909546664967\" cy=\"152.98355642117386\" fill=\"yellow\" r=\"1.5\" stroke=\"orange\" stroke-width=\"1\" /></svg>"
      }
     },
     "1c03dffceac5437f8df354028427106c": {
      "model_module": "@jupyter-widgets/controls",
      "model_module_version": "1.1.0",
      "model_name": "TextModel",
      "state": {
       "description": "Time:",
       "layout": "IPY_MODEL_7f13d0d2e45e42c989bce0e85100e910",
       "style": "IPY_MODEL_9f5f4da72fef4bc4b3d221a7b2a9a547",
       "value": "0.00 seconds"
      }
     },
     "1cefb94c38c24255b9a20f02ba4270c1": {
      "model_module": "@jupyter-widgets/controls",
      "model_module_version": "1.1.0",
      "model_name": "DescriptionStyleModel",
      "state": {
       "description_width": ""
      }
     },
     "23c74cb258944c4988b49f8e58504003": {
      "model_module": "@jupyter-widgets/base",
      "model_module_version": "1.0.0",
      "model_name": "LayoutModel",
      "state": {}
     },
     "248f0d7125564378b124a2faea992417": {
      "model_module": "@jupyter-widgets/base",
      "model_module_version": "1.0.0",
      "model_name": "LayoutModel",
      "state": {}
     },
     "2649fc6de92a48ca9b76ec48e79680fb": {
      "model_module": "@jupyter-widgets/controls",
      "model_module_version": "1.1.0",
      "model_name": "VBoxModel",
      "state": {
       "children": [
        "IPY_MODEL_a8be2e86a052414f888bf51d169e3f23",
        "IPY_MODEL_12545e2c073e485da384658c92a0f25f"
       ],
       "layout": "IPY_MODEL_643eab0ae30e4c1ea8d4cee537f14867"
      }
     },
     "34a07b62e5b14885b2cd41f22fc2195b": {
      "model_module": "@jupyter-widgets/base",
      "model_module_version": "1.0.0",
      "model_name": "LayoutModel",
      "state": {}
     },
     "39ef5b15b2264672be18021228857716": {
      "model_module": "@jupyter-widgets/base",
      "model_module_version": "1.0.0",
      "model_name": "LayoutModel",
      "state": {}
     },
     "40d819da8226430b9ffd3179ca782d30": {
      "model_module": "@jupyter-widgets/controls",
      "model_module_version": "1.1.0",
      "model_name": "DescriptionStyleModel",
      "state": {
       "description_width": ""
      }
     },
     "4273a31faffa45b59d1ff9ac19f44966": {
      "model_module": "@jupyter-widgets/controls",
      "model_module_version": "1.1.0",
      "model_name": "FloatSliderModel",
      "state": {
       "layout": "IPY_MODEL_65203ef03a484d2889493f0641ff3985",
       "readout": false,
       "step": 0.1,
       "style": "IPY_MODEL_a254fcb3812445f591e451167cbed3cd",
       "value": 29.668905920698503
      }
     },
     "46c8c20068ea44d6bd5cc6e698bbce56": {
      "model_module": "@jupyter-widgets/controls",
      "model_module_version": "1.1.0",
      "model_name": "VBoxModel",
      "state": {
       "children": [
        "IPY_MODEL_d78ccc72a567492381cd5f0cff4ddeab",
        "IPY_MODEL_f6aac6e7cea545688225be05a7c2a01a"
       ],
       "layout": "IPY_MODEL_94dcd7eb414c419a829fe655d9a8fa97"
      }
     },
     "47ace049db2945b09d01d186e0ba08db": {
      "model_module": "@jupyter-widgets/base",
      "model_module_version": "1.0.0",
      "model_name": "LayoutModel",
      "state": {}
     },
     "4fc854f0b09e44fb976e03affe632af7": {
      "model_module": "@jupyter-widgets/controls",
      "model_module_version": "1.1.0",
      "model_name": "HBoxModel",
      "state": {
       "children": [
        "IPY_MODEL_b8e6dafd2be2478c990bd6d4ce8e900e",
        "IPY_MODEL_139fd26c00ea4b22bea7ecf008714e9a",
        "IPY_MODEL_125d296ef10e4c9d88c563c1fb893891"
       ],
       "layout": "IPY_MODEL_c0fdfeb8b5694174a85cacbbb6c40e5f"
      }
     },
     "5705a4b04e6e41cab38fa8125311f567": {
      "model_module": "@jupyter-widgets/controls",
      "model_module_version": "1.1.0",
      "model_name": "FloatSliderModel",
      "state": {
       "layout": "IPY_MODEL_d24ee45d6b4746bf951c91986e20488f",
       "orientation": "vertical",
       "readout": false,
       "step": 0.1,
       "style": "IPY_MODEL_6213203250484a02941f0ce5412335a6",
       "value": 42.12987131279125
      }
     },
     "6213203250484a02941f0ce5412335a6": {
      "model_module": "@jupyter-widgets/controls",
      "model_module_version": "1.1.0",
      "model_name": "SliderStyleModel",
      "state": {
       "description_width": ""
      }
     },
     "643eab0ae30e4c1ea8d4cee537f14867": {
      "model_module": "@jupyter-widgets/base",
      "model_module_version": "1.0.0",
      "model_name": "LayoutModel",
      "state": {}
     },
     "65203ef03a484d2889493f0641ff3985": {
      "model_module": "@jupyter-widgets/base",
      "model_module_version": "1.0.0",
      "model_name": "LayoutModel",
      "state": {
       "height": "30px",
       "padding": "0px 0px 0px 10px",
       "width": "260px"
      }
     },
     "6bd21283be3646ca804107ba2aee203c": {
      "model_module": "@jupyter-widgets/controls",
      "model_module_version": "1.1.0",
      "model_name": "ButtonStyleModel",
      "state": {}
     },
     "7b144e0295174058a3ab79430a024a11": {
      "model_module": "@jupyter-widgets/controls",
      "model_module_version": "1.1.0",
      "model_name": "DescriptionStyleModel",
      "state": {
       "description_width": ""
      }
     },
     "7f13d0d2e45e42c989bce0e85100e910": {
      "model_module": "@jupyter-widgets/base",
      "model_module_version": "1.0.0",
      "model_name": "LayoutModel",
      "state": {}
     },
     "91337df1b48c46d7a1e02a2b4619f023": {
      "model_module": "@jupyter-widgets/controls",
      "model_module_version": "1.1.0",
      "model_name": "VBoxModel",
      "state": {
       "children": [
        "IPY_MODEL_a3ada089b3f3405d99adbf0748fead7b",
        "IPY_MODEL_4273a31faffa45b59d1ff9ac19f44966"
       ],
       "layout": "IPY_MODEL_dea6608b731542e490305fdf227e5976"
      }
     },
     "94dcd7eb414c419a829fe655d9a8fa97": {
      "model_module": "@jupyter-widgets/base",
      "model_module_version": "1.0.0",
      "model_name": "LayoutModel",
      "state": {}
     },
     "954e06b464ad4a2e9ce4e988d79cb485": {
      "model_module": "@jupyter-widgets/base",
      "model_module_version": "1.0.0",
      "model_name": "LayoutModel",
      "state": {}
     },
     "9b4086f743104614b0d6d1534d6d567e": {
      "model_module": "@jupyter-widgets/controls",
      "model_module_version": "1.1.0",
      "model_name": "SliderStyleModel",
      "state": {
       "description_width": ""
      }
     },
     "9e596740391d4bd18d96771b2c85ee2a": {
      "model_module": "@jupyter-widgets/base",
      "model_module_version": "1.0.0",
      "model_name": "LayoutModel",
      "state": {}
     },
     "9f5f4da72fef4bc4b3d221a7b2a9a547": {
      "model_module": "@jupyter-widgets/controls",
      "model_module_version": "1.1.0",
      "model_name": "DescriptionStyleModel",
      "state": {
       "description_width": ""
      }
     },
     "a254fcb3812445f591e451167cbed3cd": {
      "model_module": "@jupyter-widgets/controls",
      "model_module_version": "1.1.0",
      "model_name": "SliderStyleModel",
      "state": {
       "description_width": ""
      }
     },
     "a3ada089b3f3405d99adbf0748fead7b": {
      "model_module": "@jupyter-widgets/controls",
      "model_module_version": "1.1.0",
      "model_name": "HBoxModel",
      "state": {
       "children": [
        "IPY_MODEL_5705a4b04e6e41cab38fa8125311f567",
        "IPY_MODEL_18cee8ab2ec7444dac28195d982f2c2f"
       ],
       "layout": "IPY_MODEL_edf05a47b4564e0ab5d9cef7e9692836"
      }
     },
     "a8be2e86a052414f888bf51d169e3f23": {
      "model_module": "@jupyter-widgets/controls",
      "model_module_version": "1.1.0",
      "model_name": "HTMLModel",
      "state": {
       "layout": "IPY_MODEL_954e06b464ad4a2e9ce4e988d79cb485",
       "style": "IPY_MODEL_1cefb94c38c24255b9a20f02ba4270c1",
       "value": "<img style=\"image-rendering: pixelated;\" src=\"data:image/gif;base64,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\" width=\"240\"/>"
      }
     },
     "b6c5e7ff248c48abb68581024f332c5f": {
      "model_module": "@jupyter-widgets/controls",
      "model_module_version": "1.1.0",
      "model_name": "ButtonStyleModel",
      "state": {}
     },
     "b8e6dafd2be2478c990bd6d4ce8e900e": {
      "model_module": "@jupyter-widgets/controls",
      "model_module_version": "1.1.0",
      "model_name": "ButtonModel",
      "state": {
       "icon": "step-forward",
       "layout": "IPY_MODEL_d07e5f9fcad041a48f10041870733547",
       "style": "IPY_MODEL_6bd21283be3646ca804107ba2aee203c"
      }
     },
     "c0fdfeb8b5694174a85cacbbb6c40e5f": {
      "model_module": "@jupyter-widgets/base",
      "model_module_version": "1.0.0",
      "model_name": "LayoutModel",
      "state": {}
     },
     "c81b8eec39c5433da1418451f9e8675c": {
      "model_module": "@jupyter-widgets/output",
      "model_module_version": "1.1.0",
      "model_name": "OutputModel",
      "state": {
       "_model_module_version": "1.1.0",
       "_view_module_version": "1.1.0",
       "layout": "IPY_MODEL_23c74cb258944c4988b49f8e58504003"
      }
     },
     "cfef0d4500fc46e8a2ad5c16f3ce7aac": {
      "model_module": "@jupyter-widgets/base",
      "model_module_version": "1.0.0",
      "model_name": "LayoutModel",
      "state": {}
     },
     "d07e5f9fcad041a48f10041870733547": {
      "model_module": "@jupyter-widgets/base",
      "model_module_version": "1.0.0",
      "model_name": "LayoutModel",
      "state": {}
     },
     "d24ee45d6b4746bf951c91986e20488f": {
      "model_module": "@jupyter-widgets/base",
      "model_module_version": "1.0.0",
      "model_name": "LayoutModel",
      "state": {
       "height": "248px",
       "padding": "0px 0px 0px 0px",
       "width": "10px"
      }
     },
     "d78ccc72a567492381cd5f0cff4ddeab": {
      "model_module": "@jupyter-widgets/controls",
      "model_module_version": "1.1.0",
      "model_name": "HBoxModel",
      "state": {
       "children": [
        "IPY_MODEL_f5a063decb1a4ef58df3d6c63bf98e2d",
        "IPY_MODEL_dc3a14beb99c4502a3853555b1b46108",
        "IPY_MODEL_1c03dffceac5437f8df354028427106c"
       ],
       "layout": "IPY_MODEL_9e596740391d4bd18d96771b2c85ee2a"
      }
     },
     "dc3a14beb99c4502a3853555b1b46108": {
      "model_module": "@jupyter-widgets/controls",
      "model_module_version": "1.1.0",
      "model_name": "CheckboxModel",
      "state": {
       "description": "Trace Path",
       "disabled": false,
       "layout": "IPY_MODEL_248f0d7125564378b124a2faea992417",
       "style": "IPY_MODEL_e5dae2aedd04462f9e0c435ccb430b46",
       "value": false
      }
     },
     "dea6608b731542e490305fdf227e5976": {
      "model_module": "@jupyter-widgets/base",
      "model_module_version": "1.0.0",
      "model_name": "LayoutModel",
      "state": {}
     },
     "e5dae2aedd04462f9e0c435ccb430b46": {
      "model_module": "@jupyter-widgets/controls",
      "model_module_version": "1.1.0",
      "model_name": "DescriptionStyleModel",
      "state": {
       "description_width": ""
      }
     },
     "e6e05fc2bd58466eba5c14b45fae6031": {
      "model_module": "@jupyter-widgets/base",
      "model_module_version": "1.0.0",
      "model_name": "LayoutModel",
      "state": {}
     },
     "e970f538e5d344e28c36921d766c106d": {
      "model_module": "@jupyter-widgets/base",
      "model_module_version": "1.0.0",
      "model_name": "LayoutModel",
      "state": {
       "height": "20px",
       "padding": "0px 0px 0px 0px",
       "width": "248px"
      }
     },
     "ea083d07e188403c88cb8e51fa85f571": {
      "model_module": "@jupyter-widgets/base",
      "model_module_version": "1.0.0",
      "model_name": "LayoutModel",
      "state": {}
     },
     "edf05a47b4564e0ab5d9cef7e9692836": {
      "model_module": "@jupyter-widgets/base",
      "model_module_version": "1.0.0",
      "model_name": "LayoutModel",
      "state": {}
     },
     "f5a063decb1a4ef58df3d6c63bf98e2d": {
      "model_module": "@jupyter-widgets/controls",
      "model_module_version": "1.1.0",
      "model_name": "CheckboxModel",
      "state": {
       "description": "Update GUI",
       "disabled": false,
       "layout": "IPY_MODEL_ea083d07e188403c88cb8e51fa85f571",
       "style": "IPY_MODEL_7b144e0295174058a3ab79430a024a11",
       "value": true
      }
     },
     "f6aac6e7cea545688225be05a7c2a01a": {
      "model_module": "@jupyter-widgets/controls",
      "model_module_version": "1.1.0",
      "model_name": "HBoxModel",
      "state": {
       "children": [
        "IPY_MODEL_91337df1b48c46d7a1e02a2b4619f023",
        "IPY_MODEL_2649fc6de92a48ca9b76ec48e79680fb"
       ],
       "layout": "IPY_MODEL_f7c9267342644a41bd0f51ebcd4759f8"
      }
     },
     "f7c9267342644a41bd0f51ebcd4759f8": {
      "model_module": "@jupyter-widgets/base",
      "model_module_version": "1.0.0",
      "model_name": "LayoutModel",
      "state": {}
     },
     "fa5985fda58d459f823afb79dc7684b6": {
      "model_module": "@jupyter-widgets/base",
      "model_module_version": "1.0.0",
      "model_name": "LayoutModel",
      "state": {}
     }
    },
    "version_major": 2,
    "version_minor": 0
   }
  }
 },
 "nbformat": 4,
 "nbformat_minor": 2
}
