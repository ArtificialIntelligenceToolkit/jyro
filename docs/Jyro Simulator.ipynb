{
 "cells": [
  {
   "cell_type": "markdown",
   "metadata": {
    "deletable": true,
    "editable": true
   },
   "source": [
    "# Jyro Python Robot Simulator\n",
    "\n",
    "## Pure-Python simulator for robots."
   ]
  },
  {
   "cell_type": "code",
   "execution_count": 1,
   "metadata": {
    "collapsed": false,
    "deletable": true,
    "editable": true
   },
   "outputs": [],
   "source": [
    "from jyro.simulator import (Pioneer, Simulator, Camera,\n",
    "                            PioneerFrontSonars, Gripper,\n",
    "                            PioneerFrontLightSensors, Color)\n",
    "import math"
   ]
  },
  {
   "cell_type": "code",
   "execution_count": 2,
   "metadata": {
    "collapsed": true
   },
   "outputs": [],
   "source": [
    "sim = Simulator()"
   ]
  },
  {
   "cell_type": "code",
   "execution_count": 3,
   "metadata": {
    "collapsed": false,
    "deletable": true,
    "editable": true
   },
   "outputs": [],
   "source": [
    "def world(sim):\n",
    "    sim.addBox(0, 0, 10, 10, fill=\"white\", wallcolor=\"grey\") # meters\n",
    "    sim.addBox(2, 2, 3, 3, \"purple\")\n",
    "    ## brightness of 1 is radius 1 meter\n",
    "    sim.addLight(7, 7, 4.25, color=Color(255, 255, 0, 64))"
   ]
  },
  {
   "cell_type": "code",
   "execution_count": 4,
   "metadata": {
    "collapsed": true
   },
   "outputs": [],
   "source": [
    "world(sim)"
   ]
  },
  {
   "cell_type": "code",
   "execution_count": 5,
   "metadata": {
    "collapsed": true
   },
   "outputs": [],
   "source": [
    "import random\n",
    "\n",
    "class MyPioneer(Pioneer):\n",
    "    def __init__(self, name, x, y, angle):\n",
    "        Pioneer.__init__(self, name, x, y, angle)\n",
    "        self.addDevice(PioneerFrontSonars(maxRange=4.0))\n",
    "        self.addDevice(Gripper())\n",
    "        self.addDevice(PioneerFrontLightSensors())\n",
    "        \n",
    "    def brain(self):\n",
    "        self.move(random.random() * 2 - 1, \n",
    "                  random.random() * 2 - 1)"
   ]
  },
  {
   "cell_type": "code",
   "execution_count": 6,
   "metadata": {
    "collapsed": true
   },
   "outputs": [],
   "source": [
    "robot = MyPioneer(\"Pioneer\", 5.00, 5.00, math.pi / 2) # meters, radians"
   ]
  },
  {
   "cell_type": "code",
   "execution_count": 7,
   "metadata": {
    "collapsed": false,
    "deletable": true,
    "editable": true
   },
   "outputs": [],
   "source": [
    "sim.addRobot(robot)"
   ]
  },
  {
   "cell_type": "code",
   "execution_count": 8,
   "metadata": {
    "collapsed": true,
    "deletable": true,
    "editable": true
   },
   "outputs": [],
   "source": [
    "from jyro.simulator.svgcanvas import SVGCanvas\n",
    "\n",
    "canvas = SVGCanvas((250, 250))"
   ]
  },
  {
   "cell_type": "code",
   "execution_count": 9,
   "metadata": {
    "collapsed": false,
    "deletable": true,
    "editable": true
   },
   "outputs": [
    {
     "data": {
      "image/svg+xml": [
       "<svg baseProfile=\"full\" height=\"250\" version=\"1.1\" width=\"250\" xmlns=\"http://www.w3.org/2000/svg\" xmlns:ev=\"http://www.w3.org/2001/xml-events\" xmlns:xlink=\"http://www.w3.org/1999/xlink\"><defs /><rect fill=\"white\" height=\"250\" stroke=\"#000000\" stroke-width=\"1\" width=\"250\" x=\"0\" y=\"0\" /><rect fill=\"white\" height=\"250.0\" stroke=\"grey\" stroke-width=\"1\" width=\"250.0\" x=\"0.0\" y=\"0.0\" /><rect fill=\"purple\" height=\"25.0\" stroke=\"purple\" stroke-width=\"1\" width=\"25.0\" x=\"50.0\" y=\"175.0\" /><circle cx=\"175.0\" cy=\"75.0\" fill=\"rgba(255,255,0,0.25098039215686274)\" r=\"106.25\" stroke=\"orange\" stroke-width=\"1\" /><line fill=\"#800080\" stroke=\"lightgray\" stroke-width=\"1\" x1=\"122.50000000000001\" x2=\"122.49999999999999\" y1=\"129.375\" y2=\"229.37500000000003\" /><line fill=\"#800080\" stroke=\"lightgray\" stroke-width=\"1\" x1=\"120.75\" x2=\"78.48817382593005\" y1=\"128.75\" y2=\"219.38077870366502\" /><line fill=\"#800080\" stroke=\"black\" stroke-width=\"1\" x1=\"120.0\" x2=\"63.68964125355322\" y1=\"127.75000000000001\" y2=\"175.0\" /><line fill=\"#800080\" stroke=\"lightgray\" stroke-width=\"1\" x1=\"119.37500000000001\" x2=\"22.782417371093178\" y1=\"126.25\" y2=\"152.13190451025204\" /><line fill=\"#800080\" stroke=\"lightgray\" stroke-width=\"1\" x1=\"119.37500000000001\" x2=\"22.782417371093178\" y1=\"123.75\" y2=\"97.86809548974793\" /><line fill=\"#800080\" stroke=\"lightgray\" stroke-width=\"1\" x1=\"120.0\" x2=\"43.39555568810219\" y1=\"122.24999999999999\" y2=\"57.971239031346045\" /><line fill=\"#800080\" stroke=\"lightgray\" stroke-width=\"1\" x1=\"120.75\" x2=\"78.48817382593006\" y1=\"121.24999999999999\" y2=\"30.619221296334985\" /><line fill=\"#800080\" stroke=\"lightgray\" stroke-width=\"1\" x1=\"122.50000000000001\" x2=\"122.50000000000001\" y1=\"120.625\" y2=\"20.624999999999982\" /><line fill=\"#800080\" stroke=\"purple\" stroke-width=\"1\" x1=\"175.0\" x2=\"128.32614990812027\" y1=\"75.0\" y2=\"120.625\" /><line fill=\"#800080\" stroke=\"orange\" stroke-width=\"1\" x1=\"175.0\" x2=\"119.37500000000001\" y1=\"75.0\" y2=\"120.625\" /><polygon fill=\"red\" points=\"119.37500000000001,127.0 121.24999999999999,129.375 128.75,129.375 130.625,127.0 130.625,123.0 128.75,120.625 121.24999999999999,120.625 119.37500000000001,123.0\" stroke=\"black\" stroke-width=\"1\" /><polygon fill=\"black\" points=\"121.50000000000001,123.50000000000001 123.50000000000001,123.50000000000001 123.50000000000001,126.49999999999999 121.50000000000001,126.49999999999999\" stroke=\"black\" stroke-width=\"1\" /><line fill=\"#800080\" stroke=\"black\" stroke-width=\"1\" x1=\"119.37500000000001\" x2=\"119.37500000000001\" y1=\"128.0\" y2=\"122.0\" /><polygon fill=\"black\" points=\"119.37500000000001,128.25 114.375,128.25 114.375,127.75000000000001 119.37500000000001,127.75000000000001\" stroke=\"black\" stroke-width=\"1\" /><polygon fill=\"black\" points=\"119.37500000000001,122.24999999999999 114.375,122.24999999999999 114.375,121.75 119.37500000000001,121.75\" stroke=\"black\" stroke-width=\"1\" /></svg>"
      ],
      "text/plain": [
       "<jyro.simulator.svgcanvas.SVGCanvas at 0x7f7005d06588>"
      ]
     },
     "execution_count": 9,
     "metadata": {},
     "output_type": "execute_result"
    }
   ],
   "source": [
    "sim.draw(canvas)"
   ]
  },
  {
   "cell_type": "code",
   "execution_count": 10,
   "metadata": {
    "collapsed": false,
    "deletable": true,
    "editable": true
   },
   "outputs": [
    {
     "data": {
      "text/plain": [
       "(5.0, 5.0, 1.5707963267948966)"
      ]
     },
     "execution_count": 10,
     "metadata": {},
     "output_type": "execute_result"
    }
   ],
   "source": [
    "sim[\"Pioneer\"].getPose()"
   ]
  },
  {
   "cell_type": "code",
   "execution_count": 11,
   "metadata": {
    "collapsed": true,
    "deletable": true,
    "editable": true
   },
   "outputs": [],
   "source": [
    "sim[\"Pioneer\"].move(1, 1)"
   ]
  },
  {
   "cell_type": "code",
   "execution_count": 12,
   "metadata": {
    "collapsed": true,
    "deletable": true,
    "editable": true
   },
   "outputs": [],
   "source": [
    "from IPython.display import display, clear_output"
   ]
  },
  {
   "cell_type": "code",
   "execution_count": 18,
   "metadata": {
    "collapsed": false,
    "deletable": true,
    "editable": true
   },
   "outputs": [
    {
     "data": {
      "image/svg+xml": [
       "<svg baseProfile=\"full\" height=\"250\" version=\"1.1\" width=\"250\" xmlns=\"http://www.w3.org/2000/svg\" xmlns:ev=\"http://www.w3.org/2001/xml-events\" xmlns:xlink=\"http://www.w3.org/1999/xlink\"><defs /><rect fill=\"white\" height=\"250\" stroke=\"#000000\" stroke-width=\"1\" width=\"250\" x=\"0\" y=\"0\" /><rect fill=\"white\" height=\"250.0\" stroke=\"grey\" stroke-width=\"1\" width=\"250.0\" x=\"0.0\" y=\"0.0\" /><rect fill=\"purple\" height=\"25.0\" stroke=\"purple\" stroke-width=\"1\" width=\"25.0\" x=\"50.0\" y=\"175.0\" /><circle cx=\"175.0\" cy=\"75.0\" fill=\"rgba(255,255,0,0.25098039215686274)\" r=\"106.25\" stroke=\"orange\" stroke-width=\"1\" /><line fill=\"#800080\" stroke=\"lightgray\" stroke-width=\"1\" x1=\"141.55446078945425\" x2=\"58.523509932946496\" y1=\"160.42402876987651\" y2=\"104.69377486892797\" /><line fill=\"#800080\" stroke=\"lightgray\" stroke-width=\"1\" x1=\"143.04868367557404\" x2=\"91.34970937925038\" y1=\"159.31930121676854\" y2=\"73.72014201115446\" /><line fill=\"#800080\" stroke=\"lightgray\" stroke-width=\"1\" x1=\"144.29697008839622\" x2=\"133.61755497177242\" y1=\"159.25387162435422\" y2=\"59.82575642162684\" /><line fill=\"#800080\" stroke=\"lightgray\" stroke-width=\"1\" x1=\"145.89074843812477\" x2=\"178.23204857206244\" y1=\"159.57088199001527\" y2=\"64.94509107841147\" /><line fill=\"#800080\" stroke=\"lightgray\" stroke-width=\"1\" x1=\"147.96652220953746\" x2=\"223.2878051727464\" y1=\"160.964138337539\" y2=\"95.18644962186423\" /><line fill=\"#800080\" stroke=\"lightgray\" stroke-width=\"1\" x1=\"148.86367238550415\" x2=\"244.9267901309907\" y1=\"162.31903558890642\" y2=\"134.53635377060834\" /><line fill=\"#800080\" stroke=\"lightgray\" stroke-width=\"1\" x1=\"149.2760049898121\" x2=\"248.08022534610922\" y1=\"163.4990702593397\" y2=\"178.9174372216442\" /><line fill=\"#800080\" stroke=\"lightgray\" stroke-width=\"1\" x1=\"148.81966898939868\" x2=\"231.85061984590644\" y1=\"165.30042598620952\" y2=\"221.03067988715804\" /><line fill=\"#800080\" stroke=\"orange\" stroke-width=\"1\" x1=\"175.0\" x2=\"143.2960312238589\" y1=\"75.0\" y2=\"157.82931155561064\" /><line fill=\"#800080\" stroke=\"purple\" stroke-width=\"1\" x1=\"175.0\" x2=\"151.73671917756297\" y1=\"75.0\" y2=\"158.48715287814207\" /><polygon fill=\"red\" points=\"145.26801630670096,159.15290508575816 142.25108896321612,159.38614188417017 138.07131992064495,165.61346319840825 138.99836274284425,168.4938870571153 142.31960077710454,170.72309721315324 145.33652812058938,170.48986041474126 149.51629716316054,164.26253910050318 148.58925434096128,161.3821152417961\" stroke=\"black\" stroke-width=\"1\" /><polygon fill=\"black\" points=\"146.98983169128357,162.86787167799218 145.8752266132646,164.52849069512231 143.38429808756936,162.85658307809385 144.49890316558833,161.19596406096372\" stroke=\"black\" stroke-width=\"1\" /><line fill=\"#800080\" stroke=\"black\" stroke-width=\"1\" x1=\"144.43770679813588\" x2=\"149.41956384952636\" y1=\"158.59560254674867\" y2=\"161.9394177808056\" /><polygon fill=\"black\" points=\"144.23012942099461,158.4562769119963 147.01664211604202,154.30472936917093 147.43179687032458,154.58338063867566 144.64528417527717,158.73492818150106\" stroke=\"black\" stroke-width=\"1\" /><polygon fill=\"black\" points=\"149.21198647238506,161.80009214605323 151.9984991674325,157.64854460322783 152.41365392171505,157.9271958727326 149.62714122666762,162.07874341555797\" stroke=\"black\" stroke-width=\"1\" /></svg>"
      ],
      "text/plain": [
       "<jyro.simulator.svgcanvas.SVGCanvas at 0x7f7005d06588>"
      ]
     },
     "metadata": {},
     "output_type": "display_data"
    }
   ],
   "source": [
    "import time\n",
    "\n",
    "for i in range(30):\n",
    "    sim.step(run_brain=False)\n",
    "    for r in sim.robots:\n",
    "        sim.draw(canvas)\n",
    "        clear_output(wait=True)\n",
    "        display(canvas)\n",
    "        time.sleep(.1)"
   ]
  },
  {
   "cell_type": "code",
   "execution_count": 19,
   "metadata": {
    "collapsed": false,
    "deletable": true,
    "editable": true
   },
   "outputs": [
    {
     "name": "stdout",
     "output_type": "stream",
     "text": [
      "CPU times: user 464 ms, sys: 0 ns, total: 464 ms\n",
      "Wall time: 468 ms\n"
     ]
    }
   ],
   "source": [
    "%%time\n",
    "\n",
    "import numpy\n",
    "\n",
    "light0 = numpy.zeros((100,100))\n",
    "light1 = numpy.zeros((100,100))\n",
    "\n",
    "for i in range(500):\n",
    "    sim.step(run_brain=False)\n",
    "    for r in sim.robots:\n",
    "        light0[int(r._gx/10 * 100), int(r._gy/10 * 100)] = r.device[\"light\"].scan[0]        \n",
    "        light1[int(r._gx/10 * 100), int(r._gy/10 * 100)] = r.device[\"light\"].scan[1]"
   ]
  },
  {
   "cell_type": "markdown",
   "metadata": {
    "deletable": true,
    "editable": true
   },
   "source": [
    "500 steps * 0.1 seconds/step = 50 seconds\n",
    "\n",
    "50 seconds / XXX ms"
   ]
  },
  {
   "cell_type": "code",
   "execution_count": 20,
   "metadata": {
    "collapsed": false,
    "deletable": true,
    "editable": true
   },
   "outputs": [
    {
     "data": {
      "text/plain": [
       "113.12217194570135"
      ]
     },
     "execution_count": 20,
     "metadata": {},
     "output_type": "execute_result"
    }
   ],
   "source": [
    "50 / 0.442"
   ]
  },
  {
   "cell_type": "markdown",
   "metadata": {
    "deletable": true,
    "editable": true
   },
   "source": [
    "Looks like it simulates about 80 - 100 simulated seconds for every real second, or is 80 - 100 times faster than real life."
   ]
  },
  {
   "cell_type": "markdown",
   "metadata": {
    "deletable": true,
    "editable": true
   },
   "source": [
    "## Checking Light Readings\n",
    "\n",
    "New simulated light sensors are 75% direct light and 25% ambient light."
   ]
  },
  {
   "cell_type": "code",
   "execution_count": 21,
   "metadata": {
    "collapsed": false,
    "deletable": true,
    "editable": true
   },
   "outputs": [],
   "source": [
    "%matplotlib inline\n",
    "import matplotlib.pyplot as plt"
   ]
  },
  {
   "cell_type": "code",
   "execution_count": 22,
   "metadata": {
    "collapsed": false,
    "deletable": true,
    "editable": true
   },
   "outputs": [
    {
     "data": {
      "text/plain": [
       "<matplotlib.colorbar.Colorbar at 0x7f700216ce10>"
      ]
     },
     "execution_count": 22,
     "metadata": {},
     "output_type": "execute_result"
    },
    {
     "data": {
      "image/png": "[encoded data removed]",
      "text/plain": [
       "<matplotlib.figure.Figure at 0x7f700422f7b8>"
      ]
     },
     "metadata": {},
     "output_type": "display_data"
    }
   ],
   "source": [
    "fig1 = plt.figure()\n",
    "sp0 = fig1.add_subplot(111)\n",
    "p0 = sp0.matshow(light0, origin=\"lower\")\n",
    "fig1.colorbar(p0)"
   ]
  },
  {
   "cell_type": "code",
   "execution_count": 23,
   "metadata": {
    "collapsed": false,
    "deletable": true,
    "editable": true
   },
   "outputs": [
    {
     "data": {
      "text/plain": [
       "<matplotlib.colorbar.Colorbar at 0x7f700206c828>"
      ]
     },
     "execution_count": 23,
     "metadata": {},
     "output_type": "execute_result"
    },
    {
     "data": {
      "image/png": "[encoded data removed]",
      "text/plain": [
       "<matplotlib.figure.Figure at 0x7f700217aa90>"
      ]
     },
     "metadata": {},
     "output_type": "display_data"
    }
   ],
   "source": [
    "fig2 = plt.figure()\n",
    "sp1 = fig2.add_subplot(111)\n",
    "p1 = sp1.matshow(light1, origin=\"lower\")\n",
    "fig2.colorbar(p1)"
   ]
  },
  {
   "cell_type": "markdown",
   "metadata": {
    "deletable": true,
    "editable": true
   },
   "source": [
    "## Differences between two light sensors"
   ]
  },
  {
   "cell_type": "code",
   "execution_count": 24,
   "metadata": {
    "collapsed": false,
    "deletable": true,
    "editable": true
   },
   "outputs": [
    {
     "data": {
      "text/plain": [
       "<matplotlib.colorbar.Colorbar at 0x7f7001fab518>"
      ]
     },
     "execution_count": 24,
     "metadata": {},
     "output_type": "execute_result"
    },
    {
     "data": {
      "image/png": "[encoded data removed]",
      "text/plain": [
       "<matplotlib.figure.Figure at 0x7f700212dcc0>"
      ]
     },
     "metadata": {},
     "output_type": "display_data"
    }
   ],
   "source": [
    "fig3 = plt.figure()\n",
    "sp3 = fig3.add_subplot(111)\n",
    "p3 = sp3.matshow(light1 - light0, origin=\"lower\")\n",
    "fig3.colorbar(p3)"
   ]
  },
  {
   "cell_type": "code",
   "execution_count": 25,
   "metadata": {
    "collapsed": false,
    "deletable": true,
    "editable": true
   },
   "outputs": [],
   "source": [
    "def sampleLight(angle, resolution=50):\n",
    "    light0 = numpy.zeros((resolution,resolution))\n",
    "    light1 = numpy.zeros((resolution,resolution))\n",
    "\n",
    "    for x in range(resolution):\n",
    "        for y in range(resolution):\n",
    "            for r in sim.robots:\n",
    "                r.setPose(x/resolution * 10, \n",
    "                          y/resolution * 10, \n",
    "                          angle) \n",
    "                light0[x, y] = r.device[\"light\"].scan[0]        \n",
    "                light1[x, y] = r.device[\"light\"].scan[1]\n",
    "    fig = plt.figure()\n",
    "    sp = fig.add_subplot(111)\n",
    "    p = sp.matshow(light0, origin=\"lower\")\n",
    "    fig.colorbar(p)"
   ]
  },
  {
   "cell_type": "code",
   "execution_count": 26,
   "metadata": {
    "collapsed": false,
    "deletable": true,
    "editable": true
   },
   "outputs": [
    {
     "data": {
      "image/svg+xml": [
       "<svg baseProfile=\"full\" height=\"250\" version=\"1.1\" width=\"250\" xmlns=\"http://www.w3.org/2000/svg\" xmlns:ev=\"http://www.w3.org/2001/xml-events\" xmlns:xlink=\"http://www.w3.org/1999/xlink\"><defs /><rect fill=\"white\" height=\"250\" stroke=\"#000000\" stroke-width=\"1\" width=\"250\" x=\"0\" y=\"0\" /><rect fill=\"white\" height=\"250.0\" stroke=\"grey\" stroke-width=\"1\" width=\"250.0\" x=\"0.0\" y=\"0.0\" /><rect fill=\"purple\" height=\"25.0\" stroke=\"purple\" stroke-width=\"1\" width=\"25.0\" x=\"50.0\" y=\"175.0\" /><circle cx=\"175.0\" cy=\"75.0\" fill=\"rgba(255,255,0,0.25098039215686274)\" r=\"106.25\" stroke=\"orange\" stroke-width=\"1\" /><line fill=\"#800080\" stroke=\"lightgray\" stroke-width=\"1\" x1=\"120.625\" x2=\"20.625000000000004\" y1=\"122.50000000000001\" y2=\"122.50000000000001\" /><line fill=\"#800080\" stroke=\"lightgray\" stroke-width=\"1\" x1=\"121.24999999999999\" x2=\"30.619221296335\" y1=\"120.75\" y2=\"78.48817382593005\" /><line fill=\"#800080\" stroke=\"lightgray\" stroke-width=\"1\" x1=\"122.24999999999999\" x2=\"57.971239031346066\" y1=\"120.0\" y2=\"43.395555688102185\" /><line fill=\"#800080\" stroke=\"lightgray\" stroke-width=\"1\" x1=\"123.75\" x2=\"97.86809548974793\" y1=\"119.37500000000001\" y2=\"22.78241737109319\" /><line fill=\"#800080\" stroke=\"lightgray\" stroke-width=\"1\" x1=\"126.25\" x2=\"152.13190451025207\" y1=\"119.37500000000001\" y2=\"22.78241737109319\" /><line fill=\"#800080\" stroke=\"lightgray\" stroke-width=\"1\" x1=\"127.75000000000001\" x2=\"192.02876096865393\" y1=\"120.0\" y2=\"43.395555688102185\" /><line fill=\"#800080\" stroke=\"lightgray\" stroke-width=\"1\" x1=\"128.75\" x2=\"219.38077870366502\" y1=\"120.75\" y2=\"78.48817382593005\" /><line fill=\"#800080\" stroke=\"lightgray\" stroke-width=\"1\" x1=\"129.375\" x2=\"229.37500000000003\" y1=\"122.50000000000001\" y2=\"122.50000000000001\" /><line fill=\"#800080\" stroke=\"orange\" stroke-width=\"1\" x1=\"175.0\" x2=\"120.625\" y1=\"75.0\" y2=\"119.37500000000001\" /><line fill=\"#800080\" stroke=\"orange\" stroke-width=\"1\" x1=\"175.0\" x2=\"129.375\" y1=\"75.0\" y2=\"119.37500000000001\" /><polygon fill=\"red\" points=\"123.0,119.37500000000001 120.625,121.24999999999999 120.625,128.75 123.0,130.625 127.0,130.625 129.375,128.75 129.375,121.24999999999999 127.0,119.37500000000001\" stroke=\"black\" stroke-width=\"1\" /><polygon fill=\"black\" points=\"126.49999999999999,121.50000000000001 126.49999999999999,123.50000000000001 123.50000000000001,123.50000000000001 123.50000000000001,121.50000000000001\" stroke=\"black\" stroke-width=\"1\" /><line fill=\"#800080\" stroke=\"black\" stroke-width=\"1\" x1=\"122.0\" x2=\"128.0\" y1=\"119.37500000000001\" y2=\"119.37500000000001\" /><polygon fill=\"black\" points=\"121.75,119.37500000000001 121.75,114.375 122.24999999999999,114.375 122.24999999999999,119.37500000000001\" stroke=\"black\" stroke-width=\"1\" /><polygon fill=\"black\" points=\"127.75000000000001,119.37500000000001 127.75000000000001,114.375 128.25,114.375 128.25,119.37500000000001\" stroke=\"black\" stroke-width=\"1\" /></svg>"
      ],
      "text/plain": [
       "<jyro.simulator.svgcanvas.SVGCanvas at 0x7f7005d06588>"
      ]
     },
     "execution_count": 26,
     "metadata": {},
     "output_type": "execute_result"
    }
   ],
   "source": [
    "robot.setPose(5, 5, 0)\n",
    "sim.draw(canvas)"
   ]
  },
  {
   "cell_type": "code",
   "execution_count": 27,
   "metadata": {
    "collapsed": false,
    "deletable": true,
    "editable": true
   },
   "outputs": [
    {
     "data": {
      "image/png": "[encoded data removed]",
      "text/plain": [
       "<matplotlib.figure.Figure at 0x7f70304624a8>"
      ]
     },
     "metadata": {},
     "output_type": "display_data"
    }
   ],
   "source": [
    "sampleLight(0) # face up, north"
   ]
  },
  {
   "cell_type": "code",
   "execution_count": 28,
   "metadata": {
    "collapsed": false,
    "deletable": true,
    "editable": true
   },
   "outputs": [
    {
     "data": {
      "image/svg+xml": [
       "<svg baseProfile=\"full\" height=\"250\" version=\"1.1\" width=\"250\" xmlns=\"http://www.w3.org/2000/svg\" xmlns:ev=\"http://www.w3.org/2001/xml-events\" xmlns:xlink=\"http://www.w3.org/1999/xlink\"><defs /><rect fill=\"white\" height=\"250\" stroke=\"#000000\" stroke-width=\"1\" width=\"250\" x=\"0\" y=\"0\" /><rect fill=\"white\" height=\"250.0\" stroke=\"grey\" stroke-width=\"1\" width=\"250.0\" x=\"0.0\" y=\"0.0\" /><rect fill=\"purple\" height=\"25.0\" stroke=\"purple\" stroke-width=\"1\" width=\"25.0\" x=\"50.0\" y=\"175.0\" /><circle cx=\"175.0\" cy=\"75.0\" fill=\"rgba(255,255,0,0.25098039215686274)\" r=\"106.25\" stroke=\"orange\" stroke-width=\"1\" /><line fill=\"#800080\" stroke=\"lightgray\" stroke-width=\"1\" x1=\"129.375\" x2=\"229.37500000000003\" y1=\"127.49999999999999\" y2=\"127.50000000000001\" /><line fill=\"#800080\" stroke=\"lightgray\" stroke-width=\"1\" x1=\"128.75\" x2=\"219.38077870366502\" y1=\"129.25\" y2=\"171.51182617406994\" /><line fill=\"#800080\" stroke=\"lightgray\" stroke-width=\"1\" x1=\"127.75000000000001\" x2=\"192.02876096865393\" y1=\"130.0\" y2=\"206.60444431189782\" /><line fill=\"#800080\" stroke=\"lightgray\" stroke-width=\"1\" x1=\"126.25\" x2=\"152.13190451025207\" y1=\"130.625\" y2=\"227.21758262890683\" /><line fill=\"#800080\" stroke=\"lightgray\" stroke-width=\"1\" x1=\"123.75\" x2=\"97.8680954897479\" y1=\"130.625\" y2=\"227.21758262890683\" /><line fill=\"#800080\" stroke=\"black\" stroke-width=\"1\" x1=\"122.24999999999999\" x2=\"75.0\" y1=\"130.0\" y2=\"186.3103575\" /><line fill=\"#800080\" stroke=\"lightgray\" stroke-width=\"1\" x1=\"121.24999999999999\" x2=\"30.619221296334985\" y1=\"129.25\" y2=\"171.51182617406994\" /><line fill=\"#800080\" stroke=\"lightgray\" stroke-width=\"1\" x1=\"120.625\" x2=\"20.625000000000004\" y1=\"127.49999999999999\" y2=\"127.49999999999999\" /><line fill=\"#800080\" stroke=\"orange\" stroke-width=\"1\" x1=\"175.0\" x2=\"129.375\" y1=\"75.0\" y2=\"130.625\" /><line fill=\"#800080\" stroke=\"purple\" stroke-width=\"1\" x1=\"175.0\" x2=\"129.375\" y1=\"75.0\" y2=\"121.6738503125\" /><polygon fill=\"red\" points=\"127.0,130.625 129.375,128.75 129.375,121.24999999999999 127.0,119.37500000000001 123.0,119.37500000000001 120.625,121.24999999999999 120.625,128.75 123.0,130.625\" stroke=\"black\" stroke-width=\"1\" /><polygon fill=\"black\" points=\"123.50000000000001,128.5 123.50000000000001,126.49999999999999 126.49999999999999,126.49999999999999 126.49999999999999,128.5\" stroke=\"black\" stroke-width=\"1\" /><line fill=\"#800080\" stroke=\"black\" stroke-width=\"1\" x1=\"128.0\" x2=\"122.0\" y1=\"130.625\" y2=\"130.625\" /><polygon fill=\"black\" points=\"128.25,130.625 128.25,135.625 127.75000000000001,135.625 127.75000000000001,130.625\" stroke=\"black\" stroke-width=\"1\" /><polygon fill=\"black\" points=\"122.24999999999999,130.625 122.24999999999999,135.625 121.75,135.625 121.75,130.625\" stroke=\"black\" stroke-width=\"1\" /></svg>"
      ],
      "text/plain": [
       "<jyro.simulator.svgcanvas.SVGCanvas at 0x7f7005d06588>"
      ]
     },
     "execution_count": 28,
     "metadata": {},
     "output_type": "execute_result"
    }
   ],
   "source": [
    "robot.setPose(5, 5, math.pi)\n",
    "sim.draw(canvas)"
   ]
  },
  {
   "cell_type": "code",
   "execution_count": 29,
   "metadata": {
    "collapsed": false,
    "deletable": true,
    "editable": true
   },
   "outputs": [
    {
     "data": {
      "image/png": "[encoded data removed]",
      "text/plain": [
       "<matplotlib.figure.Figure at 0x7f7005d27940>"
      ]
     },
     "metadata": {},
     "output_type": "display_data"
    }
   ],
   "source": [
    "sampleLight(math.pi)"
   ]
  },
  {
   "cell_type": "code",
   "execution_count": 30,
   "metadata": {
    "collapsed": false,
    "deletable": true,
    "editable": true
   },
   "outputs": [
    {
     "data": {
      "image/svg+xml": [
       "<svg baseProfile=\"full\" height=\"250\" version=\"1.1\" width=\"250\" xmlns=\"http://www.w3.org/2000/svg\" xmlns:ev=\"http://www.w3.org/2001/xml-events\" xmlns:xlink=\"http://www.w3.org/1999/xlink\"><defs /><rect fill=\"white\" height=\"250\" stroke=\"#000000\" stroke-width=\"1\" width=\"250\" x=\"0\" y=\"0\" /><rect fill=\"white\" height=\"250.0\" stroke=\"grey\" stroke-width=\"1\" width=\"250.0\" x=\"0.0\" y=\"0.0\" /><rect fill=\"purple\" height=\"25.0\" stroke=\"purple\" stroke-width=\"1\" width=\"25.0\" x=\"50.0\" y=\"175.0\" /><circle cx=\"175.0\" cy=\"75.0\" fill=\"rgba(255,255,0,0.25098039215686274)\" r=\"106.25\" stroke=\"orange\" stroke-width=\"1\" /><line fill=\"#800080\" stroke=\"lightgray\" stroke-width=\"1\" x1=\"122.50000000000001\" x2=\"122.49999999999999\" y1=\"129.375\" y2=\"229.37500000000003\" /><line fill=\"#800080\" stroke=\"lightgray\" stroke-width=\"1\" x1=\"120.75\" x2=\"78.48817382593005\" y1=\"128.75\" y2=\"219.38077870366502\" /><line fill=\"#800080\" stroke=\"black\" stroke-width=\"1\" x1=\"120.0\" x2=\"63.68964125355322\" y1=\"127.75000000000001\" y2=\"175.0\" /><line fill=\"#800080\" stroke=\"lightgray\" stroke-width=\"1\" x1=\"119.37500000000001\" x2=\"22.782417371093178\" y1=\"126.25\" y2=\"152.13190451025204\" /><line fill=\"#800080\" stroke=\"lightgray\" stroke-width=\"1\" x1=\"119.37500000000001\" x2=\"22.782417371093178\" y1=\"123.75\" y2=\"97.86809548974793\" /><line fill=\"#800080\" stroke=\"lightgray\" stroke-width=\"1\" x1=\"120.0\" x2=\"43.39555568810219\" y1=\"122.24999999999999\" y2=\"57.971239031346045\" /><line fill=\"#800080\" stroke=\"lightgray\" stroke-width=\"1\" x1=\"120.75\" x2=\"78.48817382593006\" y1=\"121.24999999999999\" y2=\"30.619221296334985\" /><line fill=\"#800080\" stroke=\"lightgray\" stroke-width=\"1\" x1=\"122.50000000000001\" x2=\"122.50000000000001\" y1=\"120.625\" y2=\"20.624999999999982\" /><line fill=\"#800080\" stroke=\"purple\" stroke-width=\"1\" x1=\"175.0\" x2=\"128.32614990812027\" y1=\"75.0\" y2=\"120.625\" /><line fill=\"#800080\" stroke=\"orange\" stroke-width=\"1\" x1=\"175.0\" x2=\"119.37500000000001\" y1=\"75.0\" y2=\"120.625\" /><polygon fill=\"red\" points=\"119.37500000000001,127.0 121.24999999999999,129.375 128.75,129.375 130.625,127.0 130.625,123.0 128.75,120.625 121.24999999999999,120.625 119.37500000000001,123.0\" stroke=\"black\" stroke-width=\"1\" /><polygon fill=\"black\" points=\"121.50000000000001,123.50000000000001 123.50000000000001,123.50000000000001 123.50000000000001,126.49999999999999 121.50000000000001,126.49999999999999\" stroke=\"black\" stroke-width=\"1\" /><line fill=\"#800080\" stroke=\"black\" stroke-width=\"1\" x1=\"119.37500000000001\" x2=\"119.37500000000001\" y1=\"128.0\" y2=\"122.0\" /><polygon fill=\"black\" points=\"119.37500000000001,128.25 114.375,128.25 114.375,127.75000000000001 119.37500000000001,127.75000000000001\" stroke=\"black\" stroke-width=\"1\" /><polygon fill=\"black\" points=\"119.37500000000001,122.24999999999999 114.375,122.24999999999999 114.375,121.75 119.37500000000001,121.75\" stroke=\"black\" stroke-width=\"1\" /></svg>"
      ],
      "text/plain": [
       "<jyro.simulator.svgcanvas.SVGCanvas at 0x7f7005d06588>"
      ]
     },
     "execution_count": 30,
     "metadata": {},
     "output_type": "execute_result"
    }
   ],
   "source": [
    "robot.setPose(5, 5, math.pi/2)\n",
    "sim.draw(canvas)"
   ]
  },
  {
   "cell_type": "code",
   "execution_count": 31,
   "metadata": {
    "collapsed": false,
    "deletable": true,
    "editable": true
   },
   "outputs": [
    {
     "data": {
      "image/png": "[encoded data removed]",
      "text/plain": [
       "<matplotlib.figure.Figure at 0x7f700211be80>"
      ]
     },
     "metadata": {},
     "output_type": "display_data"
    }
   ],
   "source": [
    "sampleLight(math.pi/2)"
   ]
  },
  {
   "cell_type": "code",
   "execution_count": 32,
   "metadata": {
    "collapsed": false,
    "deletable": true,
    "editable": true
   },
   "outputs": [
    {
     "data": {
      "image/svg+xml": [
       "<svg baseProfile=\"full\" height=\"250\" version=\"1.1\" width=\"250\" xmlns=\"http://www.w3.org/2000/svg\" xmlns:ev=\"http://www.w3.org/2001/xml-events\" xmlns:xlink=\"http://www.w3.org/1999/xlink\"><defs /><rect fill=\"white\" height=\"250\" stroke=\"#000000\" stroke-width=\"1\" width=\"250\" x=\"0\" y=\"0\" /><rect fill=\"white\" height=\"250.0\" stroke=\"grey\" stroke-width=\"1\" width=\"250.0\" x=\"0.0\" y=\"0.0\" /><rect fill=\"purple\" height=\"25.0\" stroke=\"purple\" stroke-width=\"1\" width=\"25.0\" x=\"50.0\" y=\"175.0\" /><circle cx=\"175.0\" cy=\"75.0\" fill=\"rgba(255,255,0,0.25098039215686274)\" r=\"106.25\" stroke=\"orange\" stroke-width=\"1\" /><line fill=\"#800080\" stroke=\"black\" stroke-width=\"1\" x1=\"120.13864087934249\" x2=\"71.464465\" y1=\"126.32582521472477\" y2=\"175.0\" /><line fill=\"#800080\" stroke=\"lightgray\" stroke-width=\"1\" x1=\"119.34314575050762\" x2=\"25.373883671916776\" y1=\"124.64644660940674\" y2=\"158.8484609419736\" /><line fill=\"#800080\" stroke=\"lightgray\" stroke-width=\"1\" x1=\"119.51992244580426\" x2=\"19.900452636629694\" y1=\"123.40900974233027\" y2=\"114.69343546756446\" /><line fill=\"#800080\" stroke=\"lightgray\" stroke-width=\"1\" x1=\"120.13864087934249\" x2=\"33.536100500898634\" y1=\"121.90640783230886\" y2=\"71.90640783230884\" /><line fill=\"#800080\" stroke=\"lightgray\" stroke-width=\"1\" x1=\"121.90640783230886\" x2=\"71.90640783230886\" y1=\"120.13864087934249\" y2=\"33.536100500898634\" /><line fill=\"#800080\" stroke=\"lightgray\" stroke-width=\"1\" x1=\"123.40900974233027\" x2=\"114.69343546756446\" y1=\"119.51992244580426\" y2=\"19.900452636629673\" /><line fill=\"#800080\" stroke=\"lightgray\" stroke-width=\"1\" x1=\"124.64644660940674\" x2=\"158.84846094197363\" y1=\"119.34314575050762\" y2=\"25.373883671916797\" /><line fill=\"#800080\" stroke=\"lightgray\" stroke-width=\"1\" x1=\"126.32582521472477\" x2=\"197.03650333337953\" y1=\"120.13864087934249\" y2=\"49.42796276068773\" /><line fill=\"#800080\" stroke=\"purple\" stroke-width=\"1\" x1=\"175.0\" x2=\"124.57962785711571\" y1=\"75.0\" y2=\"118.3924428571157\" /><line fill=\"#800080\" stroke=\"orange\" stroke-width=\"1\" x1=\"175.0\" x2=\"124.11611652351682\" y1=\"75.0\" y2=\"117.92893218813451\" /><polygon fill=\"red\" points=\"119.60831079345257,122.43673791819877 119.25475740285931,125.4419417382416 124.5580582617584,130.74524259714067 127.56326208180123,130.39168920654743 130.39168920654743,127.56326208180123 130.74524259714067,124.5580582617584 125.4419417382416,119.25475740285931 122.43673791819877,119.60831079345257\" stroke=\"black\" stroke-width=\"1\" /><polygon fill=\"black\" points=\"123.5857864376269,121.46446609406726 125.0,122.87867965644037 122.87867965644037,125.0 121.46446609406726,123.5857864376269\" stroke=\"black\" stroke-width=\"1\" /><line fill=\"#800080\" stroke=\"black\" stroke-width=\"1\" x1=\"118.90120401226602\" x2=\"123.14384469938533\" y1=\"123.14384469938533\" y2=\"118.90120401226602\" /><polygon fill=\"black\" points=\"118.7244273169694,123.32062139468196 115.18889341103664,119.78508748874921 115.54244680162992,119.43153409815592 119.07798070756269,122.96706800408867\" stroke=\"black\" stroke-width=\"1\" /><polygon fill=\"black\" points=\"122.96706800408867,119.07798070756269 119.43153409815592,115.54244680162992 119.78508748874921,115.18889341103664 123.32062139468196,118.7244273169694\" stroke=\"black\" stroke-width=\"1\" /></svg>"
      ],
      "text/plain": [
       "<jyro.simulator.svgcanvas.SVGCanvas at 0x7f7005d06588>"
      ]
     },
     "execution_count": 32,
     "metadata": {},
     "output_type": "execute_result"
    }
   ],
   "source": [
    "robot.setPose(5, 5, math.pi/4)\n",
    "sim.draw(canvas)"
   ]
  },
  {
   "cell_type": "code",
   "execution_count": 33,
   "metadata": {
    "collapsed": false,
    "deletable": true,
    "editable": true
   },
   "outputs": [
    {
     "data": {
      "image/png": "[encoded data removed]",
      "text/plain": [
       "<matplotlib.figure.Figure at 0x7f7005ea83c8>"
      ]
     },
     "metadata": {},
     "output_type": "display_data"
    }
   ],
   "source": [
    "sampleLight(math.pi/4)"
   ]
  },
  {
   "cell_type": "code",
   "execution_count": 34,
   "metadata": {
    "collapsed": false,
    "deletable": true,
    "editable": true
   },
   "outputs": [
    {
     "data": {
      "image/svg+xml": [
       "<svg baseProfile=\"full\" height=\"250\" version=\"1.1\" width=\"250\" xmlns=\"http://www.w3.org/2000/svg\" xmlns:ev=\"http://www.w3.org/2001/xml-events\" xmlns:xlink=\"http://www.w3.org/1999/xlink\"><defs /><rect fill=\"white\" height=\"250\" stroke=\"#000000\" stroke-width=\"1\" width=\"250\" x=\"0\" y=\"0\" /><rect fill=\"white\" height=\"250.0\" stroke=\"grey\" stroke-width=\"1\" width=\"250.0\" x=\"0.0\" y=\"0.0\" /><rect fill=\"purple\" height=\"25.0\" stroke=\"purple\" stroke-width=\"1\" width=\"25.0\" x=\"50.0\" y=\"175.0\" /><circle cx=\"175.0\" cy=\"75.0\" fill=\"rgba(255,255,0,0.25098039215686274)\" r=\"106.25\" stroke=\"orange\" stroke-width=\"1\" /><line fill=\"#800080\" stroke=\"lightgray\" stroke-width=\"1\" x1=\"126.32582521472477\" x2=\"197.03650333337953\" y1=\"129.8613591206575\" y2=\"200.57203723931227\" /><line fill=\"#800080\" stroke=\"lightgray\" stroke-width=\"1\" x1=\"124.64644660940674\" x2=\"158.8484609419736\" y1=\"130.65685424949237\" y2=\"224.6261163280832\" /><line fill=\"#800080\" stroke=\"lightgray\" stroke-width=\"1\" x1=\"123.40900974233027\" x2=\"114.69343546756446\" y1=\"130.48007755419576\" y2=\"230.09954736337033\" /><line fill=\"#800080\" stroke=\"lightgray\" stroke-width=\"1\" x1=\"121.90640783230886\" x2=\"71.90640783230886\" y1=\"129.8613591206575\" y2=\"216.46389949910136\" /><line fill=\"#800080\" stroke=\"lightgray\" stroke-width=\"1\" x1=\"120.13864087934247\" x2=\"33.536100500898606\" y1=\"128.09359216769113\" y2=\"178.09359216769113\" /><line fill=\"#800080\" stroke=\"lightgray\" stroke-width=\"1\" x1=\"119.51992244580426\" x2=\"19.900452636629694\" y1=\"126.59099025766973\" y2=\"135.30656453243552\" /><line fill=\"#800080\" stroke=\"lightgray\" stroke-width=\"1\" x1=\"119.34314575050762\" x2=\"25.373883671916786\" y1=\"125.35355339059326\" y2=\"91.15153905802637\" /><line fill=\"#800080\" stroke=\"lightgray\" stroke-width=\"1\" x1=\"120.13864087934249\" x2=\"49.42796276068775\" y1=\"123.67417478527523\" y2=\"52.96349666662046\" /><line fill=\"#800080\" stroke=\"purple\" stroke-width=\"1\" x1=\"175.0\" x2=\"131.61514817489604\" y1=\"75.0\" y2=\"123.66019817489602\" /><line fill=\"#800080\" stroke=\"purple\" stroke-width=\"1\" x1=\"175.0\" x2=\"126.33980021019377\" y1=\"75.0\" y2=\"118.38485021019376\" /><polygon fill=\"red\" points=\"122.43673791819877,130.39168920654743 125.4419417382416,130.74524259714067 130.74524259714067,125.4419417382416 130.39168920654743,122.43673791819877 127.56326208180123,119.60831079345257 124.5580582617584,119.25475740285931 119.25475740285931,124.5580582617584 119.60831079345257,127.56326208180123\" stroke=\"black\" stroke-width=\"1\" /><polygon fill=\"black\" points=\"121.46446609406726,126.4142135623731 122.87867965644037,125.0 125.0,127.12132034355963 123.5857864376269,128.53553390593274\" stroke=\"black\" stroke-width=\"1\" /><line fill=\"#800080\" stroke=\"black\" stroke-width=\"1\" x1=\"123.14384469938533\" x2=\"118.90120401226602\" y1=\"131.09879598773398\" y2=\"126.85615530061467\" /><polygon fill=\"black\" points=\"123.32062139468196,131.27557268303062 119.78508748874921,134.81110658896336 119.43153409815592,134.45755319837008 122.96706800408867,130.9220192924373\" stroke=\"black\" stroke-width=\"1\" /><polygon fill=\"black\" points=\"119.07798070756269,127.03293199591133 115.54244680162992,130.56846590184406 115.18889341103664,130.2149125112508 118.7244273169694,126.67937860531804\" stroke=\"black\" stroke-width=\"1\" /></svg>"
      ],
      "text/plain": [
       "<jyro.simulator.svgcanvas.SVGCanvas at 0x7f7005d06588>"
      ]
     },
     "execution_count": 34,
     "metadata": {},
     "output_type": "execute_result"
    }
   ],
   "source": [
    "robot.setPose(5, 5, math.pi * 3/4)\n",
    "sim.draw(canvas)"
   ]
  },
  {
   "cell_type": "code",
   "execution_count": 35,
   "metadata": {
    "collapsed": false,
    "deletable": true,
    "editable": true
   },
   "outputs": [
    {
     "data": {
      "image/png": "[encoded data removed]",
      "text/plain": [
       "<matplotlib.figure.Figure at 0x7f7002057b70>"
      ]
     },
     "metadata": {},
     "output_type": "display_data"
    }
   ],
   "source": [
    "sampleLight(math.pi * 3/4)"
   ]
  },
  {
   "cell_type": "code",
   "execution_count": 36,
   "metadata": {
    "collapsed": false,
    "deletable": true,
    "editable": true
   },
   "outputs": [
    {
     "data": {
      "image/svg+xml": [
       "<svg baseProfile=\"full\" height=\"250\" version=\"1.1\" width=\"250\" xmlns=\"http://www.w3.org/2000/svg\" xmlns:ev=\"http://www.w3.org/2001/xml-events\" xmlns:xlink=\"http://www.w3.org/1999/xlink\"><defs /><rect fill=\"white\" height=\"250\" stroke=\"#000000\" stroke-width=\"1\" width=\"250\" x=\"0\" y=\"0\" /><rect fill=\"white\" height=\"250.0\" stroke=\"grey\" stroke-width=\"1\" width=\"250.0\" x=\"0.0\" y=\"0.0\" /><rect fill=\"purple\" height=\"25.0\" stroke=\"purple\" stroke-width=\"1\" width=\"25.0\" x=\"50.0\" y=\"175.0\" /><circle cx=\"175.0\" cy=\"75.0\" fill=\"rgba(255,255,0,0.25098039215686274)\" r=\"106.25\" stroke=\"orange\" stroke-width=\"1\" /><line fill=\"#800080\" stroke=\"lightgray\" stroke-width=\"1\" x1=\"126.32582521472477\" x2=\"197.03650333337953\" y1=\"129.8613591206575\" y2=\"200.57203723931227\" /><line fill=\"#800080\" stroke=\"lightgray\" stroke-width=\"1\" x1=\"124.64644660940674\" x2=\"158.8484609419736\" y1=\"130.65685424949237\" y2=\"224.6261163280832\" /><line fill=\"#800080\" stroke=\"lightgray\" stroke-width=\"1\" x1=\"123.40900974233027\" x2=\"114.69343546756446\" y1=\"130.48007755419576\" y2=\"230.09954736337033\" /><line fill=\"#800080\" stroke=\"lightgray\" stroke-width=\"1\" x1=\"121.90640783230886\" x2=\"71.90640783230886\" y1=\"129.8613591206575\" y2=\"216.46389949910136\" /><line fill=\"#800080\" stroke=\"lightgray\" stroke-width=\"1\" x1=\"120.13864087934247\" x2=\"33.536100500898606\" y1=\"128.09359216769113\" y2=\"178.09359216769113\" /><line fill=\"#800080\" stroke=\"lightgray\" stroke-width=\"1\" x1=\"119.51992244580426\" x2=\"19.900452636629694\" y1=\"126.59099025766973\" y2=\"135.30656453243552\" /><line fill=\"#800080\" stroke=\"lightgray\" stroke-width=\"1\" x1=\"119.34314575050762\" x2=\"25.373883671916786\" y1=\"125.35355339059326\" y2=\"91.15153905802637\" /><line fill=\"#800080\" stroke=\"lightgray\" stroke-width=\"1\" x1=\"120.13864087934249\" x2=\"49.42796276068775\" y1=\"123.67417478527523\" y2=\"52.96349666662046\" /><line fill=\"#800080\" stroke=\"purple\" stroke-width=\"1\" x1=\"175.0\" x2=\"131.61514817489604\" y1=\"75.0\" y2=\"123.66019817489602\" /><line fill=\"#800080\" stroke=\"purple\" stroke-width=\"1\" x1=\"175.0\" x2=\"126.33980021019377\" y1=\"75.0\" y2=\"118.38485021019376\" /><polygon fill=\"red\" points=\"122.43673791819877,130.39168920654743 125.4419417382416,130.74524259714067 130.74524259714067,125.4419417382416 130.39168920654743,122.43673791819877 127.56326208180123,119.60831079345257 124.5580582617584,119.25475740285931 119.25475740285931,124.5580582617584 119.60831079345257,127.56326208180123\" stroke=\"black\" stroke-width=\"1\" /><polygon fill=\"black\" points=\"121.46446609406726,126.4142135623731 122.87867965644037,125.0 125.0,127.12132034355963 123.5857864376269,128.53553390593274\" stroke=\"black\" stroke-width=\"1\" /><line fill=\"#800080\" stroke=\"black\" stroke-width=\"1\" x1=\"123.14384469938533\" x2=\"118.90120401226602\" y1=\"131.09879598773398\" y2=\"126.85615530061467\" /><polygon fill=\"black\" points=\"123.32062139468196,131.27557268303062 119.78508748874921,134.81110658896336 119.43153409815592,134.45755319837008 122.96706800408867,130.9220192924373\" stroke=\"black\" stroke-width=\"1\" /><polygon fill=\"black\" points=\"119.07798070756269,127.03293199591133 115.54244680162992,130.56846590184406 115.18889341103664,130.2149125112508 118.7244273169694,126.67937860531804\" stroke=\"black\" stroke-width=\"1\" /></svg>"
      ],
      "text/plain": [
       "<jyro.simulator.svgcanvas.SVGCanvas at 0x7f7005d06588>"
      ]
     },
     "execution_count": 36,
     "metadata": {},
     "output_type": "execute_result"
    }
   ],
   "source": [
    "robot.setPose(5, 5, math.pi * 3/4)\n",
    "sim.draw(canvas)"
   ]
  },
  {
   "cell_type": "code",
   "execution_count": 9,
   "metadata": {
    "collapsed": false,
    "deletable": true,
    "editable": true
   },
   "outputs": [],
   "source": [
    "robot.addDevice(Camera(120, 80))"
   ]
  },
  {
   "cell_type": "code",
   "execution_count": 38,
   "metadata": {
    "collapsed": false,
    "deletable": true,
    "editable": true
   },
   "outputs": [
    {
     "data": {
      "image/png": "[encoded data removed]",
      "text/plain": [
       "<PIL.Image.Image image mode=RGB size=120x80 at 0x7F7001D8BF60>"
      ]
     },
     "execution_count": 38,
     "metadata": {},
     "output_type": "execute_result"
    }
   ],
   "source": [
    "robot.device[\"camera\"].getImage()"
   ]
  },
  {
   "cell_type": "code",
   "execution_count": 39,
   "metadata": {
    "collapsed": true,
    "deletable": true,
    "editable": true
   },
   "outputs": [],
   "source": [
    "robot.move(0, .5)\n",
    "for i in range(10):\n",
    "    sim.step(run_brain=False)"
   ]
  },
  {
   "cell_type": "code",
   "execution_count": 40,
   "metadata": {
    "collapsed": false,
    "deletable": true,
    "editable": true
   },
   "outputs": [
    {
     "data": {
      "image/png": "[encoded data removed]",
      "text/plain": [
       "<PIL.Image.Image image mode=RGB size=120x80 at 0x7F7001C33978>"
      ]
     },
     "execution_count": 40,
     "metadata": {},
     "output_type": "execute_result"
    }
   ],
   "source": [
    "robot.device[\"camera\"].getImage()"
   ]
  },
  {
   "cell_type": "code",
   "execution_count": 41,
   "metadata": {
    "collapsed": false,
    "deletable": true,
    "editable": true
   },
   "outputs": [
    {
     "data": {
      "image/png": "[encoded data removed]",
      "text/plain": [
       "<PIL.Image.Image image mode=RGB size=240x160 at 0x7F7001E52550>"
      ]
     },
     "execution_count": 41,
     "metadata": {},
     "output_type": "execute_result"
    }
   ],
   "source": [
    "import PIL\n",
    "img = robot.device[\"camera\"].getImage()\n",
    "img = img.resize((240, 160))\n",
    "img"
   ]
  },
  {
   "cell_type": "code",
   "execution_count": 7,
   "metadata": {
    "collapsed": true,
    "deletable": true,
    "editable": true
   },
   "outputs": [],
   "source": [
    "from jyro.simulator.vsimulator import VSimulator"
   ]
  },
  {
   "cell_type": "code",
   "execution_count": 8,
   "metadata": {
    "collapsed": false
   },
   "outputs": [
    {
     "data": {
      "application/vnd.jupyter.widget-view+json": {
       "model_id": "5f5e2855d47e44c4afd66b72ca02ad21"
      }
     },
     "metadata": {},
     "output_type": "display_data"
    }
   ],
   "source": [
    "vsim = VSimulator(robot, world)"
   ]
  }
 ],
 "metadata": {
  "kernelspec": {
   "display_name": "Python 3",
   "language": "python",
   "name": "python3"
  },
  "language_info": {
   "codemirror_mode": {
    "name": "ipython",
    "version": 3
   },
   "file_extension": ".py",
   "mimetype": "text/x-python",
   "name": "python",
   "nbconvert_exporter": "python",
   "pygments_lexer": "ipython3",
   "version": "3.5.2+"
  }
 },
 "nbformat": 4,
 "nbformat_minor": 2
}
