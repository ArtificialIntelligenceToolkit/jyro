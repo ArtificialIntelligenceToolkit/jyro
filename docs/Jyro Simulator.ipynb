{
 "cells": [
  {
   "cell_type": "markdown",
   "metadata": {},
   "source": [
    "# Jyro Python Robot Simulator\n",
    "\n",
    "## Pure-Python simulator for robots."
   ]
  },
  {
   "cell_type": "code",
   "execution_count": 2,
   "metadata": {
    "collapsed": true
   },
   "outputs": [],
   "source": [
    "from jyro.simulator import *\n",
    "import math"
   ]
  },
  {
   "cell_type": "code",
   "execution_count": 3,
   "metadata": {
    "collapsed": true
   },
   "outputs": [],
   "source": [
    "sim = Physics()"
   ]
  },
  {
   "cell_type": "code",
   "execution_count": 4,
   "metadata": {
    "collapsed": true
   },
   "outputs": [],
   "source": [
    "def world(sim):\n",
    "    sim.addBox(0, 0, 5, 5, fill=\"backgroundgreen\", wallcolor=\"lightgrey\") # meters\n",
    "    sim.addBox(1, 1, 2, 2, \"purple\")\n",
    "    ## brightness of 1 is radius 1 meter\n",
    "    sim.addLight(4, 4, 1.00, color=Color(255, 255, 0, 64))\n",
    "    sim.addLight(4, 2, 1.00, color=Color(255, 255, 0, 64))"
   ]
  },
  {
   "cell_type": "code",
   "execution_count": 5,
   "metadata": {
    "collapsed": true
   },
   "outputs": [],
   "source": [
    "world(sim)"
   ]
  },
  {
   "cell_type": "code",
   "execution_count": 6,
   "metadata": {
    "collapsed": true
   },
   "outputs": [],
   "source": [
    "import random\n",
    "\n",
    "class MyPioneer(Pioneer):\n",
    "    def __init__(self, name, x, y, angle):\n",
    "        Pioneer.__init__(self, name, x, y, angle)\n",
    "        self.addDevice(PioneerFrontSonars(maxRange=5.0))\n",
    "        #self.addDevice(Gripper())\n",
    "        self.addDevice(PioneerFrontLightSensors(5))\n",
    "        \n",
    "    def brain(self):\n",
    "        self.move(random.random() * 2 - 1, \n",
    "                  random.random() * 2 - 1)"
   ]
  },
  {
   "cell_type": "code",
   "execution_count": 7,
   "metadata": {
    "collapsed": true
   },
   "outputs": [],
   "source": [
    "robot = MyPioneer(\"Pioneer\", 2.50, 4.50, math.pi / 2) # meters, radians"
   ]
  },
  {
   "cell_type": "code",
   "execution_count": 8,
   "metadata": {},
   "outputs": [
    {
     "data": {
      "image/svg+xml": [
       "<svg baseProfile=\"full\" height=\"240\" version=\"1.1\" width=\"240\" xmlns=\"http://www.w3.org/2000/svg\" xmlns:ev=\"http://www.w3.org/2001/xml-events\" xmlns:xlink=\"http://www.w3.org/1999/xlink\"><defs /><line fill=\"#800080\" stroke=\"#d3d3d3\" stroke-width=\"1\" x1=\"78.0\" x2=\"-1122.0\" y1=\"96.0\" y2=\"95.99999999999993\" /><line fill=\"#800080\" stroke=\"#d3d3d3\" stroke-width=\"1\" x1=\"84.0\" x2=\"-1003.56934444398\" y1=\"79.19999999999999\" y2=\"-427.9419140888393\" /><line fill=\"#800080\" stroke=\"#d3d3d3\" stroke-width=\"1\" x1=\"93.60000000000001\" x2=\"-677.7451316238471\" y1=\"72.00000000000001\" y2=\"-847.2533317427735\" /><line fill=\"#800080\" stroke=\"#d3d3d3\" stroke-width=\"1\" x1=\"108.0\" x2=\"-202.5828541230249\" y1=\"66.0\" y2=\"-1093.110991546882\" /><line fill=\"#800080\" stroke=\"#d3d3d3\" stroke-width=\"1\" x1=\"132.0\" x2=\"442.5828541230249\" y1=\"66.0\" y2=\"-1093.110991546882\" /><line fill=\"#800080\" stroke=\"#d3d3d3\" stroke-width=\"1\" x1=\"146.4\" x2=\"917.7451316238471\" y1=\"72.00000000000001\" y2=\"-847.2533317427735\" /><line fill=\"#800080\" stroke=\"#d3d3d3\" stroke-width=\"1\" x1=\"156.0\" x2=\"1243.5693444439798\" y1=\"79.19999999999999\" y2=\"-427.9419140888393\" /><line fill=\"#800080\" stroke=\"#d3d3d3\" stroke-width=\"1\" x1=\"162.0\" x2=\"1362.0\" y1=\"96.0\" y2=\"95.99999999999993\" /><polygon fill=\"red\" points=\"100.8,66.0 78.0,84.0 78.0,156.0 100.8,174.0 139.2,174.0 162.0,156.0 162.0,84.0 139.2,66.0\" stroke=\"red\" stroke-width=\"1\" /><polygon fill=\"black\" points=\"-10.8,-10.8 0,0 10.8,-10.8 0,10.8\" stroke=\"black\" stroke-width=\"1\" transform=\"translate(120.0,120.0) rotate(180.0)\" /><circle cx=\"78.0\" cy=\"66.0\" fill=\"yellow\" r=\"6.0\" stroke=\"orange\" stroke-width=\"1\" /><circle cx=\"162.0\" cy=\"66.0\" fill=\"yellow\" r=\"6.0\" stroke=\"orange\" stroke-width=\"1\" /></svg>"
      ],
      "text/plain": [
       "<__main__.MyPioneer at 0x7fc1c869aa20>"
      ]
     },
     "execution_count": 8,
     "metadata": {},
     "output_type": "execute_result"
    }
   ],
   "source": [
    "robot"
   ]
  },
  {
   "cell_type": "code",
   "execution_count": 9,
   "metadata": {
    "collapsed": true
   },
   "outputs": [],
   "source": [
    "sim.addRobot(robot)"
   ]
  },
  {
   "cell_type": "code",
   "execution_count": 10,
   "metadata": {},
   "outputs": [],
   "source": [
    "canvas = Canvas((250, 250))"
   ]
  },
  {
   "cell_type": "code",
   "execution_count": 11,
   "metadata": {},
   "outputs": [
    {
     "data": {
      "image/svg+xml": [
       "<svg baseProfile=\"full\" height=\"250\" version=\"1.1\" width=\"250\" xmlns=\"http://www.w3.org/2000/svg\" xmlns:ev=\"http://www.w3.org/2001/xml-events\" xmlns:xlink=\"http://www.w3.org/1999/xlink\"><defs /><rect fill=\"white\" height=\"250\" stroke=\"#000000\" stroke-width=\"1\" width=\"250\" x=\"0\" y=\"0\" /><rect fill=\"#eef3dd\" height=\"250.0\" stroke=\"#d3d3d3\" stroke-width=\"1\" width=\"250.0\" x=\"0.0\" y=\"0.0\" /><rect fill=\"#a020f0\" height=\"50.0\" stroke=\"#a020f0\" stroke-width=\"1\" width=\"50.0\" x=\"50.0\" y=\"150.0\" /><circle cx=\"200.0\" cy=\"50.0\" fill=\"rgba(255,255,0,0.25098039215686274)\" r=\"12.5\" stroke=\"rgba(255,255,0,0.25098039215686274)\" stroke-width=\"1\" /><circle cx=\"200.0\" cy=\"150.0\" fill=\"rgba(255,255,0,0.25098039215686274)\" r=\"12.5\" stroke=\"rgba(255,255,0,0.25098039215686274)\" stroke-width=\"1\" /><line fill=\"#800080\" stroke=\"#add8e6\" stroke-width=\"1\" x1=\"120.0\" x2=\"120.0\" y1=\"33.74999999999999\" y2=\"250.0\" /><line fill=\"#800080\" stroke=\"#add8e6\" stroke-width=\"1\" x1=\"116.5\" x2=\"61.70885017903183\" y1=\"32.500000000000014\" y2=\"150.0\" /><line fill=\"#800080\" stroke=\"#add8e6\" stroke-width=\"1\" x1=\"114.99999999999999\" x2=\"0.0\" y1=\"30.500000000000014\" y2=\"126.99645500000001\" /><line fill=\"#800080\" stroke=\"#add8e6\" stroke-width=\"1\" x1=\"113.75\" x2=\"0.0\" y1=\"27.499999999999993\" y2=\"57.97922\" /><line fill=\"#800080\" stroke=\"#add8e6\" stroke-width=\"1\" x1=\"113.75\" x2=\"29.778853603593507\" y1=\"22.500000000000007\" y2=\"0.0\" /><line fill=\"#800080\" stroke=\"#add8e6\" stroke-width=\"1\" x1=\"114.99999999999999\" x2=\"91.76080527269946\" y1=\"19.499999999999986\" y2=\"0.0\" /><line fill=\"#800080\" stroke=\"#add8e6\" stroke-width=\"1\" x1=\"116.5\" x2=\"108.33961644049732\" y1=\"17.499999999999982\" y2=\"0.0\" /><line fill=\"#800080\" stroke=\"#add8e6\" stroke-width=\"1\" x1=\"120.0\" x2=\"120.0\" y1=\"16.250000000000007\" y2=\"0.0\" /><line fill=\"#800080\" stroke=\"#ffa500\" stroke-width=\"1\" x1=\"200.0\" x2=\"113.75\" y1=\"50.0\" y2=\"33.74999999999999\" /><line fill=\"#800080\" stroke=\"#ffa500\" stroke-width=\"1\" x1=\"200.0\" x2=\"113.75\" y1=\"150.0\" y2=\"33.74999999999999\" /><line fill=\"#800080\" stroke=\"#ffa500\" stroke-width=\"1\" x1=\"200.0\" x2=\"113.75\" y1=\"50.0\" y2=\"16.250000000000007\" /><line fill=\"#800080\" stroke=\"#ffa500\" stroke-width=\"1\" x1=\"200.0\" x2=\"113.75\" y1=\"150.0\" y2=\"16.250000000000007\" /><polygon fill=\"red\" points=\"113.75,29.000000000000004 117.5,33.74999999999999 132.5,33.74999999999999 136.25,29.000000000000004 136.25,20.999999999999996 132.5,16.250000000000007 117.5,16.250000000000007 113.75,20.999999999999996\" stroke=\"red\" stroke-width=\"1\" /><polygon fill=\"black\" points=\"-2.25,-2.25 0,0 2.25,-2.25 0,2.25\" stroke=\"black\" stroke-width=\"1\" transform=\"translate(125.0,25.0) rotate(90.0)\" /><circle cx=\"113.75\" cy=\"33.74999999999999\" fill=\"yellow\" r=\"1.25\" stroke=\"orange\" stroke-width=\"1\" /><circle cx=\"113.75\" cy=\"16.250000000000007\" fill=\"yellow\" r=\"1.25\" stroke=\"orange\" stroke-width=\"1\" /></svg>"
      ],
      "text/plain": [
       "<jyro.simulator.canvas.Canvas at 0x7fc1c8690860>"
      ]
     },
     "execution_count": 11,
     "metadata": {},
     "output_type": "execute_result"
    }
   ],
   "source": [
    "sim.draw(canvas)"
   ]
  },
  {
   "cell_type": "code",
   "execution_count": 12,
   "metadata": {
    "collapsed": true
   },
   "outputs": [],
   "source": [
    "#robot.setPose(4.5, 4.0, math.pi / 2)"
   ]
  },
  {
   "cell_type": "code",
   "execution_count": 13,
   "metadata": {
    "collapsed": true
   },
   "outputs": [],
   "source": [
    "robot.move(1, 1)"
   ]
  },
  {
   "cell_type": "code",
   "execution_count": 14,
   "metadata": {
    "collapsed": true
   },
   "outputs": [],
   "source": [
    "from IPython.display import display, clear_output"
   ]
  },
  {
   "cell_type": "code",
   "execution_count": 15,
   "metadata": {},
   "outputs": [
    {
     "data": {
      "image/svg+xml": [
       "<svg baseProfile=\"full\" height=\"250\" version=\"1.1\" width=\"250\" xmlns=\"http://www.w3.org/2000/svg\" xmlns:ev=\"http://www.w3.org/2001/xml-events\" xmlns:xlink=\"http://www.w3.org/1999/xlink\"><defs /><rect fill=\"white\" height=\"250\" stroke=\"#000000\" stroke-width=\"1\" width=\"250\" x=\"0\" y=\"0\" /><rect fill=\"#eef3dd\" height=\"250.0\" stroke=\"#d3d3d3\" stroke-width=\"1\" width=\"250.0\" x=\"0.0\" y=\"0.0\" /><rect fill=\"#a020f0\" height=\"50.0\" stroke=\"#a020f0\" stroke-width=\"1\" width=\"50.0\" x=\"50.0\" y=\"150.0\" /><circle cx=\"200.0\" cy=\"50.0\" fill=\"rgba(255,255,0,0.25098039215686274)\" r=\"12.5\" stroke=\"rgba(255,255,0,0.25098039215686274)\" stroke-width=\"1\" /><circle cx=\"200.0\" cy=\"150.0\" fill=\"rgba(255,255,0,0.25098039215686274)\" r=\"12.5\" stroke=\"rgba(255,255,0,0.25098039215686274)\" stroke-width=\"1\" /><line fill=\"#800080\" stroke=\"#add8e6\" stroke-width=\"1\" x1=\"93.54192617209885\" x2=\"250.0\" y1=\"45.533742722980364\" y2=\"225.07179499999998\" /><line fill=\"#800080\" stroke=\"#add8e6\" stroke-width=\"1\" x1=\"90.0820350334988\" x2=\"148.5930508244164\" y1=\"46.89081800056698\" y2=\"250.0\" /><line fill=\"#800080\" stroke=\"#add8e6\" stroke-width=\"1\" x1=\"87.63720845454625\" x2=\"71.35419805876253\" y1=\"46.368493389958545\" y2=\"150.0\" /><line fill=\"#800080\" stroke=\"#add8e6\" stroke-width=\"1\" x1=\"84.72387084046076\" x2=\"0.0\" y1=\"44.92801987532711\" y2=\"170.87010999999998\" /><line fill=\"#800080\" stroke=\"#add8e6\" stroke-width=\"1\" x1=\"81.43893784686685\" x2=\"0.0\" y1=\"41.15850860361054\" y2=\"81.00297499999999\" /><line fill=\"#800080\" stroke=\"#add8e6\" stroke-width=\"1\" x1=\"80.41035586863963\" x2=\"0.0\" y1=\"38.07556859218213\" y2=\"39.578055\" /><line fill=\"#800080\" stroke=\"#add8e6\" stroke-width=\"1\" x1=\"80.22723605271702\" x2=\"0.04288392720320752\" y1=\"35.582284185417336\" y2=\"0.0\" /><line fill=\"#800080\" stroke=\"#add8e6\" stroke-width=\"1\" x1=\"82.0446606945201\" x2=\"53.86163444952461\" y1=\"32.34045327197248\" y2=\"0.0\" /><line fill=\"#800080\" stroke=\"#ffa500\" stroke-width=\"1\" x1=\"200.0\" x2=\"88.83003708245319\" y1=\"50.0\" y2=\"49.63990896497279\" /><line fill=\"#800080\" stroke=\"#ffa500\" stroke-width=\"1\" x1=\"200.0\" x2=\"88.83003708245319\" y1=\"150.0\" y2=\"49.63990896497279\" /><line fill=\"#800080\" stroke=\"#ffa500\" stroke-width=\"1\" x1=\"200.0\" x2=\"77.33277160487444\" y1=\"50.0\" y2=\"36.44661951396486\" /><line fill=\"#800080\" stroke=\"#ffa500\" stroke-width=\"1\" x1=\"200.0\" x2=\"77.33277160487444\" y1=\"150.0\" y2=\"36.44661951396486\" /><polygon fill=\"red\" points=\"85.70935073853894,46.05887325684206 91.65717053624059,47.17620921977734 102.9657043513902,37.321410238995554 102.67215146126338,31.27667478566938 97.4162586715131,25.245456750922912 91.46843887381146,24.128120787987626 80.15990505866183,33.98291976876941 80.45345794878868,40.02765522209559\" stroke=\"red\" stroke-width=\"1\" /><polygon fill=\"black\" points=\"-2.25,-2.25 0,0 2.25,-2.25 0,2.25\" stroke=\"black\" stroke-width=\"1\" transform=\"translate(91.56280470502602,35.65216500388249) rotate(48.92954340842404)\" /><circle cx=\"88.83003708245319\" cy=\"49.63990896497279\" fill=\"yellow\" r=\"1.25\" stroke=\"orange\" stroke-width=\"1\" /><circle cx=\"77.33277160487444\" cy=\"36.44661951396486\" fill=\"yellow\" r=\"1.25\" stroke=\"orange\" stroke-width=\"1\" /></svg>"
      ],
      "text/plain": [
       "<jyro.simulator.canvas.Canvas at 0x7fc1c8690860>"
      ]
     },
     "metadata": {},
     "output_type": "display_data"
    },
    {
     "name": "stdout",
     "output_type": "stream",
     "text": [
      "CPU times: user 516 ms, sys: 24 ms, total: 540 ms\n",
      "Wall time: 6.54 s\n"
     ]
    }
   ],
   "source": [
    "%%time\n",
    "\n",
    "import time\n",
    "\n",
    "for i in range(70):\n",
    "    sim.step(run_brain=False)\n",
    "    for r in sim.robots:\n",
    "        sim.draw(canvas)\n",
    "        clear_output(wait=True)\n",
    "        display(canvas)\n",
    "        time.sleep(.085) # sleep for a bit"
   ]
  },
  {
   "cell_type": "code",
   "execution_count": 16,
   "metadata": {},
   "outputs": [
    {
     "data": {
      "text/plain": [
       "(1.8312560941005205, 4.28695669992235, 2.287611019615305)"
      ]
     },
     "execution_count": 16,
     "metadata": {},
     "output_type": "execute_result"
    }
   ],
   "source": [
    "robot.getPose()"
   ]
  },
  {
   "cell_type": "code",
   "execution_count": 17,
   "metadata": {},
   "outputs": [
    {
     "name": "stdout",
     "output_type": "stream",
     "text": [
      "CPU times: user 80 ms, sys: 0 ns, total: 80 ms\n",
      "Wall time: 79.7 ms\n"
     ]
    }
   ],
   "source": [
    "%%time\n",
    "\n",
    "import numpy\n",
    "\n",
    "light0 = numpy.zeros((100,100))\n",
    "light1 = numpy.zeros((100,100))\n",
    "\n",
    "robot.setPose(2.50, 4.50, math.pi / 2)\n",
    "for i in range(70):\n",
    "    sim.step(run_brain=False)\n",
    "    for r in sim.robots:\n",
    "        x, y, a = robot.getPose()\n",
    "        light0[int(y/canvas.max_y * 100), int(x/canvas.max_x * 100)] = r.device[\"light\"].scan[0]        \n",
    "        light1[int(y/canvas.max_y * 100), int(x/canvas.max_x * 100)] = r.device[\"light\"].scan[1]"
   ]
  },
  {
   "cell_type": "markdown",
   "metadata": {},
   "source": [
    "70 steps * 0.1 seconds/step = 7 seconds\n",
    "\n",
    "7 seconds / 85 ms"
   ]
  },
  {
   "cell_type": "code",
   "execution_count": 18,
   "metadata": {},
   "outputs": [
    {
     "data": {
      "text/plain": [
       "125.0"
      ]
     },
     "execution_count": 18,
     "metadata": {},
     "output_type": "execute_result"
    }
   ],
   "source": [
    "7 / .056"
   ]
  },
  {
   "cell_type": "markdown",
   "metadata": {},
   "source": [
    "Looks like it simulates about 80 - 100 simulated seconds for every real second, or is 80 - 100 times faster than real life."
   ]
  },
  {
   "cell_type": "markdown",
   "metadata": {},
   "source": [
    "## Checking Light Readings\n",
    "\n",
    "New simulated light sensors are 75% direct light and 25% ambient light."
   ]
  },
  {
   "cell_type": "code",
   "execution_count": 19,
   "metadata": {
    "collapsed": true
   },
   "outputs": [],
   "source": [
    "%matplotlib inline\n",
    "import matplotlib.pyplot as plt"
   ]
  },
  {
   "cell_type": "code",
   "execution_count": 20,
   "metadata": {},
   "outputs": [
    {
     "data": {
      "text/plain": [
       "<matplotlib.colorbar.Colorbar at 0x7fc1c4b5aba8>"
      ]
     },
     "execution_count": 20,
     "metadata": {},
     "output_type": "execute_result"
    },
    {
     "data": {
      "image/png": "[encoded data removed]",
      "text/plain": [
       "<matplotlib.figure.Figure at 0x7fc1c6e58748>"
      ]
     },
     "metadata": {},
     "output_type": "display_data"
    }
   ],
   "source": [
    "fig1 = plt.figure()\n",
    "sp0 = fig1.add_subplot(111)\n",
    "p0 = sp0.matshow(light0, origin=\"lower\")\n",
    "fig1.colorbar(p0)"
   ]
  },
  {
   "cell_type": "code",
   "execution_count": 21,
   "metadata": {},
   "outputs": [
    {
     "data": {
      "text/plain": [
       "<matplotlib.colorbar.Colorbar at 0x7fc1c4a64ef0>"
      ]
     },
     "execution_count": 21,
     "metadata": {},
     "output_type": "execute_result"
    },
    {
     "data": {
      "image/png": "[encoded data removed]",
      "text/plain": [
       "<matplotlib.figure.Figure at 0x7fc1c4af3390>"
      ]
     },
     "metadata": {},
     "output_type": "display_data"
    }
   ],
   "source": [
    "fig2 = plt.figure()\n",
    "sp1 = fig2.add_subplot(111)\n",
    "p1 = sp1.matshow(light1, origin=\"lower\")\n",
    "fig2.colorbar(p1)"
   ]
  },
  {
   "cell_type": "markdown",
   "metadata": {},
   "source": [
    "## Differences between two light sensors"
   ]
  },
  {
   "cell_type": "code",
   "execution_count": 22,
   "metadata": {},
   "outputs": [
    {
     "data": {
      "text/plain": [
       "<matplotlib.colorbar.Colorbar at 0x7fc1c49c1160>"
      ]
     },
     "execution_count": 22,
     "metadata": {},
     "output_type": "execute_result"
    },
    {
     "data": {
      "image/png": "[encoded data removed]",
      "text/plain": [
       "<matplotlib.figure.Figure at 0x7fc1c4a09a90>"
      ]
     },
     "metadata": {},
     "output_type": "display_data"
    }
   ],
   "source": [
    "fig3 = plt.figure()\n",
    "sp3 = fig3.add_subplot(111)\n",
    "p3 = sp3.matshow(light1 - light0, origin=\"lower\")\n",
    "fig3.colorbar(p3)"
   ]
  },
  {
   "cell_type": "code",
   "execution_count": 23,
   "metadata": {
    "collapsed": true
   },
   "outputs": [],
   "source": [
    "def sampleLight(angle, resolution=50):\n",
    "    light0 = numpy.zeros((resolution,resolution))\n",
    "    light1 = numpy.zeros((resolution,resolution))\n",
    "\n",
    "    for x in range(resolution):\n",
    "        for y in range(resolution):\n",
    "            for r in sim.robots:\n",
    "                r.setPose(x/resolution * canvas.max_x, \n",
    "                          y/resolution * canvas.max_y, \n",
    "                          angle) \n",
    "                light0[y, x] = r.device[\"light\"].scan[0]        \n",
    "                light1[y, x] = r.device[\"light\"].scan[1]\n",
    "    fig = plt.figure()\n",
    "    sp = fig.add_subplot(111)\n",
    "    p = sp.matshow(light0, origin=\"lower\")\n",
    "    fig.colorbar(p)"
   ]
  },
  {
   "cell_type": "code",
   "execution_count": 24,
   "metadata": {},
   "outputs": [
    {
     "data": {
      "image/svg+xml": [
       "<svg baseProfile=\"full\" height=\"250\" version=\"1.1\" width=\"250\" xmlns=\"http://www.w3.org/2000/svg\" xmlns:ev=\"http://www.w3.org/2001/xml-events\" xmlns:xlink=\"http://www.w3.org/1999/xlink\"><defs /><rect fill=\"white\" height=\"250\" stroke=\"#000000\" stroke-width=\"1\" width=\"250\" x=\"0\" y=\"0\" /><rect fill=\"#eef3dd\" height=\"250.0\" stroke=\"#d3d3d3\" stroke-width=\"1\" width=\"250.0\" x=\"0.0\" y=\"0.0\" /><rect fill=\"#a020f0\" height=\"50.0\" stroke=\"#a020f0\" stroke-width=\"1\" width=\"50.0\" x=\"50.0\" y=\"150.0\" /><circle cx=\"200.0\" cy=\"50.0\" fill=\"rgba(255,255,0,0.25098039215686274)\" r=\"12.5\" stroke=\"rgba(255,255,0,0.25098039215686274)\" stroke-width=\"1\" /><circle cx=\"200.0\" cy=\"150.0\" fill=\"rgba(255,255,0,0.25098039215686274)\" r=\"12.5\" stroke=\"rgba(255,255,0,0.25098039215686274)\" stroke-width=\"1\" /><line fill=\"#800080\" stroke=\"#add8e6\" stroke-width=\"1\" x1=\"116.25000000000001\" x2=\"0.0\" y1=\"20.000000000000018\" y2=\"20.000000000000018\" /><line fill=\"#800080\" stroke=\"#add8e6\" stroke-width=\"1\" x1=\"117.5\" x2=\"82.1156395230017\" y1=\"16.500000000000004\" y2=\"0.0\" /><line fill=\"#800080\" stroke=\"#add8e6\" stroke-width=\"1\" x1=\"119.5\" x2=\"106.91350544273581\" y1=\"14.999999999999991\" y2=\"0.0\" /><line fill=\"#800080\" stroke=\"#add8e6\" stroke-width=\"1\" x1=\"122.50000000000001\" x2=\"118.81569862833328\" y1=\"13.750000000000018\" y2=\"0.0\" /><line fill=\"#800080\" stroke=\"#add8e6\" stroke-width=\"1\" x1=\"127.49999999999999\" x2=\"131.1843013716667\" y1=\"13.750000000000018\" y2=\"0.0\" /><line fill=\"#800080\" stroke=\"#add8e6\" stroke-width=\"1\" x1=\"130.5\" x2=\"143.0864945572642\" y1=\"14.999999999999991\" y2=\"0.0\" /><line fill=\"#800080\" stroke=\"#add8e6\" stroke-width=\"1\" x1=\"132.5\" x2=\"167.88436047699838\" y1=\"16.500000000000004\" y2=\"0.0\" /><line fill=\"#800080\" stroke=\"#add8e6\" stroke-width=\"1\" x1=\"133.75\" x2=\"250.0\" y1=\"20.000000000000018\" y2=\"20.000000000000018\" /><line fill=\"#800080\" stroke=\"#ffa500\" stroke-width=\"1\" x1=\"200.0\" x2=\"116.25000000000001\" y1=\"50.0\" y2=\"13.750000000000018\" /><line fill=\"#800080\" stroke=\"#ffa500\" stroke-width=\"1\" x1=\"200.0\" x2=\"116.25000000000001\" y1=\"150.0\" y2=\"13.750000000000018\" /><line fill=\"#800080\" stroke=\"#ffa500\" stroke-width=\"1\" x1=\"200.0\" x2=\"133.75\" y1=\"50.0\" y2=\"13.750000000000018\" /><line fill=\"#800080\" stroke=\"#ffa500\" stroke-width=\"1\" x1=\"200.0\" x2=\"133.75\" y1=\"150.0\" y2=\"13.750000000000018\" /><polygon fill=\"red\" points=\"121.0,13.750000000000018 116.25000000000001,17.499999999999982 116.25000000000001,32.500000000000014 121.0,36.249999999999986 129.0,36.249999999999986 133.75,32.500000000000014 133.75,17.499999999999982 129.0,13.750000000000018\" stroke=\"red\" stroke-width=\"1\" /><polygon fill=\"black\" points=\"-2.25,-2.25 0,0 2.25,-2.25 0,2.25\" stroke=\"black\" stroke-width=\"1\" transform=\"translate(125.0,25.0) rotate(180.0)\" /><circle cx=\"116.25000000000001\" cy=\"13.750000000000018\" fill=\"yellow\" r=\"1.25\" stroke=\"orange\" stroke-width=\"1\" /><circle cx=\"133.75\" cy=\"13.750000000000018\" fill=\"yellow\" r=\"1.25\" stroke=\"orange\" stroke-width=\"1\" /></svg>"
      ],
      "text/plain": [
       "<jyro.simulator.canvas.Canvas at 0x7fc1c8690860>"
      ]
     },
     "execution_count": 24,
     "metadata": {},
     "output_type": "execute_result"
    }
   ],
   "source": [
    "robot.setPose(2.5, 4.5, 0)\n",
    "sim.draw(canvas)"
   ]
  },
  {
   "cell_type": "code",
   "execution_count": 25,
   "metadata": {},
   "outputs": [
    {
     "data": {
      "image/png": "[encoded data removed]",
      "text/plain": [
       "<matplotlib.figure.Figure at 0x7fc1c4987358>"
      ]
     },
     "metadata": {},
     "output_type": "display_data"
    }
   ],
   "source": [
    "sampleLight(0) # face up, north"
   ]
  },
  {
   "cell_type": "code",
   "execution_count": 26,
   "metadata": {},
   "outputs": [
    {
     "data": {
      "text/plain": [
       "[0.5453626300613212, 0.5139231911477004]"
      ]
     },
     "execution_count": 26,
     "metadata": {},
     "output_type": "execute_result"
    }
   ],
   "source": [
    "robot.device[\"light\"].scan"
   ]
  },
  {
   "cell_type": "code",
   "execution_count": 27,
   "metadata": {},
   "outputs": [
    {
     "data": {
      "image/svg+xml": [
       "<svg baseProfile=\"full\" height=\"250\" version=\"1.1\" width=\"250\" xmlns=\"http://www.w3.org/2000/svg\" xmlns:ev=\"http://www.w3.org/2001/xml-events\" xmlns:xlink=\"http://www.w3.org/1999/xlink\"><defs /><rect fill=\"white\" height=\"250\" stroke=\"#000000\" stroke-width=\"1\" width=\"250\" x=\"0\" y=\"0\" /><rect fill=\"#eef3dd\" height=\"250.0\" stroke=\"#d3d3d3\" stroke-width=\"1\" width=\"250.0\" x=\"0.0\" y=\"0.0\" /><rect fill=\"#a020f0\" height=\"50.0\" stroke=\"#a020f0\" stroke-width=\"1\" width=\"50.0\" x=\"50.0\" y=\"150.0\" /><circle cx=\"200.0\" cy=\"50.0\" fill=\"rgba(255,255,0,0.25098039215686274)\" r=\"12.5\" stroke=\"rgba(255,255,0,0.25098039215686274)\" stroke-width=\"1\" /><circle cx=\"200.0\" cy=\"150.0\" fill=\"rgba(255,255,0,0.25098039215686274)\" r=\"12.5\" stroke=\"rgba(255,255,0,0.25098039215686274)\" stroke-width=\"1\" /><line fill=\"#800080\" stroke=\"#add8e6\" stroke-width=\"1\" x1=\"133.75\" x2=\"250.0\" y1=\"29.999999999999982\" y2=\"29.999999999999982\" /><line fill=\"#800080\" stroke=\"#add8e6\" stroke-width=\"1\" x1=\"132.5\" x2=\"250.0\" y1=\"33.5\" y2=\"88.29115499999997\" /><line fill=\"#800080\" stroke=\"#add8e6\" stroke-width=\"1\" x1=\"130.5\" x2=\"250.0\" y1=\"35.00000000000001\" y2=\"177.414555\" /><line fill=\"#800080\" stroke=\"#add8e6\" stroke-width=\"1\" x1=\"127.49999999999999\" x2=\"184.77413853064007\" y1=\"36.249999999999986\" y2=\"250.0\" /><line fill=\"#800080\" stroke=\"#add8e6\" stroke-width=\"1\" x1=\"122.50000000000001\" x2=\"92.0207800488466\" y1=\"36.249999999999986\" y2=\"150.0\" /><line fill=\"#800080\" stroke=\"#add8e6\" stroke-width=\"1\" x1=\"119.5\" x2=\"0.0\" y1=\"35.00000000000001\" y2=\"177.414555\" /><line fill=\"#800080\" stroke=\"#add8e6\" stroke-width=\"1\" x1=\"117.5\" x2=\"0.0\" y1=\"33.5\" y2=\"88.291155\" /><line fill=\"#800080\" stroke=\"#add8e6\" stroke-width=\"1\" x1=\"116.25000000000001\" x2=\"0.0\" y1=\"29.999999999999982\" y2=\"29.999999999999982\" /><line fill=\"#800080\" stroke=\"#ffa500\" stroke-width=\"1\" x1=\"200.0\" x2=\"133.75\" y1=\"50.0\" y2=\"36.249999999999986\" /><line fill=\"#800080\" stroke=\"#ffa500\" stroke-width=\"1\" x1=\"200.0\" x2=\"133.75\" y1=\"150.0\" y2=\"36.249999999999986\" /><line fill=\"#800080\" stroke=\"#ffa500\" stroke-width=\"1\" x1=\"200.0\" x2=\"116.25000000000001\" y1=\"50.0\" y2=\"36.249999999999986\" /><line fill=\"#800080\" stroke=\"#ffa500\" stroke-width=\"1\" x1=\"200.0\" x2=\"116.25000000000001\" y1=\"150.0\" y2=\"36.249999999999986\" /><polygon fill=\"red\" points=\"129.0,36.249999999999986 133.75,32.500000000000014 133.75,17.499999999999982 129.0,13.750000000000018 121.0,13.750000000000018 116.25000000000001,17.499999999999982 116.25000000000001,32.500000000000014 121.0,36.249999999999986\" stroke=\"red\" stroke-width=\"1\" /><polygon fill=\"black\" points=\"-2.25,-2.25 0,0 2.25,-2.25 0,2.25\" stroke=\"black\" stroke-width=\"1\" transform=\"translate(125.0,25.0) rotate(0.0)\" /><circle cx=\"133.75\" cy=\"36.249999999999986\" fill=\"yellow\" r=\"1.25\" stroke=\"orange\" stroke-width=\"1\" /><circle cx=\"116.25000000000001\" cy=\"36.249999999999986\" fill=\"yellow\" r=\"1.25\" stroke=\"orange\" stroke-width=\"1\" /></svg>"
      ],
      "text/plain": [
       "<jyro.simulator.canvas.Canvas at 0x7fc1c8690860>"
      ]
     },
     "execution_count": 27,
     "metadata": {},
     "output_type": "execute_result"
    }
   ],
   "source": [
    "robot.setPose(2.5, 4.5, math.pi)\n",
    "sim.draw(canvas)"
   ]
  },
  {
   "cell_type": "code",
   "execution_count": 28,
   "metadata": {},
   "outputs": [
    {
     "data": {
      "image/png": "[encoded data removed]",
      "text/plain": [
       "<matplotlib.figure.Figure at 0x7fc1c48aa320>"
      ]
     },
     "metadata": {},
     "output_type": "display_data"
    }
   ],
   "source": [
    "sampleLight(math.pi)"
   ]
  },
  {
   "cell_type": "code",
   "execution_count": 29,
   "metadata": {},
   "outputs": [
    {
     "data": {
      "image/svg+xml": [
       "<svg baseProfile=\"full\" height=\"250\" version=\"1.1\" width=\"250\" xmlns=\"http://www.w3.org/2000/svg\" xmlns:ev=\"http://www.w3.org/2001/xml-events\" xmlns:xlink=\"http://www.w3.org/1999/xlink\"><defs /><rect fill=\"white\" height=\"250\" stroke=\"#000000\" stroke-width=\"1\" width=\"250\" x=\"0\" y=\"0\" /><rect fill=\"#eef3dd\" height=\"250.0\" stroke=\"#d3d3d3\" stroke-width=\"1\" width=\"250.0\" x=\"0.0\" y=\"0.0\" /><rect fill=\"#a020f0\" height=\"50.0\" stroke=\"#a020f0\" stroke-width=\"1\" width=\"50.0\" x=\"50.0\" y=\"150.0\" /><circle cx=\"200.0\" cy=\"50.0\" fill=\"rgba(255,255,0,0.25098039215686274)\" r=\"12.5\" stroke=\"rgba(255,255,0,0.25098039215686274)\" stroke-width=\"1\" /><circle cx=\"200.0\" cy=\"150.0\" fill=\"rgba(255,255,0,0.25098039215686274)\" r=\"12.5\" stroke=\"rgba(255,255,0,0.25098039215686274)\" stroke-width=\"1\" /><line fill=\"#800080\" stroke=\"#add8e6\" stroke-width=\"1\" x1=\"120.0\" x2=\"120.0\" y1=\"33.74999999999999\" y2=\"250.0\" /><line fill=\"#800080\" stroke=\"#add8e6\" stroke-width=\"1\" x1=\"116.5\" x2=\"61.70885017903183\" y1=\"32.500000000000014\" y2=\"150.0\" /><line fill=\"#800080\" stroke=\"#add8e6\" stroke-width=\"1\" x1=\"114.99999999999999\" x2=\"0.0\" y1=\"30.500000000000014\" y2=\"126.99645500000001\" /><line fill=\"#800080\" stroke=\"#add8e6\" stroke-width=\"1\" x1=\"113.75\" x2=\"0.0\" y1=\"27.499999999999993\" y2=\"57.97922\" /><line fill=\"#800080\" stroke=\"#add8e6\" stroke-width=\"1\" x1=\"113.75\" x2=\"29.778853603593507\" y1=\"22.500000000000007\" y2=\"0.0\" /><line fill=\"#800080\" stroke=\"#add8e6\" stroke-width=\"1\" x1=\"114.99999999999999\" x2=\"91.76080527269946\" y1=\"19.499999999999986\" y2=\"0.0\" /><line fill=\"#800080\" stroke=\"#add8e6\" stroke-width=\"1\" x1=\"116.5\" x2=\"108.33961644049732\" y1=\"17.499999999999982\" y2=\"0.0\" /><line fill=\"#800080\" stroke=\"#add8e6\" stroke-width=\"1\" x1=\"120.0\" x2=\"120.0\" y1=\"16.250000000000007\" y2=\"0.0\" /><line fill=\"#800080\" stroke=\"#ffa500\" stroke-width=\"1\" x1=\"200.0\" x2=\"113.75\" y1=\"50.0\" y2=\"33.74999999999999\" /><line fill=\"#800080\" stroke=\"#ffa500\" stroke-width=\"1\" x1=\"200.0\" x2=\"113.75\" y1=\"150.0\" y2=\"33.74999999999999\" /><line fill=\"#800080\" stroke=\"#ffa500\" stroke-width=\"1\" x1=\"200.0\" x2=\"113.75\" y1=\"50.0\" y2=\"16.250000000000007\" /><line fill=\"#800080\" stroke=\"#ffa500\" stroke-width=\"1\" x1=\"200.0\" x2=\"113.75\" y1=\"150.0\" y2=\"16.250000000000007\" /><polygon fill=\"red\" points=\"113.75,29.000000000000004 117.5,33.74999999999999 132.5,33.74999999999999 136.25,29.000000000000004 136.25,20.999999999999996 132.5,16.250000000000007 117.5,16.250000000000007 113.75,20.999999999999996\" stroke=\"red\" stroke-width=\"1\" /><polygon fill=\"black\" points=\"-2.25,-2.25 0,0 2.25,-2.25 0,2.25\" stroke=\"black\" stroke-width=\"1\" transform=\"translate(125.0,25.0) rotate(90.0)\" /><circle cx=\"113.75\" cy=\"33.74999999999999\" fill=\"yellow\" r=\"1.25\" stroke=\"orange\" stroke-width=\"1\" /><circle cx=\"113.75\" cy=\"16.250000000000007\" fill=\"yellow\" r=\"1.25\" stroke=\"orange\" stroke-width=\"1\" /></svg>"
      ],
      "text/plain": [
       "<jyro.simulator.canvas.Canvas at 0x7fc1c8690860>"
      ]
     },
     "execution_count": 29,
     "metadata": {},
     "output_type": "execute_result"
    }
   ],
   "source": [
    "robot.setPose(2.5, 4.5, math.pi/2)\n",
    "sim.draw(canvas)"
   ]
  },
  {
   "cell_type": "code",
   "execution_count": 30,
   "metadata": {},
   "outputs": [
    {
     "data": {
      "image/png": "[encoded data removed]",
      "text/plain": [
       "<matplotlib.figure.Figure at 0x7fc1c489aeb8>"
      ]
     },
     "metadata": {},
     "output_type": "display_data"
    }
   ],
   "source": [
    "sampleLight(math.pi/2)"
   ]
  },
  {
   "cell_type": "code",
   "execution_count": 31,
   "metadata": {},
   "outputs": [
    {
     "data": {
      "image/svg+xml": [
       "<svg baseProfile=\"full\" height=\"250\" version=\"1.1\" width=\"250\" xmlns=\"http://www.w3.org/2000/svg\" xmlns:ev=\"http://www.w3.org/2001/xml-events\" xmlns:xlink=\"http://www.w3.org/1999/xlink\"><defs /><rect fill=\"white\" height=\"250\" stroke=\"#000000\" stroke-width=\"1\" width=\"250\" x=\"0\" y=\"0\" /><rect fill=\"#eef3dd\" height=\"250.0\" stroke=\"#d3d3d3\" stroke-width=\"1\" width=\"250.0\" x=\"0.0\" y=\"0.0\" /><rect fill=\"#a020f0\" height=\"50.0\" stroke=\"#a020f0\" stroke-width=\"1\" width=\"50.0\" x=\"50.0\" y=\"150.0\" /><circle cx=\"200.0\" cy=\"50.0\" fill=\"rgba(255,255,0,0.25098039215686274)\" r=\"12.5\" stroke=\"rgba(255,255,0,0.25098039215686274)\" stroke-width=\"1\" /><circle cx=\"200.0\" cy=\"150.0\" fill=\"rgba(255,255,0,0.25098039215686274)\" r=\"12.5\" stroke=\"rgba(255,255,0,0.25098039215686274)\" stroke-width=\"1\" /><line fill=\"#800080\" stroke=\"#add8e6\" stroke-width=\"1\" x1=\"115.27728175868496\" x2=\"0.0\" y1=\"27.651650429449546\" y2=\"142.92893\" /><line fill=\"#800080\" stroke=\"#add8e6\" stroke-width=\"1\" x1=\"113.68629150101523\" x2=\"0.0\" y1=\"24.29289321881347\" y2=\"65.671315\" /><line fill=\"#800080\" stroke=\"#add8e6\" stroke-width=\"1\" x1=\"114.03984489160852\" x2=\"0.0\" y1=\"21.81801948466053\" y2=\"11.840820000000019\" /><line fill=\"#800080\" stroke=\"#add8e6\" stroke-width=\"1\" x1=\"115.27728175868496\" x2=\"82.69252653025382\" y1=\"18.812815664617723\" y2=\"0.0\" /><line fill=\"#800080\" stroke=\"#add8e6\" stroke-width=\"1\" x1=\"118.81281566461772\" x2=\"109.9924725071574\" y1=\"15.27728175868499\" y2=\"0.0\" /><line fill=\"#800080\" stroke=\"#add8e6\" stroke-width=\"1\" x1=\"121.81801948466054\" x2=\"120.58969290666528\" y1=\"14.0398448916085\" y2=\"0.0\" /><line fill=\"#800080\" stroke=\"#add8e6\" stroke-width=\"1\" x1=\"124.29289321881345\" x2=\"129.27429721532923\" y1=\"13.686291501015235\" y2=\"0.0\" /><line fill=\"#800080\" stroke=\"#add8e6\" stroke-width=\"1\" x1=\"127.65165042944955\" x2=\"142.92893\" y1=\"15.27728175868499\" y2=\"0.0\" /><line fill=\"#800080\" stroke=\"#ffa500\" stroke-width=\"1\" x1=\"200.0\" x2=\"110.85786437626903\" y1=\"50.0\" y2=\"23.232233047033635\" /><line fill=\"#800080\" stroke=\"#ffa500\" stroke-width=\"1\" x1=\"200.0\" x2=\"110.85786437626903\" y1=\"150.0\" y2=\"23.232233047033635\" /><line fill=\"#800080\" stroke=\"#ffa500\" stroke-width=\"1\" x1=\"200.0\" x2=\"123.23223304703363\" y1=\"50.0\" y2=\"10.857864376269077\" /><line fill=\"#800080\" stroke=\"#ffa500\" stroke-width=\"1\" x1=\"200.0\" x2=\"123.23223304703363\" y1=\"150.0\" y2=\"10.857864376269077\" /><polygon fill=\"red\" points=\"114.21662158690515,19.87347583639756 113.50951480571861,25.883883476483184 124.1161165235168,36.490485194281376 130.12652416360248,35.783378413094844 135.78337841309485,30.12652416360244 136.4904851942814,24.116116523516816 125.8838834764832,13.509514805718625 119.87347583639752,14.216621586905154\" stroke=\"red\" stroke-width=\"1\" /><polygon fill=\"black\" points=\"-2.25,-2.25 0,0 2.25,-2.25 0,2.25\" stroke=\"black\" stroke-width=\"1\" transform=\"translate(125.0,25.0) rotate(135.0)\" /><circle cx=\"110.85786437626903\" cy=\"23.232233047033635\" fill=\"yellow\" r=\"1.25\" stroke=\"orange\" stroke-width=\"1\" /><circle cx=\"123.23223304703363\" cy=\"10.857864376269077\" fill=\"yellow\" r=\"1.25\" stroke=\"orange\" stroke-width=\"1\" /></svg>"
      ],
      "text/plain": [
       "<jyro.simulator.canvas.Canvas at 0x7fc1c8690860>"
      ]
     },
     "execution_count": 31,
     "metadata": {},
     "output_type": "execute_result"
    }
   ],
   "source": [
    "robot.setPose(2.5, 4.5, math.pi/4)\n",
    "sim.draw(canvas)"
   ]
  },
  {
   "cell_type": "code",
   "execution_count": 32,
   "metadata": {},
   "outputs": [
    {
     "data": {
      "image/png": "[encoded data removed]",
      "text/plain": [
       "<matplotlib.figure.Figure at 0x7fc1c49c45c0>"
      ]
     },
     "metadata": {},
     "output_type": "display_data"
    }
   ],
   "source": [
    "sampleLight(math.pi/4)"
   ]
  },
  {
   "cell_type": "code",
   "execution_count": 33,
   "metadata": {},
   "outputs": [
    {
     "data": {
      "image/svg+xml": [
       "<svg baseProfile=\"full\" height=\"250\" version=\"1.1\" width=\"250\" xmlns=\"http://www.w3.org/2000/svg\" xmlns:ev=\"http://www.w3.org/2001/xml-events\" xmlns:xlink=\"http://www.w3.org/1999/xlink\"><defs /><rect fill=\"white\" height=\"250\" stroke=\"#000000\" stroke-width=\"1\" width=\"250\" x=\"0\" y=\"0\" /><rect fill=\"#eef3dd\" height=\"250.0\" stroke=\"#d3d3d3\" stroke-width=\"1\" width=\"250.0\" x=\"0.0\" y=\"0.0\" /><rect fill=\"#a020f0\" height=\"50.0\" stroke=\"#a020f0\" stroke-width=\"1\" width=\"50.0\" x=\"50.0\" y=\"150.0\" /><circle cx=\"200.0\" cy=\"50.0\" fill=\"rgba(255,255,0,0.25098039215686274)\" r=\"12.5\" stroke=\"rgba(255,255,0,0.25098039215686274)\" stroke-width=\"1\" /><circle cx=\"200.0\" cy=\"150.0\" fill=\"rgba(255,255,0,0.25098039215686274)\" r=\"12.5\" stroke=\"rgba(255,255,0,0.25098039215686274)\" stroke-width=\"1\" /><line fill=\"#800080\" stroke=\"#add8e6\" stroke-width=\"1\" x1=\"127.65165042944955\" x2=\"250.0\" y1=\"34.72271824131501\" y2=\"157.07107\" /><line fill=\"#800080\" stroke=\"#add8e6\" stroke-width=\"1\" x1=\"124.29289321881345\" x2=\"202.06834458401727\" y1=\"36.31370849898477\" y2=\"250.0\" /><line fill=\"#800080\" stroke=\"#add8e6\" stroke-width=\"1\" x1=\"121.81801948466054\" x2=\"103.09196080959453\" y1=\"35.960155108391504\" y2=\"250.0\" /><line fill=\"#800080\" stroke=\"#add8e6\" stroke-width=\"1\" x1=\"118.8128156646177\" x2=\"52.257445335898936\" y1=\"34.72271824131501\" y2=\"150.0\" /><line fill=\"#800080\" stroke=\"#add8e6\" stroke-width=\"1\" x1=\"115.27728175868496\" x2=\"0.0\" y1=\"31.187184335382277\" y2=\"97.742555\" /><line fill=\"#800080\" stroke=\"#add8e6\" stroke-width=\"1\" x1=\"114.03984489160852\" x2=\"0.0\" y1=\"28.18198051533947\" y2=\"38.15917999999998\" /><line fill=\"#800080\" stroke=\"#add8e6\" stroke-width=\"1\" x1=\"113.68629150101523\" x2=\"43.05658814924954\" y1=\"25.70710678118653\" y2=\"0.0\" /><line fill=\"#800080\" stroke=\"#add8e6\" stroke-width=\"1\" x1=\"115.27728175868496\" x2=\"92.92893000000002\" y1=\"22.348349570550454\" y2=\"0.0\" /><line fill=\"#800080\" stroke=\"#ffa500\" stroke-width=\"1\" x1=\"200.0\" x2=\"123.23223304703363\" y1=\"50.0\" y2=\"39.14213562373092\" /><line fill=\"#800080\" stroke=\"#ffa500\" stroke-width=\"1\" x1=\"200.0\" x2=\"123.23223304703363\" y1=\"150.0\" y2=\"39.14213562373092\" /><line fill=\"#800080\" stroke=\"#ffa500\" stroke-width=\"1\" x1=\"200.0\" x2=\"110.85786437626903\" y1=\"50.0\" y2=\"26.767766952966365\" /><line fill=\"#800080\" stroke=\"#ffa500\" stroke-width=\"1\" x1=\"200.0\" x2=\"110.85786437626903\" y1=\"150.0\" y2=\"26.767766952966365\" /><polygon fill=\"red\" points=\"119.87347583639752,35.783378413094844 125.88388347648318,36.490485194281376 136.4904851942814,25.883883476483184 135.78337841309485,19.87347583639756 130.12652416360248,14.216621586905154 124.11611652351682,13.509514805718625 113.50951480571858,24.116116523516816 114.21662158690515,30.12652416360244\" stroke=\"red\" stroke-width=\"1\" /><polygon fill=\"black\" points=\"-2.25,-2.25 0,0 2.25,-2.25 0,2.25\" stroke=\"black\" stroke-width=\"1\" transform=\"translate(125.0,25.0) rotate(45.0)\" /><circle cx=\"123.23223304703363\" cy=\"39.14213562373092\" fill=\"yellow\" r=\"1.25\" stroke=\"orange\" stroke-width=\"1\" /><circle cx=\"110.85786437626903\" cy=\"26.767766952966365\" fill=\"yellow\" r=\"1.25\" stroke=\"orange\" stroke-width=\"1\" /></svg>"
      ],
      "text/plain": [
       "<jyro.simulator.canvas.Canvas at 0x7fc1c8690860>"
      ]
     },
     "execution_count": 33,
     "metadata": {},
     "output_type": "execute_result"
    }
   ],
   "source": [
    "robot.setPose(2.5, 4.5, math.pi * 3/4)\n",
    "sim.draw(canvas)"
   ]
  },
  {
   "cell_type": "code",
   "execution_count": 34,
   "metadata": {},
   "outputs": [
    {
     "data": {
      "image/png": "[encoded data removed]",
      "text/plain": [
       "<matplotlib.figure.Figure at 0x7fc1c4994e80>"
      ]
     },
     "metadata": {},
     "output_type": "display_data"
    }
   ],
   "source": [
    "sampleLight(math.pi * 3/4)"
   ]
  },
  {
   "cell_type": "code",
   "execution_count": 35,
   "metadata": {},
   "outputs": [
    {
     "data": {
      "image/svg+xml": [
       "<svg baseProfile=\"full\" height=\"250\" version=\"1.1\" width=\"250\" xmlns=\"http://www.w3.org/2000/svg\" xmlns:ev=\"http://www.w3.org/2001/xml-events\" xmlns:xlink=\"http://www.w3.org/1999/xlink\"><defs /><rect fill=\"white\" height=\"250\" stroke=\"#000000\" stroke-width=\"1\" width=\"250\" x=\"0\" y=\"0\" /><rect fill=\"#eef3dd\" height=\"250.0\" stroke=\"#d3d3d3\" stroke-width=\"1\" width=\"250.0\" x=\"0.0\" y=\"0.0\" /><rect fill=\"#a020f0\" height=\"50.0\" stroke=\"#a020f0\" stroke-width=\"1\" width=\"50.0\" x=\"50.0\" y=\"150.0\" /><circle cx=\"200.0\" cy=\"50.0\" fill=\"rgba(255,255,0,0.25098039215686274)\" r=\"12.5\" stroke=\"rgba(255,255,0,0.25098039215686274)\" stroke-width=\"1\" /><circle cx=\"200.0\" cy=\"150.0\" fill=\"rgba(255,255,0,0.25098039215686274)\" r=\"12.5\" stroke=\"rgba(255,255,0,0.25098039215686274)\" stroke-width=\"1\" /><line fill=\"#800080\" stroke=\"#add8e6\" stroke-width=\"1\" x1=\"127.65165042944955\" x2=\"250.0\" y1=\"34.72271824131501\" y2=\"157.07107\" /><line fill=\"#800080\" stroke=\"#add8e6\" stroke-width=\"1\" x1=\"124.29289321881345\" x2=\"202.06834458401727\" y1=\"36.31370849898477\" y2=\"250.0\" /><line fill=\"#800080\" stroke=\"#add8e6\" stroke-width=\"1\" x1=\"121.81801948466054\" x2=\"103.09196080959453\" y1=\"35.960155108391504\" y2=\"250.0\" /><line fill=\"#800080\" stroke=\"#add8e6\" stroke-width=\"1\" x1=\"118.8128156646177\" x2=\"52.257445335898936\" y1=\"34.72271824131501\" y2=\"150.0\" /><line fill=\"#800080\" stroke=\"#add8e6\" stroke-width=\"1\" x1=\"115.27728175868496\" x2=\"0.0\" y1=\"31.187184335382277\" y2=\"97.742555\" /><line fill=\"#800080\" stroke=\"#add8e6\" stroke-width=\"1\" x1=\"114.03984489160852\" x2=\"0.0\" y1=\"28.18198051533947\" y2=\"38.15917999999998\" /><line fill=\"#800080\" stroke=\"#add8e6\" stroke-width=\"1\" x1=\"113.68629150101523\" x2=\"43.05658814924954\" y1=\"25.70710678118653\" y2=\"0.0\" /><line fill=\"#800080\" stroke=\"#add8e6\" stroke-width=\"1\" x1=\"115.27728175868496\" x2=\"92.92893000000002\" y1=\"22.348349570550454\" y2=\"0.0\" /><line fill=\"#800080\" stroke=\"#ffa500\" stroke-width=\"1\" x1=\"200.0\" x2=\"123.23223304703363\" y1=\"50.0\" y2=\"39.14213562373092\" /><line fill=\"#800080\" stroke=\"#ffa500\" stroke-width=\"1\" x1=\"200.0\" x2=\"123.23223304703363\" y1=\"150.0\" y2=\"39.14213562373092\" /><line fill=\"#800080\" stroke=\"#ffa500\" stroke-width=\"1\" x1=\"200.0\" x2=\"110.85786437626903\" y1=\"50.0\" y2=\"26.767766952966365\" /><line fill=\"#800080\" stroke=\"#ffa500\" stroke-width=\"1\" x1=\"200.0\" x2=\"110.85786437626903\" y1=\"150.0\" y2=\"26.767766952966365\" /><polygon fill=\"red\" points=\"119.87347583639752,35.783378413094844 125.88388347648318,36.490485194281376 136.4904851942814,25.883883476483184 135.78337841309485,19.87347583639756 130.12652416360248,14.216621586905154 124.11611652351682,13.509514805718625 113.50951480571858,24.116116523516816 114.21662158690515,30.12652416360244\" stroke=\"red\" stroke-width=\"1\" /><polygon fill=\"black\" points=\"-2.25,-2.25 0,0 2.25,-2.25 0,2.25\" stroke=\"black\" stroke-width=\"1\" transform=\"translate(125.0,25.0) rotate(45.0)\" /><circle cx=\"123.23223304703363\" cy=\"39.14213562373092\" fill=\"yellow\" r=\"1.25\" stroke=\"orange\" stroke-width=\"1\" /><circle cx=\"110.85786437626903\" cy=\"26.767766952966365\" fill=\"yellow\" r=\"1.25\" stroke=\"orange\" stroke-width=\"1\" /></svg>"
      ],
      "text/plain": [
       "<jyro.simulator.canvas.Canvas at 0x7fc1c8690860>"
      ]
     },
     "execution_count": 35,
     "metadata": {},
     "output_type": "execute_result"
    }
   ],
   "source": [
    "robot.setPose(2.5, 4.5, math.pi * 3/4)\n",
    "sim.draw(canvas)"
   ]
  },
  {
   "cell_type": "code",
   "execution_count": 36,
   "metadata": {},
   "outputs": [
    {
     "data": {
      "image/svg+xml": [
       "<svg baseProfile=\"full\" height=\"240\" version=\"1.1\" width=\"240\" xmlns=\"http://www.w3.org/2000/svg\" xmlns:ev=\"http://www.w3.org/2001/xml-events\" xmlns:xlink=\"http://www.w3.org/1999/xlink\"><defs /><line fill=\"#800080\" stroke=\"#add8e6\" stroke-width=\"1\" x1=\"612.7279220613578\" x2=\"1200.0\" y1=\"-793.3309524416879\" y2=\"-206.05886400000009\" /><line fill=\"#800080\" stroke=\"#add8e6\" stroke-width=\"1\" x1=\"596.6058874503045\" x2=\"969.9280540032829\" y1=\"-785.6941992048731\" y2=\"240.0\" /><line fill=\"#800080\" stroke=\"#add8e6\" stroke-width=\"1\" x1=\"584.7264935263705\" x2=\"494.8414118860537\" y1=\"-787.3912554797208\" y2=\"240.0\" /><line fill=\"#800080\" stroke=\"#add8e6\" stroke-width=\"1\" x1=\"570.301515190165\" x2=\"250.8357376123149\" y1=\"-793.3309524416879\" y2=\"-240.0\" /><line fill=\"#800080\" stroke=\"#add8e6\" stroke-width=\"1\" x1=\"553.3309524416878\" x2=\"0.0\" y1=\"-810.3015151901651\" y2=\"-490.835736\" /><line fill=\"#800080\" stroke=\"#add8e6\" stroke-width=\"1\" x1=\"547.3912554797209\" x2=\"0.0\" y1=\"-824.7264935263705\" y2=\"-776.8359360000001\" /><line fill=\"#800080\" stroke=\"#add8e6\" stroke-width=\"1\" x1=\"545.6941992048731\" x2=\"206.6716231163978\" y1=\"-836.6058874503046\" y2=\"-960.0\" /><line fill=\"#800080\" stroke=\"#add8e6\" stroke-width=\"1\" x1=\"553.3309524416878\" x2=\"446.0588640000001\" y1=\"-852.7279220613578\" y2=\"-960.0\" /><line fill=\"#800080\" stroke=\"#ffa500\" stroke-width=\"1\" x1=\"960.0\" x2=\"591.5147186257615\" y1=\"-720.0\" y2=\"-772.1177490060916\" /><line fill=\"#800080\" stroke=\"#ffa500\" stroke-width=\"1\" x1=\"960.0\" x2=\"591.5147186257615\" y1=\"-240.0\" y2=\"-772.1177490060916\" /><line fill=\"#800080\" stroke=\"#ffa500\" stroke-width=\"1\" x1=\"960.0\" x2=\"532.1177490060913\" y1=\"-720.0\" y2=\"-831.5147186257615\" /><line fill=\"#800080\" stroke=\"#ffa500\" stroke-width=\"1\" x1=\"960.0\" x2=\"532.1177490060913\" y1=\"-240.0\" y2=\"-831.5147186257615\" /><line fill=\"#800080\" stroke=\"#a020f0\" stroke-width=\"1\" x1=\"600.0\" x2=\"889.385128412507\" y1=\"-840.0\" y2=\"240.0\" /><line fill=\"#800080\" stroke=\"#a020f0\" stroke-width=\"1\" x1=\"600.0\" x2=\"152.15391574223764\" y1=\"-840.0\" y2=\"-960.0\" /><polygon fill=\"red\" points=\"100.8,66.0 78.0,84.0 78.0,156.0 100.8,174.0 139.2,174.0 162.0,156.0 162.0,84.0 139.2,66.0\" stroke=\"red\" stroke-width=\"1\" /><polygon fill=\"black\" points=\"-10.8,-10.8 0,0 10.8,-10.8 0,10.8\" stroke=\"black\" stroke-width=\"1\" transform=\"translate(120.0,120.0) rotate(180.0)\" /><circle cx=\"78.0\" cy=\"66.0\" fill=\"yellow\" r=\"6.0\" stroke=\"orange\" stroke-width=\"1\" /><circle cx=\"162.0\" cy=\"66.0\" fill=\"yellow\" r=\"6.0\" stroke=\"orange\" stroke-width=\"1\" /><polygon fill=\"black\" points=\"134.4,86.39999999999999 134.4,105.6 105.6,105.6 105.6,86.39999999999999\" stroke=\"black\" stroke-width=\"1\" /></svg>"
      ],
      "text/plain": [
       "<__main__.MyPioneer at 0x7fc1c869aa20>"
      ]
     },
     "execution_count": 36,
     "metadata": {},
     "output_type": "execute_result"
    }
   ],
   "source": [
    "robot.addDevice(Camera(120, 80))"
   ]
  },
  {
   "cell_type": "code",
   "execution_count": 37,
   "metadata": {},
   "outputs": [
    {
     "data": {
      "image/png": "[encoded data removed]",
      "text/plain": [
       "<PIL.Image.Image image mode=RGB size=120x80 at 0x7FC1C45622B0>"
      ]
     },
     "execution_count": 37,
     "metadata": {},
     "output_type": "execute_result"
    }
   ],
   "source": [
    "robot.device[\"camera\"].getImage()"
   ]
  },
  {
   "cell_type": "code",
   "execution_count": 38,
   "metadata": {
    "collapsed": true
   },
   "outputs": [],
   "source": [
    "robot.move(0, .5)\n",
    "for i in range(10):\n",
    "    sim.step(run_brain=False)"
   ]
  },
  {
   "cell_type": "code",
   "execution_count": 39,
   "metadata": {},
   "outputs": [
    {
     "data": {
      "image/png": "[encoded data removed]",
      "text/plain": [
       "<PIL.Image.Image image mode=RGB size=120x80 at 0x7FC1C45592B0>"
      ]
     },
     "execution_count": 39,
     "metadata": {},
     "output_type": "execute_result"
    }
   ],
   "source": [
    "robot.device[\"camera\"].getImage()"
   ]
  },
  {
   "cell_type": "code",
   "execution_count": 40,
   "metadata": {},
   "outputs": [
    {
     "data": {
      "image/png": "[encoded data removed]",
      "text/plain": [
       "<PIL.Image.Image image mode=RGB size=240x160 at 0x7FC1C45C75F8>"
      ]
     },
     "execution_count": 40,
     "metadata": {},
     "output_type": "execute_result"
    }
   ],
   "source": [
    "img = robot.device[\"camera\"].getImage()\n",
    "img = img.resize((240, 160))\n",
    "img"
   ]
  },
  {
   "cell_type": "code",
   "execution_count": 41,
   "metadata": {},
   "outputs": [
    {
     "data": {
      "application/vnd.jupyter.widget-view+json": {
       "model_id": "0e0527ec22664885b01693a54327c106"
      }
     },
     "metadata": {},
     "output_type": "display_data"
    }
   ],
   "source": [
    "vsim = VSimulator(robot, world)\n",
    "robot.brain = lambda self: self.move(1,1)"
   ]
  },
  {
   "cell_type": "code",
   "execution_count": null,
   "metadata": {
    "collapsed": true
   },
   "outputs": [],
   "source": []
  }
 ],
 "metadata": {
  "kernelspec": {
   "display_name": "Python 3",
   "language": "python",
   "name": "python3"
  },
  "language_info": {
   "codemirror_mode": {
    "name": "ipython",
    "version": 3
   },
   "file_extension": ".py",
   "mimetype": "text/x-python",
   "name": "python",
   "nbconvert_exporter": "python",
   "pygments_lexer": "ipython3",
   "version": "3.5.3"
  }
 },
 "nbformat": 4,
 "nbformat_minor": 2
}
