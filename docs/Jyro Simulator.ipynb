{
 "cells": [
  {
   "cell_type": "markdown",
   "metadata": {},
   "source": [
    "# Jyro Python Robot Simulator\n",
    "\n",
    "## Pure-Python simulator for robots."
   ]
  },
  {
   "cell_type": "code",
   "execution_count": 1,
   "metadata": {
    "collapsed": false
   },
   "outputs": [],
   "source": [
    "from jyro.simulator import (Pioneer, Simulator, Canvas,\n",
    "                            PioneerFrontSonars, Gripper,\n",
    "                            PioneerFrontLightSensors, Color)\n",
    "import math"
   ]
  },
  {
   "cell_type": "code",
   "execution_count": 2,
   "metadata": {
    "collapsed": true
   },
   "outputs": [],
   "source": [
    "sim = Simulator()"
   ]
  },
  {
   "cell_type": "code",
   "execution_count": 3,
   "metadata": {
    "collapsed": false
   },
   "outputs": [],
   "source": [
    "sim.addBox(0, 0, 10, 10, wallcolor=\"white\") # meters\n",
    "sim.addBox(1, 1, 2, 2, wallcolor=\"purple\")\n",
    "sim.addBox(7, 7, 8, 8, wallcolor=\"purple\")\n",
    "## brightness of 1 is radius 1 meter\n",
    "sim.addLight(7, 7, 4.25, color=Color(255, 255, 0, 64))"
   ]
  },
  {
   "cell_type": "code",
   "execution_count": 4,
   "metadata": {
    "collapsed": false
   },
   "outputs": [],
   "source": [
    "robot = Pioneer(\"Pioneer\", 5.00, 5.00, math.pi / 2) # meters, radians\n",
    "robot.addDevice(PioneerFrontSonars(maxRange=4.0))\n",
    "robot.addDevice(Gripper())\n",
    "robot.addDevice(PioneerFrontLightSensors())\n",
    "sim.addRobot(robot)"
   ]
  },
  {
   "cell_type": "code",
   "execution_count": 27,
   "metadata": {
    "collapsed": true
   },
   "outputs": [],
   "source": [
    "from jyro.simulator.svgcanvas import SVGCanvas\n",
    "\n",
    "canvas = SVGCanvas((250, 250))"
   ]
  },
  {
   "cell_type": "code",
   "execution_count": 28,
   "metadata": {
    "collapsed": false
   },
   "outputs": [
    {
     "data": {
      "image/svg+xml": [
       "<svg baseProfile=\"full\" height=\"250\" version=\"1.1\" width=\"250\" xmlns=\"http://www.w3.org/2000/svg\" xmlns:ev=\"http://www.w3.org/2001/xml-events\" xmlns:xlink=\"http://www.w3.org/1999/xlink\"><defs /><rect fill=\"white\" height=\"250\" stroke=\"#000000\" stroke-width=\"1\" width=\"250\" x=\"0\" y=\"0\" /><rect fill=\"white\" height=\"250.0\" stroke=\"black\" stroke-width=\"1\" width=\"250.0\" x=\"0.0\" y=\"0.0\" /><rect fill=\"purple\" height=\"25.0\" stroke=\"black\" stroke-width=\"1\" width=\"25.0\" x=\"25.0\" y=\"200.0\" /><rect fill=\"purple\" height=\"25.0\" stroke=\"black\" stroke-width=\"1\" width=\"25.0\" x=\"175.0\" y=\"50.0\" /><circle cx=\"175.0\" cy=\"75.0\" fill=\"rgba(255,255,0,0.25098039215686274)\" r=\"106.25\" stroke=\"orange\" stroke-width=\"1\" /><line fill=\"#800080\" stroke=\"lightgray\" stroke-width=\"1\" x1=\"141.13457543459057\" x2=\"53.80484571318297\" y1=\"138.84944721033597\" y2=\"187.56821471102194\" /><line fill=\"#800080\" stroke=\"lightgray\" stroke-width=\"1\" x1=\"140.82780781408738\" x2=\"41.090752892480495\" y1=\"137.01668464333204\" y2=\"144.26374443088542\" /><line fill=\"#800080\" stroke=\"lightgray\" stroke-width=\"1\" x1=\"141.3357143550463\" x2=\"47.88050501334521\" y1=\"135.87452399541462\" y2=\"100.29188993188826\" /><line fill=\"#800080\" stroke=\"lightgray\" stroke-width=\"1\" x1=\"142.34116800398812\" x2=\"72.67985499454707\" y1=\"134.59793167214553\" y2=\"62.853235214493154\" /><line fill=\"#800080\" stroke=\"lightgray\" stroke-width=\"1\" x1=\"144.52441124702332\" x2=\"120.06829274869413\" y1=\"133.37996248462838\" y2=\"36.416576260777454\" /><line fill=\"#800080\" stroke=\"lightgray\" stroke-width=\"1\" x1=\"146.1388494897237\" x2=\"164.95257659241287\" y1=\"133.19499178287688\" y2=\"34.98071750207012\" /><line fill=\"#800080\" stroke=\"black\" stroke-width=\"1\" x1=\"147.37753754319294\" x2=\"189.53841882834445\" y1=\"133.3627770807806\" y2=\"75.0\" /><line fill=\"#800080\" stroke=\"lightgray\" stroke-width=\"1\" x1=\"148.77592678521376\" x2=\"236.10565650662133\" y1=\"134.58655505402592\" y2=\"85.86778755333992\" /><line fill=\"#800080\" stroke=\"purple\" stroke-width=\"1\" x1=\"175.0\" x2=\"175.0\" y1=\"75.0\" y2=\"74.99999999999997\" /><line fill=\"#800080\" stroke=\"purple\" stroke-width=\"1\" x1=\"175.0\" x2=\"175.0\" y1=\"75.0\" y2=\"75.0\" /><polygon fill=\"red\" points=\"141.68619503107757,134.9633224284007 140.525590840832,137.75782558881835 144.17949840338343,144.30755531792394 147.16705637490475,144.78791702205905 150.66024556376104,142.8391663220316 151.82084975400662,140.04466316161393 148.16694219145518,133.49493343250833 145.17938421993387,133.01457172837323\" stroke=\"black\" stroke-width=\"1\" /><polygon fill=\"black\" points=\"145.7780093807164,135.11392232245657 146.75238473073014,136.86051691688473 144.1324928390879,138.32207994190532 143.15811748907416,136.57548534747716\" stroke=\"black\" stroke-width=\"1\" /><line fill=\"#800080\" stroke=\"black\" stroke-width=\"1\" x1=\"140.8128977338635\" x2=\"146.05268151714793\" y1=\"135.45051010340754\" y2=\"132.52738405336638\" /><polygon fill=\"black\" points=\"140.59457340955996,135.57230702215926 138.15863503452564,131.20582053608888 138.5952836831327,130.96222669858543 141.031222058167,135.3287131846558\" stroke=\"black\" stroke-width=\"1\" /><polygon fill=\"black\" points=\"145.83435719284444,132.64918097211807 143.39841881781012,128.2826944860477 143.83506746641717,128.03910064854426 146.27100584145148,132.40558713461465\" stroke=\"black\" stroke-width=\"1\" /></svg>"
      ],
      "text/plain": [
       "<jyro.simulator.svgcanvas.SVGCanvas at 0x7faf16d4f400>"
      ]
     },
     "execution_count": 28,
     "metadata": {},
     "output_type": "execute_result"
    }
   ],
   "source": [
    "sim.draw(canvas)"
   ]
  },
  {
   "cell_type": "code",
   "execution_count": 29,
   "metadata": {
    "collapsed": false
   },
   "outputs": [
    {
     "data": {
      "text/plain": [
       "(5.846928811896772, 4.4439502249913545, 0.5088664970479622)"
      ]
     },
     "execution_count": 29,
     "metadata": {},
     "output_type": "execute_result"
    }
   ],
   "source": [
    "sim[\"Pioneer\"].getPose()"
   ]
  },
  {
   "cell_type": "code",
   "execution_count": 30,
   "metadata": {
    "collapsed": true
   },
   "outputs": [],
   "source": [
    "sim[\"Pioneer\"].move(1, 1)"
   ]
  },
  {
   "cell_type": "code",
   "execution_count": 31,
   "metadata": {
    "collapsed": true
   },
   "outputs": [],
   "source": [
    "from IPython.display import display, clear_output"
   ]
  },
  {
   "cell_type": "code",
   "execution_count": 32,
   "metadata": {
    "collapsed": false
   },
   "outputs": [
    {
     "data": {
      "image/svg+xml": [
       "<svg baseProfile=\"full\" height=\"250\" version=\"1.1\" width=\"250\" xmlns=\"http://www.w3.org/2000/svg\" xmlns:ev=\"http://www.w3.org/2001/xml-events\" xmlns:xlink=\"http://www.w3.org/1999/xlink\"><defs /><rect fill=\"white\" height=\"250\" stroke=\"#000000\" stroke-width=\"1\" width=\"250\" x=\"0\" y=\"0\" /><rect fill=\"white\" height=\"250.0\" stroke=\"black\" stroke-width=\"1\" width=\"250.0\" x=\"0.0\" y=\"0.0\" /><rect fill=\"purple\" height=\"25.0\" stroke=\"black\" stroke-width=\"1\" width=\"25.0\" x=\"25.0\" y=\"200.0\" /><rect fill=\"purple\" height=\"25.0\" stroke=\"black\" stroke-width=\"1\" width=\"25.0\" x=\"175.0\" y=\"50.0\" /><circle cx=\"175.0\" cy=\"75.0\" fill=\"rgba(255,255,0,0.25098039215686274)\" r=\"106.25\" stroke=\"orange\" stroke-width=\"1\" /><line fill=\"#800080\" stroke=\"lightgray\" stroke-width=\"1\" x1=\"143.44568231701928\" x2=\"46.39288036283371\" y1=\"143.80064079933916\" y2=\"167.89947132784474\" /><line fill=\"#800080\" stroke=\"lightgray\" stroke-width=\"1\" x1=\"143.6305327949841\" x2=\"45.48621676223918\" y1=\"141.95159907433776\" y2=\"122.77627038185666\" /><line fill=\"#800080\" stroke=\"lightgray\" stroke-width=\"1\" x1=\"144.42031958556217\" x2=\"63.57520579202244\" y1=\"140.9827147543963\" y2=\"82.12638479992486\" /><line fill=\"#800080\" stroke=\"lightgray\" stroke-width=\"1\" x1=\"145.7254939240718\" x2=\"97.32869760691844\" y1=\"140.01465228425508\" y2=\"52.506080668464364\" /><line fill=\"#800080\" stroke=\"lightgray\" stroke-width=\"1\" x1=\"148.15181397292642\" x2=\"149.99324470838582\" y1=\"139.4121815210424\" y2=\"39.42913729430116\" /><line fill=\"#800080\" stroke=\"black\" stroke-width=\"1\" x1=\"149.75822369304237\" x2=\"181.37072360715672\" y1=\"139.6572790753285\" y2=\"75.0\" /><line fill=\"#800080\" stroke=\"lightgray\" stroke-width=\"1\" x1=\"150.90949294154802\" x2=\"228.6845972384115\" y1=\"140.14418678469985\" y2=\"77.28694255929642\" /><line fill=\"#800080\" stroke=\"lightgray\" stroke-width=\"1\" x1=\"151.93780248801053\" x2=\"248.99060444219606\" y1=\"141.69199312809494\" y2=\"117.59316259958933\" /><line fill=\"#800080\" stroke=\"purple\" stroke-width=\"1\" x1=\"175.0\" x2=\"175.0\" y1=\"75.0\" y2=\"75.0\" /><line fill=\"#800080\" stroke=\"purple\" stroke-width=\"1\" x1=\"175.0\" x2=\"175.0\" y1=\"75.0\" y2=\"75.0\" /><polygon fill=\"red\" points=\"144.9975979094154,140.19539351321885 143.144446935413,142.58748077491182 144.9518592250509,149.86644092147577 147.70871634387225,151.11383373306472 151.5908284220397,150.1498805119245 153.44397939604212,147.75779325023152 151.63656710640421,140.4788331036676 148.87970998758283,139.23144029207864\" stroke=\"black\" stroke-width=\"1\" /><polygon fill=\"black\" points=\"148.90654612654265,141.41430648624763 149.38852273711277,143.35536252533132 146.4769386784872,144.07832744118647 145.99496206791707,142.13727140210278\" stroke=\"black\" stroke-width=\"1\" /><line fill=\"#800080\" stroke=\"black\" stroke-width=\"1\" x1=\"144.02706988987356\" x2=\"149.8502380071247\" y1=\"140.43638181850392\" y2=\"138.99045198679357\" /><polygon fill=\"black\" points=\"143.78443788498808,140.49662889482516 142.5794963585628,135.6439887971159 143.0647603683337,135.52349464447337 144.269701894759,140.37613474218264\" stroke=\"black\" stroke-width=\"1\" /><polygon fill=\"black\" points=\"149.60760600223924,139.05069906311482 148.40266447581394,134.19805896540555 148.88792848558487,134.07756481276303 150.09287001201014,138.9302049104723\" stroke=\"black\" stroke-width=\"1\" /></svg>"
      ],
      "text/plain": [
       "<jyro.simulator.svgcanvas.SVGCanvas at 0x7faf16d4f400>"
      ]
     },
     "metadata": {},
     "output_type": "display_data"
    }
   ],
   "source": [
    "for i in range(500):\n",
    "    sim.step()\n",
    "    for r in sim.robots:\n",
    "        r.updateDevices()\n",
    "    sim.draw(canvas)\n",
    "    clear_output(wait=True)\n",
    "    display(canvas)"
   ]
  },
  {
   "cell_type": "code",
   "execution_count": 33,
   "metadata": {
    "collapsed": false
   },
   "outputs": [
    {
     "name": "stdout",
     "output_type": "stream",
     "text": [
      "CPU times: user 940 ms, sys: 0 ns, total: 940 ms\n",
      "Wall time: 944 ms\n"
     ]
    }
   ],
   "source": [
    "%%time\n",
    "\n",
    "import numpy\n",
    "\n",
    "light0 = numpy.zeros((100,100))\n",
    "light1 = numpy.zeros((100,100))\n",
    "\n",
    "for i in range(500):\n",
    "    sim.step()\n",
    "    for r in sim.robots:\n",
    "        r.updateDevices()\n",
    "        light0[int(r._gx/10 * 100), int(r._gy/10 * 100)] = r.device[\"light\"].scan[0]        \n",
    "        light1[int(r._gx/10 * 100), int(r._gy/10 * 100)] = r.device[\"light\"].scan[1]"
   ]
  },
  {
   "cell_type": "markdown",
   "metadata": {},
   "source": [
    "It took about 1 second to simulate 50 seconds."
   ]
  },
  {
   "cell_type": "markdown",
   "metadata": {},
   "source": [
    "## Checking Light Readings\n",
    "\n",
    "New simulated light sensors are 75% direct light and 25% ambient light."
   ]
  },
  {
   "cell_type": "code",
   "execution_count": 34,
   "metadata": {
    "collapsed": false
   },
   "outputs": [],
   "source": [
    "%matplotlib inline\n",
    "import matplotlib.pyplot as plt"
   ]
  },
  {
   "cell_type": "code",
   "execution_count": 35,
   "metadata": {
    "collapsed": false
   },
   "outputs": [
    {
     "data": {
      "text/plain": [
       "<matplotlib.colorbar.Colorbar at 0x7faf16b62908>"
      ]
     },
     "execution_count": 35,
     "metadata": {},
     "output_type": "execute_result"
    },
    {
     "data": {
      "image/png": "[encoded data removed]",
      "text/plain": [
       "<matplotlib.figure.Figure at 0x7faf16bce048>"
      ]
     },
     "metadata": {},
     "output_type": "display_data"
    }
   ],
   "source": [
    "fig1 = plt.figure()\n",
    "sp0 = fig1.add_subplot(111)\n",
    "p0 = sp0.matshow(light0)\n",
    "fig1.colorbar(p0)"
   ]
  },
  {
   "cell_type": "code",
   "execution_count": 36,
   "metadata": {
    "collapsed": false
   },
   "outputs": [
    {
     "data": {
      "text/plain": [
       "<matplotlib.colorbar.Colorbar at 0x7faf16a93550>"
      ]
     },
     "execution_count": 36,
     "metadata": {},
     "output_type": "execute_result"
    },
    {
     "data": {
      "image/png": "[encoded data removed]",
      "text/plain": [
       "<matplotlib.figure.Figure at 0x7faf16afb668>"
      ]
     },
     "metadata": {},
     "output_type": "display_data"
    }
   ],
   "source": [
    "fig2 = plt.figure()\n",
    "sp1 = fig2.add_subplot(111)\n",
    "p1 = sp1.matshow(light1)\n",
    "fig2.colorbar(p1)"
   ]
  },
  {
   "cell_type": "markdown",
   "metadata": {},
   "source": [
    "## Differences between two light sensors"
   ]
  },
  {
   "cell_type": "code",
   "execution_count": 37,
   "metadata": {
    "collapsed": false
   },
   "outputs": [
    {
     "data": {
      "text/plain": [
       "<matplotlib.colorbar.Colorbar at 0x7faf169dab00>"
      ]
     },
     "execution_count": 37,
     "metadata": {},
     "output_type": "execute_result"
    },
    {
     "data": {
      "image/png": "[encoded data removed]",
      "text/plain": [
       "<matplotlib.figure.Figure at 0x7faf16aad898>"
      ]
     },
     "metadata": {},
     "output_type": "display_data"
    }
   ],
   "source": [
    "fig3 = plt.figure()\n",
    "sp3 = fig3.add_subplot(111)\n",
    "p3 = sp3.matshow(light1 - light0)\n",
    "fig3.colorbar(p3)"
   ]
  }
 ],
 "metadata": {
  "kernelspec": {
   "display_name": "Python 3",
   "language": "python",
   "name": "python3"
  },
  "language_info": {
   "codemirror_mode": {
    "name": "ipython",
    "version": 3
   },
   "file_extension": ".py",
   "mimetype": "text/x-python",
   "name": "python",
   "nbconvert_exporter": "python",
   "pygments_lexer": "ipython3",
   "version": "3.5.2+"
  }
 },
 "nbformat": 4,
 "nbformat_minor": 2
}
