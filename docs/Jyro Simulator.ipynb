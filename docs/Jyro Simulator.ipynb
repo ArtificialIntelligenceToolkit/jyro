{
 "cells": [
  {
   "cell_type": "markdown",
   "metadata": {
    "deletable": true,
    "editable": true
   },
   "source": [
    "# Jyro Python Robot Simulator\n",
    "\n",
    "## Pure-Python simulator for robots."
   ]
  },
  {
   "cell_type": "code",
   "execution_count": 1,
   "metadata": {
    "collapsed": false,
    "deletable": true,
    "editable": true
   },
   "outputs": [],
   "source": [
    "from jyro.simulator import *\n",
    "import math"
   ]
  },
  {
   "cell_type": "code",
   "execution_count": 2,
   "metadata": {
    "collapsed": false,
    "deletable": true,
    "editable": true
   },
   "outputs": [],
   "source": [
    "sim = Simulator()"
   ]
  },
  {
   "cell_type": "code",
   "execution_count": 3,
   "metadata": {
    "collapsed": false,
    "deletable": true,
    "editable": true
   },
   "outputs": [],
   "source": [
    "def world(sim):\n",
    "    sim.addBox(0, 0, 5, 5, fill=\"white\", wallcolor=\"grey\") # meters\n",
    "    sim.addBox(1, 1, 2, 2, \"purple\")\n",
    "    ## brightness of 1 is radius 1 meter\n",
    "    sim.addLight(4, 4, 2.25, color=Color(255, 255, 0, 64))"
   ]
  },
  {
   "cell_type": "code",
   "execution_count": 4,
   "metadata": {
    "collapsed": false,
    "deletable": true,
    "editable": true
   },
   "outputs": [],
   "source": [
    "world(sim)"
   ]
  },
  {
   "cell_type": "code",
   "execution_count": 5,
   "metadata": {
    "collapsed": false,
    "deletable": true,
    "editable": true
   },
   "outputs": [],
   "source": [
    "import random\n",
    "\n",
    "class MyPioneer(Pioneer):\n",
    "    def __init__(self, name, x, y, angle):\n",
    "        Pioneer.__init__(self, name, x, y, angle)\n",
    "        self.addDevice(PioneerFrontSonars(maxRange=1.0))\n",
    "        #self.addDevice(Gripper())\n",
    "        self.addDevice(PioneerFrontLightSensors())\n",
    "        \n",
    "    def brain(self):\n",
    "        self.move(random.random() * 2 - 1, \n",
    "                  random.random() * 2 - 1)"
   ]
  },
  {
   "cell_type": "code",
   "execution_count": 6,
   "metadata": {
    "collapsed": true,
    "deletable": true,
    "editable": true
   },
   "outputs": [],
   "source": [
    "robot = MyPioneer(\"Pioneer\", 2.50, 4.50, math.pi / 2) # meters, radians"
   ]
  },
  {
   "cell_type": "code",
   "execution_count": 7,
   "metadata": {
    "collapsed": false,
    "deletable": true,
    "editable": true
   },
   "outputs": [
    {
     "data": {
      "image/svg+xml": [
       "<svg baseProfile=\"full\" height=\"240\" version=\"1.1\" width=\"240\" xmlns=\"http://www.w3.org/2000/svg\" xmlns:ev=\"http://www.w3.org/2001/xml-events\" xmlns:xlink=\"http://www.w3.org/1999/xlink\"><defs /><polygon fill=\"red\" points=\"100.8,66.0 78.0,84.0 78.0,156.0 100.8,174.0 139.2,174.0 162.0,156.0 162.0,84.0 139.2,66.0\" stroke=\"red\" stroke-width=\"1\" /><polygon fill=\"black\" points=\"134.4,86.39999999999999 134.4,105.6 105.6,105.6 105.6,86.39999999999999\" stroke=\"black\" stroke-width=\"1\" /><circle cx=\"78.0\" cy=\"66.0\" fill=\"yellow\" r=\"6.0\" stroke=\"orange\" stroke-width=\"1\" /><circle cx=\"162.0\" cy=\"66.0\" fill=\"yellow\" r=\"6.0\" stroke=\"orange\" stroke-width=\"1\" /></svg>"
      ],
      "text/plain": [
       "<__main__.MyPioneer at 0x7f59800d64a8>"
      ]
     },
     "execution_count": 7,
     "metadata": {},
     "output_type": "execute_result"
    }
   ],
   "source": [
    "robot"
   ]
  },
  {
   "cell_type": "code",
   "execution_count": 8,
   "metadata": {
    "collapsed": false,
    "deletable": true,
    "editable": true
   },
   "outputs": [],
   "source": [
    "sim.addRobot(robot)"
   ]
  },
  {
   "cell_type": "code",
   "execution_count": 12,
   "metadata": {
    "collapsed": true,
    "deletable": true,
    "editable": true
   },
   "outputs": [],
   "source": [
    "canvas = SVGCanvas((250, 250))"
   ]
  },
  {
   "cell_type": "code",
   "execution_count": 13,
   "metadata": {
    "collapsed": false,
    "deletable": true,
    "editable": true
   },
   "outputs": [
    {
     "data": {
      "image/svg+xml": [
       "<svg baseProfile=\"full\" height=\"250\" version=\"1.1\" width=\"250\" xmlns=\"http://www.w3.org/2000/svg\" xmlns:ev=\"http://www.w3.org/2001/xml-events\" xmlns:xlink=\"http://www.w3.org/1999/xlink\"><defs /><rect fill=\"white\" height=\"250\" stroke=\"#000000\" stroke-width=\"1\" width=\"250\" x=\"0\" y=\"0\" /><rect fill=\"white\" height=\"250.0\" stroke=\"grey\" stroke-width=\"1\" width=\"250.0\" x=\"0.0\" y=\"0.0\" /><rect fill=\"purple\" height=\"50.0\" stroke=\"purple\" stroke-width=\"1\" width=\"50.0\" x=\"50.0\" y=\"150.0\" /><circle cx=\"200.0\" cy=\"50.0\" fill=\"rgba(255,255,0,0.25098039215686274)\" r=\"112.5\" stroke=\"orange\" stroke-width=\"1\" /><line fill=\"#800080\" stroke=\"lightgray\" stroke-width=\"1\" x1=\"127.65165042944955\" x2=\"163.00698948877692\" y1=\"34.72271824131501\" y2=\"70.0780573006424\" /><line fill=\"#800080\" stroke=\"lightgray\" stroke-width=\"1\" x1=\"124.29289321881345\" x2=\"141.39390038509688\" y1=\"36.31370849898477\" y2=\"83.29833953828019\" /><line fill=\"#800080\" stroke=\"lightgray\" stroke-width=\"1\" x1=\"121.81801948466054\" x2=\"117.46023234727762\" y1=\"35.960155108391504\" y2=\"85.76989001297876\" /><line fill=\"#800080\" stroke=\"lightgray\" stroke-width=\"1\" x1=\"118.8128156646177\" x2=\"93.8128156646177\" y1=\"34.72271824131501\" y2=\"78.02398843053695\" /><line fill=\"#800080\" stroke=\"lightgray\" stroke-width=\"1\" x1=\"115.27728175868496\" x2=\"71.97601156946303\" y1=\"31.187184335382277\" y2=\"56.18718433538228\" /><line fill=\"#800080\" stroke=\"lightgray\" stroke-width=\"1\" x1=\"114.03984489160852\" x2=\"64.23010998702125\" y1=\"28.18198051533947\" y2=\"32.539767652722375\" /><line fill=\"#800080\" stroke=\"lightgray\" stroke-width=\"1\" x1=\"113.68629150101523\" x2=\"66.70166046171981\" y1=\"25.70710678118653\" y2=\"8.606099614903107\" /><line fill=\"#800080\" stroke=\"lightblue\" stroke-width=\"1\" x1=\"115.27728175868496\" x2=\"92.92893070710693\" y1=\"22.348349570550454\" y2=\"0.0\" /><line fill=\"#800080\" stroke=\"orange\" stroke-width=\"1\" x1=\"200.0\" x2=\"123.23223304703363\" y1=\"50.0\" y2=\"39.142135623730965\" /><line fill=\"#800080\" stroke=\"purple\" stroke-width=\"1\" x1=\"200.0\" x2=\"130.4900580277912\" y1=\"50.0\" y2=\"31.8843119722088\" /><line fill=\"#800080\" stroke=\"purple\" stroke-width=\"1\" x1=\"125.0\" x2=\"185.2885684192723\" y1=\"25.0\" y2=\"250.0\" /><line fill=\"#800080\" stroke=\"purple\" stroke-width=\"1\" x1=\"125.0\" x2=\"31.69873244629951\" y1=\"25.0\" y2=\"0.0\" /><polygon fill=\"red\" points=\"119.87347583639752,35.783378413094844 125.88388347648318,36.490485194281376 136.4904851942814,25.883883476483184 135.78337841309485,19.87347583639756 130.12652416360248,14.216621586905154 124.11611652351682,13.509514805718625 113.50951480571858,24.116116523516816 114.21662158690515,30.12652416360244\" stroke=\"red\" stroke-width=\"1\" /><polygon fill=\"black\" points=\"117.92893218813451,27.828427124746202 120.7573593128807,25.0 125.0,29.24264068711926 122.17157287525382,32.07106781186546\" stroke=\"black\" stroke-width=\"1\" /><circle cx=\"123.23223304703363\" cy=\"39.14213562373092\" fill=\"yellow\" r=\"1.25\" stroke=\"orange\" stroke-width=\"1\" /><circle cx=\"110.85786437626903\" cy=\"26.767766952966365\" fill=\"yellow\" r=\"1.25\" stroke=\"orange\" stroke-width=\"1\" /></svg>"
      ],
      "text/plain": [
       "<jyro.simulator.svgcanvas.SVGCanvas at 0x7f6b200a31d0>"
      ]
     },
     "execution_count": 13,
     "metadata": {},
     "output_type": "execute_result"
    }
   ],
   "source": [
    "sim.draw(canvas)"
   ]
  },
  {
   "cell_type": "code",
   "execution_count": 11,
   "metadata": {
    "collapsed": true,
    "deletable": true,
    "editable": true
   },
   "outputs": [],
   "source": [
    "robot.setPose(2.50, 4.50, math.pi / 2)"
   ]
  },
  {
   "cell_type": "code",
   "execution_count": 12,
   "metadata": {
    "collapsed": true,
    "deletable": true,
    "editable": true
   },
   "outputs": [],
   "source": [
    "robot.move(1, 1)"
   ]
  },
  {
   "cell_type": "code",
   "execution_count": 13,
   "metadata": {
    "collapsed": true,
    "deletable": true,
    "editable": true
   },
   "outputs": [],
   "source": [
    "from IPython.display import display, clear_output"
   ]
  },
  {
   "cell_type": "code",
   "execution_count": 14,
   "metadata": {
    "collapsed": false,
    "deletable": true,
    "editable": true
   },
   "outputs": [
    {
     "data": {
      "image/svg+xml": [
       "<svg baseProfile=\"full\" height=\"250\" version=\"1.1\" width=\"250\" xmlns=\"http://www.w3.org/2000/svg\" xmlns:ev=\"http://www.w3.org/2001/xml-events\" xmlns:xlink=\"http://www.w3.org/1999/xlink\"><defs /><rect fill=\"white\" height=\"250\" stroke=\"#000000\" stroke-width=\"1\" width=\"250\" x=\"0\" y=\"0\" /><rect fill=\"white\" height=\"250.0\" stroke=\"grey\" stroke-width=\"1\" width=\"250.0\" x=\"0.0\" y=\"0.0\" /><rect fill=\"purple\" height=\"50.0\" stroke=\"purple\" stroke-width=\"1\" width=\"50.0\" x=\"50.0\" y=\"150.0\" /><circle cx=\"200.0\" cy=\"50.0\" fill=\"rgba(255,255,0,0.25098039215686274)\" r=\"112.5\" stroke=\"orange\" stroke-width=\"1\" /><line fill=\"#800080\" stroke=\"lightgray\" stroke-width=\"1\" x1=\"93.54192617209885\" x2=\"224.9392459158559\" y1=\"45.533742722980364\" y2=\"196.31419359164198\" /><line fill=\"#800080\" stroke=\"lightgray\" stroke-width=\"1\" x1=\"90.0820350334988\" x2=\"145.44587706241768\" y1=\"46.89081800056698\" y2=\"239.07522162322553\" /><line fill=\"#800080\" stroke=\"lightblue\" stroke-width=\"1\" x1=\"87.63720845454625\" x2=\"71.35419760866782\" y1=\"46.368493389958545\" y2=\"150.0\" /><line fill=\"#800080\" stroke=\"lightblue\" stroke-width=\"1\" x1=\"84.72387084046076\" x2=\"0.0\" y1=\"44.92801987532711\" y2=\"170.87010999999998\" /><line fill=\"#800080\" stroke=\"lightblue\" stroke-width=\"1\" x1=\"81.43893784686685\" x2=\"0.0\" y1=\"41.15850860361054\" y2=\"81.00297499999999\" /><line fill=\"#800080\" stroke=\"lightblue\" stroke-width=\"1\" x1=\"80.41035586863963\" x2=\"0.0\" y1=\"38.07556859218213\" y2=\"39.578055\" /><line fill=\"#800080\" stroke=\"lightblue\" stroke-width=\"1\" x1=\"80.22723605271702\" x2=\"0.04288392720320752\" y1=\"35.582284185417336\" y2=\"0.0\" /><line fill=\"#800080\" stroke=\"lightblue\" stroke-width=\"1\" x1=\"82.0446606945201\" x2=\"53.86163847024289\" y1=\"32.34045327197248\" y2=\"0.0\" /><line fill=\"#800080\" stroke=\"orange\" stroke-width=\"1\" x1=\"200.0\" x2=\"88.83003708245319\" y1=\"50.0\" y2=\"49.63990896497275\" /><line fill=\"#800080\" stroke=\"purple\" stroke-width=\"1\" x1=\"200.0\" x2=\"100.97232826264091\" y1=\"50.0\" y2=\"39.058531577410925\" /><polygon fill=\"red\" points=\"85.70935073853894,46.05887325684206 91.65717053624059,47.17620921977734 102.9657043513902,37.321410238995554 102.67215146126338,31.27667478566938 97.4162586715131,25.245456750922912 91.46843887381146,24.128120787987626 80.15990505866183,33.98291976876941 80.45345794878868,40.02765522209559\" stroke=\"red\" stroke-width=\"1\" /><polygon fill=\"black\" points=\"84.3145291284665,37.9893644318841 87.33013814583974,35.36141803700894 91.27205773815245,39.884831563068744 88.25644872077922,42.512777957943904\" stroke=\"black\" stroke-width=\"1\" /><circle cx=\"88.83003708245319\" cy=\"49.63990896497279\" fill=\"yellow\" r=\"1.25\" stroke=\"orange\" stroke-width=\"1\" /><circle cx=\"77.33277160487444\" cy=\"36.44661951396486\" fill=\"yellow\" r=\"1.25\" stroke=\"orange\" stroke-width=\"1\" /></svg>"
      ],
      "text/plain": [
       "<jyro.simulator.svgcanvas.SVGCanvas at 0x7ff36f1ac710>"
      ]
     },
     "metadata": {},
     "output_type": "display_data"
    },
    {
     "name": "stdout",
     "output_type": "stream",
     "text": [
      "CPU times: user 452 ms, sys: 20 ms, total: 472 ms\n",
      "Wall time: 6.42 s\n"
     ]
    }
   ],
   "source": [
    "%%time\n",
    "\n",
    "import time\n",
    "\n",
    "for i in range(70):\n",
    "    sim.step(run_brain=False)\n",
    "    for r in sim.robots:\n",
    "        sim.draw(canvas)\n",
    "        clear_output(wait=True)\n",
    "        display(canvas)\n",
    "        time.sleep(.085) # sleep for a bit"
   ]
  },
  {
   "cell_type": "code",
   "execution_count": 16,
   "metadata": {
    "collapsed": false,
    "deletable": true,
    "editable": true
   },
   "outputs": [
    {
     "data": {
      "text/plain": [
       "(1.8312560941005205, 4.28695669992235, 2.287611019615305)"
      ]
     },
     "execution_count": 16,
     "metadata": {},
     "output_type": "execute_result"
    }
   ],
   "source": [
    "robot.getPose()"
   ]
  },
  {
   "cell_type": "code",
   "execution_count": 17,
   "metadata": {
    "collapsed": false,
    "deletable": true,
    "editable": true
   },
   "outputs": [
    {
     "name": "stdout",
     "output_type": "stream",
     "text": [
      "CPU times: user 84 ms, sys: 4 ms, total: 88 ms\n",
      "Wall time: 90.3 ms\n"
     ]
    }
   ],
   "source": [
    "%%time\n",
    "\n",
    "import numpy\n",
    "\n",
    "light0 = numpy.zeros((100,100))\n",
    "light1 = numpy.zeros((100,100))\n",
    "\n",
    "robot.setPose(2.50, 4.50, math.pi / 2)\n",
    "for i in range(70):\n",
    "    sim.step(run_brain=False)\n",
    "    for r in sim.robots:\n",
    "        x, y, a = robot.getPose()\n",
    "        light0[int(y/canvas.max_y * 100), int(x/canvas.max_x * 100)] = r.device[\"light\"].scan[0]        \n",
    "        light1[int(y/canvas.max_y * 100), int(x/canvas.max_x * 100)] = r.device[\"light\"].scan[1]"
   ]
  },
  {
   "cell_type": "markdown",
   "metadata": {
    "deletable": true,
    "editable": true
   },
   "source": [
    "70 steps * 0.1 seconds/step = 7 seconds\n",
    "\n",
    "7 seconds / 85 ms"
   ]
  },
  {
   "cell_type": "code",
   "execution_count": 18,
   "metadata": {
    "collapsed": false,
    "deletable": true,
    "editable": true
   },
   "outputs": [
    {
     "data": {
      "text/plain": [
       "82.35294117647058"
      ]
     },
     "execution_count": 18,
     "metadata": {},
     "output_type": "execute_result"
    }
   ],
   "source": [
    "7 / .085"
   ]
  },
  {
   "cell_type": "markdown",
   "metadata": {
    "deletable": true,
    "editable": true
   },
   "source": [
    "Looks like it simulates about 80 - 100 simulated seconds for every real second, or is 80 - 100 times faster than real life."
   ]
  },
  {
   "cell_type": "markdown",
   "metadata": {
    "deletable": true,
    "editable": true
   },
   "source": [
    "## Checking Light Readings\n",
    "\n",
    "New simulated light sensors are 75% direct light and 25% ambient light."
   ]
  },
  {
   "cell_type": "code",
   "execution_count": 19,
   "metadata": {
    "collapsed": false,
    "deletable": true,
    "editable": true
   },
   "outputs": [],
   "source": [
    "%matplotlib inline\n",
    "import matplotlib.pyplot as plt"
   ]
  },
  {
   "cell_type": "code",
   "execution_count": 20,
   "metadata": {
    "collapsed": false,
    "deletable": true,
    "editable": true
   },
   "outputs": [
    {
     "data": {
      "text/plain": [
       "<matplotlib.colorbar.Colorbar at 0x7ff36b6b1240>"
      ]
     },
     "execution_count": 20,
     "metadata": {},
     "output_type": "execute_result"
    },
    {
     "data": {
      "image/png": "[encoded data removed]",
      "text/plain": [
       "<matplotlib.figure.Figure at 0x7ff36d99ccf8>"
      ]
     },
     "metadata": {},
     "output_type": "display_data"
    }
   ],
   "source": [
    "fig1 = plt.figure()\n",
    "sp0 = fig1.add_subplot(111)\n",
    "p0 = sp0.matshow(light0, origin=\"lower\")\n",
    "fig1.colorbar(p0)"
   ]
  },
  {
   "cell_type": "code",
   "execution_count": 21,
   "metadata": {
    "collapsed": false,
    "deletable": true,
    "editable": true
   },
   "outputs": [
    {
     "data": {
      "text/plain": [
       "<matplotlib.colorbar.Colorbar at 0x7ff36b5afd68>"
      ]
     },
     "execution_count": 21,
     "metadata": {},
     "output_type": "execute_result"
    },
    {
     "data": {
      "image/png": "[encoded data removed]",
      "text/plain": [
       "<matplotlib.figure.Figure at 0x7ff36f1d51d0>"
      ]
     },
     "metadata": {},
     "output_type": "display_data"
    }
   ],
   "source": [
    "fig2 = plt.figure()\n",
    "sp1 = fig2.add_subplot(111)\n",
    "p1 = sp1.matshow(light1, origin=\"lower\")\n",
    "fig2.colorbar(p1)"
   ]
  },
  {
   "cell_type": "markdown",
   "metadata": {
    "deletable": true,
    "editable": true
   },
   "source": [
    "## Differences between two light sensors"
   ]
  },
  {
   "cell_type": "code",
   "execution_count": 22,
   "metadata": {
    "collapsed": false,
    "deletable": true,
    "editable": true
   },
   "outputs": [
    {
     "data": {
      "text/plain": [
       "<matplotlib.colorbar.Colorbar at 0x7ff36b4f16a0>"
      ]
     },
     "execution_count": 22,
     "metadata": {},
     "output_type": "execute_result"
    },
    {
     "data": {
      "image/png": "[encoded data removed]",
      "text/plain": [
       "<matplotlib.figure.Figure at 0x7ff36b5bfd68>"
      ]
     },
     "metadata": {},
     "output_type": "display_data"
    }
   ],
   "source": [
    "fig3 = plt.figure()\n",
    "sp3 = fig3.add_subplot(111)\n",
    "p3 = sp3.matshow(light1 - light0, origin=\"lower\")\n",
    "fig3.colorbar(p3)"
   ]
  },
  {
   "cell_type": "code",
   "execution_count": 23,
   "metadata": {
    "collapsed": false,
    "deletable": true,
    "editable": true
   },
   "outputs": [],
   "source": [
    "def sampleLight(angle, resolution=50):\n",
    "    light0 = numpy.zeros((resolution,resolution))\n",
    "    light1 = numpy.zeros((resolution,resolution))\n",
    "\n",
    "    for x in range(resolution):\n",
    "        for y in range(resolution):\n",
    "            for r in sim.robots:\n",
    "                r.setPose(x/resolution * canvas.max_x, \n",
    "                          y/resolution * canvas.max_y, \n",
    "                          angle) \n",
    "                light0[y, x] = r.device[\"light\"].scan[0]        \n",
    "                light1[y, x] = r.device[\"light\"].scan[1]\n",
    "    fig = plt.figure()\n",
    "    sp = fig.add_subplot(111)\n",
    "    p = sp.matshow(light0, origin=\"lower\")\n",
    "    fig.colorbar(p)"
   ]
  },
  {
   "cell_type": "code",
   "execution_count": 24,
   "metadata": {
    "collapsed": false,
    "deletable": true,
    "editable": true
   },
   "outputs": [
    {
     "data": {
      "image/svg+xml": [
       "<svg baseProfile=\"full\" height=\"250\" version=\"1.1\" width=\"250\" xmlns=\"http://www.w3.org/2000/svg\" xmlns:ev=\"http://www.w3.org/2001/xml-events\" xmlns:xlink=\"http://www.w3.org/1999/xlink\"><defs /><rect fill=\"white\" height=\"250\" stroke=\"#000000\" stroke-width=\"1\" width=\"250\" x=\"0\" y=\"0\" /><rect fill=\"white\" height=\"250.0\" stroke=\"grey\" stroke-width=\"1\" width=\"250.0\" x=\"0.0\" y=\"0.0\" /><rect fill=\"purple\" height=\"50.0\" stroke=\"purple\" stroke-width=\"1\" width=\"50.0\" x=\"50.0\" y=\"150.0\" /><circle cx=\"200.0\" cy=\"50.0\" fill=\"rgba(255,255,0,0.25098039215686274)\" r=\"112.5\" stroke=\"orange\" stroke-width=\"1\" /><line fill=\"#800080\" stroke=\"lightblue\" stroke-width=\"1\" x1=\"116.25000000000001\" x2=\"0.0\" y1=\"20.000000000000018\" y2=\"20.000000000000018\" /><line fill=\"#800080\" stroke=\"lightblue\" stroke-width=\"1\" x1=\"117.5\" x2=\"82.1156395230017\" y1=\"16.500000000000004\" y2=\"0.0\" /><line fill=\"#800080\" stroke=\"lightblue\" stroke-width=\"1\" x1=\"119.5\" x2=\"106.91350544273581\" y1=\"14.999999999999991\" y2=\"0.0\" /><line fill=\"#800080\" stroke=\"lightblue\" stroke-width=\"1\" x1=\"122.50000000000001\" x2=\"118.81569829691756\" y1=\"13.750000000000018\" y2=\"0.0\" /><line fill=\"#800080\" stroke=\"lightblue\" stroke-width=\"1\" x1=\"127.49999999999999\" x2=\"131.18430170308244\" y1=\"13.750000000000018\" y2=\"0.0\" /><line fill=\"#800080\" stroke=\"lightblue\" stroke-width=\"1\" x1=\"130.5\" x2=\"143.0864945572642\" y1=\"14.999999999999991\" y2=\"0.0\" /><line fill=\"#800080\" stroke=\"lightblue\" stroke-width=\"1\" x1=\"132.5\" x2=\"167.88436047699838\" y1=\"16.500000000000004\" y2=\"0.0\" /><line fill=\"#800080\" stroke=\"lightblue\" stroke-width=\"1\" x1=\"133.75\" x2=\"250.0\" y1=\"20.000000000000018\" y2=\"20.000000000000018\" /><line fill=\"#800080\" stroke=\"purple\" stroke-width=\"1\" x1=\"200.0\" x2=\"133.75\" y1=\"50.0\" y2=\"21.324628249999968\" /><line fill=\"#800080\" stroke=\"orange\" stroke-width=\"1\" x1=\"200.0\" x2=\"133.75\" y1=\"50.0\" y2=\"13.750000000000018\" /><polygon fill=\"red\" points=\"121.0,13.750000000000018 116.25000000000001,17.499999999999982 116.25000000000001,32.500000000000014 121.0,36.249999999999986 129.0,36.249999999999986 133.75,32.500000000000014 133.75,17.499999999999982 129.0,13.750000000000018\" stroke=\"red\" stroke-width=\"1\" /><polygon fill=\"black\" points=\"128.0,18.000000000000014 128.0,22.00000000000002 122.0,22.00000000000002 122.0,18.000000000000014\" stroke=\"black\" stroke-width=\"1\" /><circle cx=\"116.25000000000001\" cy=\"13.750000000000018\" fill=\"yellow\" r=\"1.25\" stroke=\"orange\" stroke-width=\"1\" /><circle cx=\"133.75\" cy=\"13.750000000000018\" fill=\"yellow\" r=\"1.25\" stroke=\"orange\" stroke-width=\"1\" /></svg>"
      ],
      "text/plain": [
       "<jyro.simulator.svgcanvas.SVGCanvas at 0x7ff36f1ac710>"
      ]
     },
     "execution_count": 24,
     "metadata": {},
     "output_type": "execute_result"
    }
   ],
   "source": [
    "robot.setPose(2.5, 4.5, 0)\n",
    "sim.draw(canvas)"
   ]
  },
  {
   "cell_type": "code",
   "execution_count": 25,
   "metadata": {
    "collapsed": false,
    "deletable": true,
    "editable": true
   },
   "outputs": [
    {
     "data": {
      "image/png": "[encoded data removed]",
      "text/plain": [
       "<matplotlib.figure.Figure at 0x7ff388119d30>"
      ]
     },
     "metadata": {},
     "output_type": "display_data"
    }
   ],
   "source": [
    "sampleLight(0) # face up, north"
   ]
  },
  {
   "cell_type": "code",
   "execution_count": 26,
   "metadata": {
    "collapsed": false,
    "deletable": true,
    "editable": true
   },
   "outputs": [
    {
     "data": {
      "image/svg+xml": [
       "<svg baseProfile=\"full\" height=\"250\" version=\"1.1\" width=\"250\" xmlns=\"http://www.w3.org/2000/svg\" xmlns:ev=\"http://www.w3.org/2001/xml-events\" xmlns:xlink=\"http://www.w3.org/1999/xlink\"><defs /><rect fill=\"white\" height=\"250\" stroke=\"#000000\" stroke-width=\"1\" width=\"250\" x=\"0\" y=\"0\" /><rect fill=\"white\" height=\"250.0\" stroke=\"grey\" stroke-width=\"1\" width=\"250.0\" x=\"0.0\" y=\"0.0\" /><rect fill=\"purple\" height=\"50.0\" stroke=\"purple\" stroke-width=\"1\" width=\"50.0\" x=\"50.0\" y=\"150.0\" /><circle cx=\"200.0\" cy=\"50.0\" fill=\"rgba(255,255,0,0.25098039215686274)\" r=\"112.5\" stroke=\"orange\" stroke-width=\"1\" /><line fill=\"#800080\" stroke=\"lightblue\" stroke-width=\"1\" x1=\"133.75\" x2=\"250.0\" y1=\"29.999999999999982\" y2=\"29.999999999999982\" /><line fill=\"#800080\" stroke=\"lightblue\" stroke-width=\"1\" x1=\"132.5\" x2=\"250.0\" y1=\"33.5\" y2=\"88.29115499999997\" /><line fill=\"#800080\" stroke=\"lightblue\" stroke-width=\"1\" x1=\"130.5\" x2=\"250.0\" y1=\"35.00000000000001\" y2=\"177.414555\" /><line fill=\"#800080\" stroke=\"lightgray\" stroke-width=\"1\" x1=\"127.49999999999999\" x2=\"179.26380902050414\" y1=\"36.249999999999986\" y2=\"229.43516525781362\" /><line fill=\"#800080\" stroke=\"lightblue\" stroke-width=\"1\" x1=\"122.50000000000001\" x2=\"92.02077828149548\" y1=\"36.249999999999986\" y2=\"150.0\" /><line fill=\"#800080\" stroke=\"lightblue\" stroke-width=\"1\" x1=\"119.5\" x2=\"0.0\" y1=\"35.00000000000001\" y2=\"177.414555\" /><line fill=\"#800080\" stroke=\"lightblue\" stroke-width=\"1\" x1=\"117.5\" x2=\"0.0\" y1=\"33.5\" y2=\"88.291155\" /><line fill=\"#800080\" stroke=\"lightblue\" stroke-width=\"1\" x1=\"116.25000000000001\" x2=\"0.0\" y1=\"29.999999999999982\" y2=\"29.999999999999982\" /><line fill=\"#800080\" stroke=\"orange\" stroke-width=\"1\" x1=\"200.0\" x2=\"133.75\" y1=\"50.0\" y2=\"36.249999999999986\" /><line fill=\"#800080\" stroke=\"orange\" stroke-width=\"1\" x1=\"200.0\" x2=\"116.25000000000001\" y1=\"50.0\" y2=\"36.249999999999986\" /><polygon fill=\"red\" points=\"129.0,36.249999999999986 133.75,32.500000000000014 133.75,17.499999999999982 129.0,13.750000000000018 121.0,13.750000000000018 116.25000000000001,17.499999999999982 116.25000000000001,32.500000000000014 121.0,36.249999999999986\" stroke=\"red\" stroke-width=\"1\" /><polygon fill=\"black\" points=\"122.0,31.999999999999986 122.0,27.99999999999998 128.0,27.99999999999998 128.0,31.999999999999986\" stroke=\"black\" stroke-width=\"1\" /><circle cx=\"133.75\" cy=\"36.249999999999986\" fill=\"yellow\" r=\"1.25\" stroke=\"orange\" stroke-width=\"1\" /><circle cx=\"116.25000000000001\" cy=\"36.249999999999986\" fill=\"yellow\" r=\"1.25\" stroke=\"orange\" stroke-width=\"1\" /></svg>"
      ],
      "text/plain": [
       "<jyro.simulator.svgcanvas.SVGCanvas at 0x7ff36f1ac710>"
      ]
     },
     "execution_count": 26,
     "metadata": {},
     "output_type": "execute_result"
    }
   ],
   "source": [
    "robot.setPose(2.5, 4.5, math.pi)\n",
    "sim.draw(canvas)"
   ]
  },
  {
   "cell_type": "code",
   "execution_count": 27,
   "metadata": {
    "collapsed": false,
    "deletable": true,
    "editable": true
   },
   "outputs": [
    {
     "data": {
      "image/png": "[encoded data removed]",
      "text/plain": [
       "<matplotlib.figure.Figure at 0x7ff36d99c978>"
      ]
     },
     "metadata": {},
     "output_type": "display_data"
    }
   ],
   "source": [
    "sampleLight(math.pi)"
   ]
  },
  {
   "cell_type": "code",
   "execution_count": 28,
   "metadata": {
    "collapsed": false,
    "deletable": true,
    "editable": true
   },
   "outputs": [
    {
     "data": {
      "image/svg+xml": [
       "<svg baseProfile=\"full\" height=\"250\" version=\"1.1\" width=\"250\" xmlns=\"http://www.w3.org/2000/svg\" xmlns:ev=\"http://www.w3.org/2001/xml-events\" xmlns:xlink=\"http://www.w3.org/1999/xlink\"><defs /><rect fill=\"white\" height=\"250\" stroke=\"#000000\" stroke-width=\"1\" width=\"250\" x=\"0\" y=\"0\" /><rect fill=\"white\" height=\"250.0\" stroke=\"grey\" stroke-width=\"1\" width=\"250.0\" x=\"0.0\" y=\"0.0\" /><rect fill=\"purple\" height=\"50.0\" stroke=\"purple\" stroke-width=\"1\" width=\"50.0\" x=\"50.0\" y=\"150.0\" /><circle cx=\"200.0\" cy=\"50.0\" fill=\"rgba(255,255,0,0.25098039215686274)\" r=\"112.5\" stroke=\"orange\" stroke-width=\"1\" /><line fill=\"#800080\" stroke=\"lightgray\" stroke-width=\"1\" x1=\"120.0\" x2=\"119.99999999999997\" y1=\"33.74999999999999\" y2=\"233.75\" /><line fill=\"#800080\" stroke=\"lightblue\" stroke-width=\"1\" x1=\"116.5\" x2=\"61.70885196457741\" y1=\"32.500000000000014\" y2=\"150.0\" /><line fill=\"#800080\" stroke=\"lightblue\" stroke-width=\"1\" x1=\"114.99999999999999\" x2=\"0.0\" y1=\"30.500000000000014\" y2=\"126.99645500000001\" /><line fill=\"#800080\" stroke=\"lightblue\" stroke-width=\"1\" x1=\"113.75\" x2=\"0.0\" y1=\"27.499999999999993\" y2=\"57.97922\" /><line fill=\"#800080\" stroke=\"lightblue\" stroke-width=\"1\" x1=\"113.75\" x2=\"29.778853603593507\" y1=\"22.500000000000007\" y2=\"0.0\" /><line fill=\"#800080\" stroke=\"lightblue\" stroke-width=\"1\" x1=\"114.99999999999999\" x2=\"91.76080527269946\" y1=\"19.499999999999986\" y2=\"0.0\" /><line fill=\"#800080\" stroke=\"lightblue\" stroke-width=\"1\" x1=\"116.5\" x2=\"108.33961605161466\" y1=\"17.499999999999982\" y2=\"0.0\" /><line fill=\"#800080\" stroke=\"lightblue\" stroke-width=\"1\" x1=\"120.0\" x2=\"120.0\" y1=\"16.250000000000007\" y2=\"0.0\" /><line fill=\"#800080\" stroke=\"orange\" stroke-width=\"1\" x1=\"200.0\" x2=\"113.75\" y1=\"50.0\" y2=\"33.74999999999999\" /><line fill=\"#800080\" stroke=\"purple\" stroke-width=\"1\" x1=\"200.0\" x2=\"136.25\" y1=\"50.0\" y2=\"25.054344499999992\" /><polygon fill=\"red\" points=\"113.75,29.000000000000004 117.5,33.74999999999999 132.5,33.74999999999999 136.25,29.000000000000004 136.25,20.999999999999996 132.5,16.250000000000007 117.5,16.250000000000007 113.75,20.999999999999996\" stroke=\"red\" stroke-width=\"1\" /><polygon fill=\"black\" points=\"118.0,22.00000000000002 122.0,22.00000000000002 122.0,27.99999999999998 118.0,27.99999999999998\" stroke=\"black\" stroke-width=\"1\" /><circle cx=\"113.75\" cy=\"33.74999999999999\" fill=\"yellow\" r=\"1.25\" stroke=\"orange\" stroke-width=\"1\" /><circle cx=\"113.75\" cy=\"16.250000000000007\" fill=\"yellow\" r=\"1.25\" stroke=\"orange\" stroke-width=\"1\" /></svg>"
      ],
      "text/plain": [
       "<jyro.simulator.svgcanvas.SVGCanvas at 0x7ff36f1ac710>"
      ]
     },
     "execution_count": 28,
     "metadata": {},
     "output_type": "execute_result"
    }
   ],
   "source": [
    "robot.setPose(2.5, 4.5, math.pi/2)\n",
    "sim.draw(canvas)"
   ]
  },
  {
   "cell_type": "code",
   "execution_count": 29,
   "metadata": {
    "collapsed": false,
    "deletable": true,
    "editable": true
   },
   "outputs": [
    {
     "data": {
      "image/png": "[encoded data removed]",
      "text/plain": [
       "<matplotlib.figure.Figure at 0x7ff36b65ff98>"
      ]
     },
     "metadata": {},
     "output_type": "display_data"
    }
   ],
   "source": [
    "sampleLight(math.pi/2)"
   ]
  },
  {
   "cell_type": "code",
   "execution_count": 30,
   "metadata": {
    "collapsed": false,
    "deletable": true,
    "editable": true
   },
   "outputs": [
    {
     "data": {
      "image/svg+xml": [
       "<svg baseProfile=\"full\" height=\"250\" version=\"1.1\" width=\"250\" xmlns=\"http://www.w3.org/2000/svg\" xmlns:ev=\"http://www.w3.org/2001/xml-events\" xmlns:xlink=\"http://www.w3.org/1999/xlink\"><defs /><rect fill=\"white\" height=\"250\" stroke=\"#000000\" stroke-width=\"1\" width=\"250\" x=\"0\" y=\"0\" /><rect fill=\"white\" height=\"250.0\" stroke=\"grey\" stroke-width=\"1\" width=\"250.0\" x=\"0.0\" y=\"0.0\" /><rect fill=\"purple\" height=\"50.0\" stroke=\"purple\" stroke-width=\"1\" width=\"50.0\" x=\"50.0\" y=\"150.0\" /><circle cx=\"200.0\" cy=\"50.0\" fill=\"rgba(255,255,0,0.25098039215686274)\" r=\"112.5\" stroke=\"orange\" stroke-width=\"1\" /><line fill=\"#800080\" stroke=\"lightblue\" stroke-width=\"1\" x1=\"115.27728175868496\" x2=\"0.0\" y1=\"27.651650429449546\" y2=\"142.92893\" /><line fill=\"#800080\" stroke=\"lightblue\" stroke-width=\"1\" x1=\"113.68629150101523\" x2=\"0.0\" y1=\"24.29289321881347\" y2=\"65.671315\" /><line fill=\"#800080\" stroke=\"lightblue\" stroke-width=\"1\" x1=\"114.03984489160852\" x2=\"0.0\" y1=\"21.81801948466053\" y2=\"11.840820000000019\" /><line fill=\"#800080\" stroke=\"lightblue\" stroke-width=\"1\" x1=\"115.27728175868496\" x2=\"82.69252653025382\" y1=\"18.812815664617723\" y2=\"0.0\" /><line fill=\"#800080\" stroke=\"lightblue\" stroke-width=\"1\" x1=\"118.81281566461772\" x2=\"109.9924725071574\" y1=\"15.27728175868499\" y2=\"0.0\" /><line fill=\"#800080\" stroke=\"lightblue\" stroke-width=\"1\" x1=\"121.81801948466054\" x2=\"120.58969262377946\" y1=\"14.0398448916085\" y2=\"0.0\" /><line fill=\"#800080\" stroke=\"lightblue\" stroke-width=\"1\" x1=\"124.29289321881345\" x2=\"129.27429690418586\" y1=\"13.686291501015235\" y2=\"0.0\" /><line fill=\"#800080\" stroke=\"lightblue\" stroke-width=\"1\" x1=\"127.65165042944955\" x2=\"142.92893\" y1=\"15.27728175868499\" y2=\"0.0\" /><line fill=\"#800080\" stroke=\"purple\" stroke-width=\"1\" x1=\"200.0\" x2=\"135.32932630449798\" y1=\"50.0\" y2=\"30.580573695502\" /><line fill=\"#800080\" stroke=\"orange\" stroke-width=\"1\" x1=\"200.0\" x2=\"123.23223304703363\" y1=\"50.0\" y2=\"10.857864376269033\" /><polygon fill=\"red\" points=\"114.21662158690515,19.87347583639756 113.50951480571861,25.883883476483184 124.1161165235168,36.490485194281376 130.12652416360248,35.783378413094844 135.78337841309485,30.12652416360244 136.4904851942814,24.116116523516816 125.8838834764832,13.509514805718625 119.87347583639752,14.216621586905154\" stroke=\"red\" stroke-width=\"1\" /><polygon fill=\"black\" points=\"122.17157287525382,17.92893218813454 125.0,20.75735931288074 120.7573593128807,25.0 117.92893218813451,22.171572875253798\" stroke=\"black\" stroke-width=\"1\" /><circle cx=\"110.85786437626903\" cy=\"23.232233047033635\" fill=\"yellow\" r=\"1.25\" stroke=\"orange\" stroke-width=\"1\" /><circle cx=\"123.23223304703363\" cy=\"10.857864376269077\" fill=\"yellow\" r=\"1.25\" stroke=\"orange\" stroke-width=\"1\" /></svg>"
      ],
      "text/plain": [
       "<jyro.simulator.svgcanvas.SVGCanvas at 0x7ff36f1ac710>"
      ]
     },
     "execution_count": 30,
     "metadata": {},
     "output_type": "execute_result"
    }
   ],
   "source": [
    "robot.setPose(2.5, 4.5, math.pi/4)\n",
    "sim.draw(canvas)"
   ]
  },
  {
   "cell_type": "code",
   "execution_count": 31,
   "metadata": {
    "collapsed": false,
    "deletable": true,
    "editable": true
   },
   "outputs": [
    {
     "data": {
      "image/png": "[encoded data removed]",
      "text/plain": [
       "<matplotlib.figure.Figure at 0x7ff36b44c0b8>"
      ]
     },
     "metadata": {},
     "output_type": "display_data"
    }
   ],
   "source": [
    "sampleLight(math.pi/4)"
   ]
  },
  {
   "cell_type": "code",
   "execution_count": 32,
   "metadata": {
    "collapsed": false,
    "deletable": true,
    "editable": true
   },
   "outputs": [
    {
     "data": {
      "image/svg+xml": [
       "<svg baseProfile=\"full\" height=\"250\" version=\"1.1\" width=\"250\" xmlns=\"http://www.w3.org/2000/svg\" xmlns:ev=\"http://www.w3.org/2001/xml-events\" xmlns:xlink=\"http://www.w3.org/1999/xlink\"><defs /><rect fill=\"white\" height=\"250\" stroke=\"#000000\" stroke-width=\"1\" width=\"250\" x=\"0\" y=\"0\" /><rect fill=\"white\" height=\"250.0\" stroke=\"grey\" stroke-width=\"1\" width=\"250.0\" x=\"0.0\" y=\"0.0\" /><rect fill=\"purple\" height=\"50.0\" stroke=\"purple\" stroke-width=\"1\" width=\"50.0\" x=\"50.0\" y=\"150.0\" /><circle cx=\"200.0\" cy=\"50.0\" fill=\"rgba(255,255,0,0.25098039215686274)\" r=\"112.5\" stroke=\"orange\" stroke-width=\"1\" /><line fill=\"#800080\" stroke=\"lightblue\" stroke-width=\"1\" x1=\"127.65165042944955\" x2=\"250.0\" y1=\"34.72271824131501\" y2=\"157.07107\" /><line fill=\"#800080\" stroke=\"lightgray\" stroke-width=\"1\" x1=\"124.29289321881345\" x2=\"192.69692188394717\" y1=\"36.31370849898477\" y2=\"224.25223265616646\" /><line fill=\"#800080\" stroke=\"lightgray\" stroke-width=\"1\" x1=\"121.81801948466054\" x2=\"104.38687093512891\" y1=\"35.960155108391504\" y2=\"235.1990947267406\" /><line fill=\"#800080\" stroke=\"lightblue\" stroke-width=\"1\" x1=\"118.8128156646177\" x2=\"52.257445335898936\" y1=\"34.72271824131501\" y2=\"150.0\" /><line fill=\"#800080\" stroke=\"lightblue\" stroke-width=\"1\" x1=\"115.27728175868496\" x2=\"0.0\" y1=\"31.187184335382277\" y2=\"97.742555\" /><line fill=\"#800080\" stroke=\"lightblue\" stroke-width=\"1\" x1=\"114.03984489160852\" x2=\"0.0\" y1=\"28.18198051533947\" y2=\"38.15917999999998\" /><line fill=\"#800080\" stroke=\"lightblue\" stroke-width=\"1\" x1=\"113.68629150101523\" x2=\"43.05658814924954\" y1=\"25.70710678118653\" y2=\"0.0\" /><line fill=\"#800080\" stroke=\"lightblue\" stroke-width=\"1\" x1=\"115.27728175868496\" x2=\"92.92893000000002\" y1=\"22.348349570550454\" y2=\"0.0\" /><line fill=\"#800080\" stroke=\"orange\" stroke-width=\"1\" x1=\"200.0\" x2=\"123.23223304703363\" y1=\"50.0\" y2=\"39.142135623730965\" /><line fill=\"#800080\" stroke=\"purple\" stroke-width=\"1\" x1=\"200.0\" x2=\"130.4900580277912\" y1=\"50.0\" y2=\"31.8843119722088\" /><polygon fill=\"red\" points=\"119.87347583639752,35.783378413094844 125.88388347648318,36.490485194281376 136.4904851942814,25.883883476483184 135.78337841309485,19.87347583639756 130.12652416360248,14.216621586905154 124.11611652351682,13.509514805718625 113.50951480571858,24.116116523516816 114.21662158690515,30.12652416360244\" stroke=\"red\" stroke-width=\"1\" /><polygon fill=\"black\" points=\"117.92893218813451,27.828427124746202 120.7573593128807,25.0 125.0,29.24264068711926 122.17157287525382,32.07106781186546\" stroke=\"black\" stroke-width=\"1\" /><circle cx=\"123.23223304703363\" cy=\"39.14213562373092\" fill=\"yellow\" r=\"1.25\" stroke=\"orange\" stroke-width=\"1\" /><circle cx=\"110.85786437626903\" cy=\"26.767766952966365\" fill=\"yellow\" r=\"1.25\" stroke=\"orange\" stroke-width=\"1\" /></svg>"
      ],
      "text/plain": [
       "<jyro.simulator.svgcanvas.SVGCanvas at 0x7ff36f1ac710>"
      ]
     },
     "execution_count": 32,
     "metadata": {},
     "output_type": "execute_result"
    }
   ],
   "source": [
    "robot.setPose(2.5, 4.5, math.pi * 3/4)\n",
    "sim.draw(canvas)"
   ]
  },
  {
   "cell_type": "code",
   "execution_count": 33,
   "metadata": {
    "collapsed": false,
    "deletable": true,
    "editable": true
   },
   "outputs": [
    {
     "data": {
      "image/png": "[encoded data removed]",
      "text/plain": [
       "<matplotlib.figure.Figure at 0x7ff36b6ef7b8>"
      ]
     },
     "metadata": {},
     "output_type": "display_data"
    }
   ],
   "source": [
    "sampleLight(math.pi * 3/4)"
   ]
  },
  {
   "cell_type": "code",
   "execution_count": 10,
   "metadata": {
    "collapsed": false,
    "deletable": true,
    "editable": true
   },
   "outputs": [
    {
     "ename": "AttributeError",
     "evalue": "module 'jyro.simulator.canvas' has no attribute 'height'",
     "output_type": "error",
     "traceback": [
      "\u001b[0;31m---------------------------------------------------------------------------\u001b[0m",
      "\u001b[0;31mAttributeError\u001b[0m                            Traceback (most recent call last)",
      "\u001b[0;32m<ipython-input-10-05f3c2e0b94a>\u001b[0m in \u001b[0;36m<module>\u001b[0;34m()\u001b[0m\n\u001b[1;32m      1\u001b[0m \u001b[0mrobot\u001b[0m\u001b[0;34m.\u001b[0m\u001b[0msetPose\u001b[0m\u001b[0;34m(\u001b[0m\u001b[0;36m2.5\u001b[0m\u001b[0;34m,\u001b[0m \u001b[0;36m4.5\u001b[0m\u001b[0;34m,\u001b[0m \u001b[0mmath\u001b[0m\u001b[0;34m.\u001b[0m\u001b[0mpi\u001b[0m \u001b[0;34m*\u001b[0m \u001b[0;36m3\u001b[0m\u001b[0;34m/\u001b[0m\u001b[0;36m4\u001b[0m\u001b[0;34m)\u001b[0m\u001b[0;34m\u001b[0m\u001b[0m\n\u001b[0;32m----> 2\u001b[0;31m \u001b[0msim\u001b[0m\u001b[0;34m.\u001b[0m\u001b[0mdraw\u001b[0m\u001b[0;34m(\u001b[0m\u001b[0mcanvas\u001b[0m\u001b[0;34m)\u001b[0m\u001b[0;34m\u001b[0m\u001b[0m\n\u001b[0m",
      "\u001b[0;32m/usr/local/lib/python3.5/dist-packages/jyro-0.0.1-py3.5.egg/jyro/simulator/simulator.py\u001b[0m in \u001b[0;36mdraw\u001b[0;34m(self, canvas, scale)\u001b[0m\n\u001b[1;32m    233\u001b[0m                            [segment.end[1] for segment in self.world])\n\u001b[1;32m    234\u001b[0m         \u001b[0;32mif\u001b[0m \u001b[0mscale\u001b[0m \u001b[0;32mis\u001b[0m \u001b[0;32mNone\u001b[0m\u001b[0;34m:\u001b[0m\u001b[0;34m\u001b[0m\u001b[0m\n\u001b[0;32m--> 235\u001b[0;31m             \u001b[0;32mif\u001b[0m \u001b[0mcanvas\u001b[0m\u001b[0;34m.\u001b[0m\u001b[0mheight\u001b[0m \u001b[0;32mis\u001b[0m \u001b[0;32mNone\u001b[0m\u001b[0;34m:\u001b[0m\u001b[0;34m\u001b[0m\u001b[0m\n\u001b[0m\u001b[1;32m    236\u001b[0m                 \u001b[0mcanvas\u001b[0m\u001b[0;34m.\u001b[0m\u001b[0mscale\u001b[0m \u001b[0;34m=\u001b[0m \u001b[0mcanvas\u001b[0m\u001b[0;34m.\u001b[0m\u001b[0mwidth\u001b[0m\u001b[0;34m/\u001b[0m\u001b[0mcanvas\u001b[0m\u001b[0;34m.\u001b[0m\u001b[0mmax_x\u001b[0m\u001b[0;34m\u001b[0m\u001b[0m\n\u001b[1;32m    237\u001b[0m             \u001b[0;32melif\u001b[0m \u001b[0mcanvas\u001b[0m\u001b[0;34m.\u001b[0m\u001b[0mwidth\u001b[0m \u001b[0;32mis\u001b[0m \u001b[0;32mNone\u001b[0m\u001b[0;34m:\u001b[0m\u001b[0;34m\u001b[0m\u001b[0m\n",
      "\u001b[0;31mAttributeError\u001b[0m: module 'jyro.simulator.canvas' has no attribute 'height'"
     ]
    }
   ],
   "source": [
    "robot.setPose(2.5, 4.5, math.pi * 3/4)\n",
    "sim.draw(canvas)"
   ]
  },
  {
   "cell_type": "code",
   "execution_count": 8,
   "metadata": {
    "collapsed": false,
    "deletable": true,
    "editable": true
   },
   "outputs": [],
   "source": [
    "robot.addDevice(Camera(120, 80))"
   ]
  },
  {
   "cell_type": "code",
   "execution_count": 9,
   "metadata": {
    "collapsed": false,
    "deletable": true,
    "editable": true
   },
   "outputs": [
    {
     "data": {
      "image/png": "[encoded data removed]",
      "text/plain": [
       "<PIL.Image.Image image mode=RGB size=120x80 at 0x7F5980128F60>"
      ]
     },
     "execution_count": 9,
     "metadata": {},
     "output_type": "execute_result"
    }
   ],
   "source": [
    "robot.device[\"camera\"].getImage()"
   ]
  },
  {
   "cell_type": "code",
   "execution_count": 37,
   "metadata": {
    "collapsed": true,
    "deletable": true,
    "editable": true
   },
   "outputs": [],
   "source": [
    "robot.move(0, .5)\n",
    "for i in range(10):\n",
    "    sim.step(run_brain=False)"
   ]
  },
  {
   "cell_type": "code",
   "execution_count": 38,
   "metadata": {
    "collapsed": false,
    "deletable": true,
    "editable": true
   },
   "outputs": [
    {
     "data": {
      "image/png": "[encoded data removed]",
      "text/plain": [
       "<PIL.Image.Image image mode=RGB size=120x80 at 0x7FF36B175E48>"
      ]
     },
     "execution_count": 38,
     "metadata": {},
     "output_type": "execute_result"
    }
   ],
   "source": [
    "robot.device[\"camera\"].getImage()"
   ]
  },
  {
   "cell_type": "code",
   "execution_count": 39,
   "metadata": {
    "collapsed": false,
    "deletable": true,
    "editable": true
   },
   "outputs": [
    {
     "data": {
      "image/png": "[encoded data removed]",
      "text/plain": [
       "<PIL.Image.Image image mode=RGB size=240x160 at 0x7FF36B175DA0>"
      ]
     },
     "execution_count": 39,
     "metadata": {},
     "output_type": "execute_result"
    }
   ],
   "source": [
    "img = robot.device[\"camera\"].getImage()\n",
    "img = img.resize((240, 160))\n",
    "img"
   ]
  },
  {
   "cell_type": "code",
   "execution_count": 10,
   "metadata": {
    "collapsed": false,
    "deletable": true,
    "editable": true
   },
   "outputs": [
    {
     "data": {
      "application/vnd.jupyter.widget-view+json": {
       "model_id": "1b031151a65a4a1ebcfe02aa844ecf3f"
      }
     },
     "metadata": {},
     "output_type": "display_data"
    }
   ],
   "source": [
    "vsim = VSimulator(robot, world)"
   ]
  },
  {
   "cell_type": "code",
   "execution_count": 12,
   "metadata": {
    "collapsed": true,
    "deletable": true,
    "editable": true
   },
   "outputs": [],
   "source": [
    "robot.brain = lambda: robot.move(1,0)"
   ]
  },
  {
   "cell_type": "code",
   "execution_count": 10,
   "metadata": {
    "collapsed": true,
    "deletable": true,
    "editable": true
   },
   "outputs": [],
   "source": [
    "import ipywidgets"
   ]
  },
  {
   "cell_type": "code",
   "execution_count": 11,
   "metadata": {
    "collapsed": false
   },
   "outputs": [
    {
     "data": {
      "application/vnd.jupyter.widget-view+json": {
       "model_id": "e46c099e65f0434f8d037cfe027e96b2"
      }
     },
     "metadata": {},
     "output_type": "display_data"
    }
   ],
   "source": [
    "ipywidgets.Checkbox(description=\"Update GUI\", value=True)"
   ]
  },
  {
   "cell_type": "code",
   "execution_count": null,
   "metadata": {
    "collapsed": true
   },
   "outputs": [],
   "source": []
  }
 ],
 "metadata": {
  "kernelspec": {
   "display_name": "Python 3",
   "language": "python",
   "name": "python3"
  },
  "language_info": {
   "codemirror_mode": {
    "name": "ipython",
    "version": 3
   },
   "file_extension": ".py",
   "mimetype": "text/x-python",
   "name": "python",
   "nbconvert_exporter": "python",
   "pygments_lexer": "ipython3",
   "version": "3.5.2+"
  }
 },
 "nbformat": 4,
 "nbformat_minor": 2
}
