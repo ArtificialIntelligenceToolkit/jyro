{
 "cells": [
  {
   "cell_type": "markdown",
   "metadata": {
    "deletable": true,
    "editable": true
   },
   "source": [
    "# Jyro Python Robot Simulator\n",
    "\n",
    "## Pure-Python simulator for robots."
   ]
  },
  {
   "cell_type": "code",
   "execution_count": 1,
   "metadata": {
    "collapsed": false,
    "deletable": true,
    "editable": true
   },
   "outputs": [],
   "source": [
    "from jyro.simulator import (Pioneer, Simulator, Camera,\n",
    "                            PioneerFrontSonars, Gripper,\n",
    "                            PioneerFrontLightSensors, Color)\n",
    "import math"
   ]
  },
  {
   "cell_type": "code",
   "execution_count": 2,
   "metadata": {
    "collapsed": true,
    "deletable": true,
    "editable": true
   },
   "outputs": [],
   "source": [
    "sim = Simulator()"
   ]
  },
  {
   "cell_type": "code",
   "execution_count": 3,
   "metadata": {
    "collapsed": false,
    "deletable": true,
    "editable": true
   },
   "outputs": [],
   "source": [
    "sim.addBox(0, 0, 10, 10, fill=\"white\", wallcolor=\"grey\") # meters\n",
    "sim.addBox(1, 1, 2, 2, \"purple\")\n",
    "sim.addBox(7, 7, 8, 8, \"purple\")\n",
    "## brightness of 1 is radius 1 meter\n",
    "sim.addLight(7, 7, 4.25, color=Color(255, 255, 0, 64))"
   ]
  },
  {
   "cell_type": "code",
   "execution_count": 4,
   "metadata": {
    "collapsed": false,
    "deletable": true,
    "editable": true
   },
   "outputs": [],
   "source": [
    "robot = Pioneer(\"Pioneer\", 5.00, 5.00, math.pi / 2) # meters, radians\n",
    "robot.addDevice(PioneerFrontSonars(maxRange=4.0))\n",
    "robot.addDevice(Gripper())\n",
    "robot.addDevice(PioneerFrontLightSensors())\n",
    "sim.addRobot(robot)"
   ]
  },
  {
   "cell_type": "code",
   "execution_count": 5,
   "metadata": {
    "collapsed": true,
    "deletable": true,
    "editable": true
   },
   "outputs": [],
   "source": [
    "from jyro.simulator.svgcanvas import SVGCanvas\n",
    "\n",
    "canvas = SVGCanvas((250, 250))"
   ]
  },
  {
   "cell_type": "code",
   "execution_count": 6,
   "metadata": {
    "collapsed": false,
    "deletable": true,
    "editable": true
   },
   "outputs": [
    {
     "data": {
      "image/svg+xml": [
       "<svg baseProfile=\"full\" height=\"250\" version=\"1.1\" width=\"250\" xmlns=\"http://www.w3.org/2000/svg\" xmlns:ev=\"http://www.w3.org/2001/xml-events\" xmlns:xlink=\"http://www.w3.org/1999/xlink\"><defs /><rect fill=\"white\" height=\"250\" stroke=\"#000000\" stroke-width=\"1\" width=\"250\" x=\"0\" y=\"0\" /><rect fill=\"white\" height=\"250.0\" stroke=\"grey\" stroke-width=\"1\" width=\"250.0\" x=\"0.0\" y=\"0.0\" /><rect fill=\"purple\" height=\"25.0\" stroke=\"purple\" stroke-width=\"1\" width=\"25.0\" x=\"25.0\" y=\"200.0\" /><rect fill=\"purple\" height=\"25.0\" stroke=\"purple\" stroke-width=\"1\" width=\"25.0\" x=\"175.0\" y=\"50.0\" /><circle cx=\"175.0\" cy=\"75.0\" fill=\"rgba(255,255,0,0.25098039215686274)\" r=\"106.25\" stroke=\"orange\" stroke-width=\"1\" /><line fill=\"#800080\" stroke=\"lightgray\" stroke-width=\"1\" x1=\"122.50000000000001\" x2=\"122.49999999999999\" y1=\"129.375\" y2=\"229.37500000000003\" /><line fill=\"#800080\" stroke=\"lightgray\" stroke-width=\"1\" x1=\"120.75\" x2=\"78.48817382593005\" y1=\"128.75\" y2=\"219.38077870366502\" /><line fill=\"#800080\" stroke=\"lightgray\" stroke-width=\"1\" x1=\"120.0\" x2=\"43.39555568810219\" y1=\"127.75000000000001\" y2=\"192.02876096865396\" /><line fill=\"#800080\" stroke=\"lightgray\" stroke-width=\"1\" x1=\"119.37500000000001\" x2=\"22.782417371093178\" y1=\"126.25\" y2=\"152.13190451025204\" /><line fill=\"#800080\" stroke=\"lightgray\" stroke-width=\"1\" x1=\"119.37500000000001\" x2=\"22.782417371093178\" y1=\"123.75\" y2=\"97.86809548974793\" /><line fill=\"#800080\" stroke=\"lightgray\" stroke-width=\"1\" x1=\"120.0\" x2=\"43.39555568810219\" y1=\"122.24999999999999\" y2=\"57.971239031346045\" /><line fill=\"#800080\" stroke=\"lightgray\" stroke-width=\"1\" x1=\"120.75\" x2=\"78.48817382593006\" y1=\"121.24999999999999\" y2=\"30.619221296334985\" /><line fill=\"#800080\" stroke=\"lightgray\" stroke-width=\"1\" x1=\"122.50000000000001\" x2=\"122.50000000000001\" y1=\"120.625\" y2=\"20.624999999999982\" /><line fill=\"#800080\" stroke=\"purple\" stroke-width=\"1\" x1=\"175.0\" x2=\"175.0\" y1=\"75.0\" y2=\"75.0\" /><line fill=\"#800080\" stroke=\"purple\" stroke-width=\"1\" x1=\"175.0\" x2=\"175.0\" y1=\"75.0\" y2=\"75.0\" /><polygon fill=\"red\" points=\"119.37500000000001,127.0 121.24999999999999,129.375 128.75,129.375 130.625,127.0 130.625,123.0 128.75,120.625 121.24999999999999,120.625 119.37500000000001,123.0\" stroke=\"black\" stroke-width=\"1\" /><polygon fill=\"black\" points=\"121.50000000000001,123.50000000000001 123.50000000000001,123.50000000000001 123.50000000000001,126.49999999999999 121.50000000000001,126.49999999999999\" stroke=\"black\" stroke-width=\"1\" /><line fill=\"#800080\" stroke=\"black\" stroke-width=\"1\" x1=\"119.37500000000001\" x2=\"119.37500000000001\" y1=\"128.0\" y2=\"122.0\" /><polygon fill=\"black\" points=\"119.37500000000001,128.25 114.375,128.25 114.375,127.75000000000001 119.37500000000001,127.75000000000001\" stroke=\"black\" stroke-width=\"1\" /><polygon fill=\"black\" points=\"119.37500000000001,122.24999999999999 114.375,122.24999999999999 114.375,121.75 119.37500000000001,121.75\" stroke=\"black\" stroke-width=\"1\" /></svg>"
      ],
      "text/plain": [
       "<jyro.simulator.svgcanvas.SVGCanvas at 0x7f0a78748e48>"
      ]
     },
     "execution_count": 6,
     "metadata": {},
     "output_type": "execute_result"
    }
   ],
   "source": [
    "sim.draw(canvas)"
   ]
  },
  {
   "cell_type": "code",
   "execution_count": 7,
   "metadata": {
    "collapsed": false,
    "deletable": true,
    "editable": true
   },
   "outputs": [
    {
     "data": {
      "text/plain": [
       "(5.0, 5.0, 1.5707963267948966)"
      ]
     },
     "execution_count": 7,
     "metadata": {},
     "output_type": "execute_result"
    }
   ],
   "source": [
    "sim[\"Pioneer\"].getPose()"
   ]
  },
  {
   "cell_type": "code",
   "execution_count": 8,
   "metadata": {
    "collapsed": true,
    "deletable": true,
    "editable": true
   },
   "outputs": [],
   "source": [
    "sim[\"Pioneer\"].move(1, 1)"
   ]
  },
  {
   "cell_type": "code",
   "execution_count": 9,
   "metadata": {
    "collapsed": true,
    "deletable": true,
    "editable": true
   },
   "outputs": [],
   "source": [
    "from IPython.display import display, clear_output"
   ]
  },
  {
   "cell_type": "code",
   "execution_count": 10,
   "metadata": {
    "collapsed": false,
    "deletable": true,
    "editable": true
   },
   "outputs": [
    {
     "data": {
      "image/svg+xml": [
       "<svg baseProfile=\"full\" height=\"250\" version=\"1.1\" width=\"250\" xmlns=\"http://www.w3.org/2000/svg\" xmlns:ev=\"http://www.w3.org/2001/xml-events\" xmlns:xlink=\"http://www.w3.org/1999/xlink\"><defs /><rect fill=\"white\" height=\"250\" stroke=\"#000000\" stroke-width=\"1\" width=\"250\" x=\"0\" y=\"0\" /><rect fill=\"white\" height=\"250.0\" stroke=\"grey\" stroke-width=\"1\" width=\"250.0\" x=\"0.0\" y=\"0.0\" /><rect fill=\"purple\" height=\"25.0\" stroke=\"purple\" stroke-width=\"1\" width=\"25.0\" x=\"25.0\" y=\"200.0\" /><rect fill=\"purple\" height=\"25.0\" stroke=\"purple\" stroke-width=\"1\" width=\"25.0\" x=\"175.0\" y=\"50.0\" /><circle cx=\"175.0\" cy=\"75.0\" fill=\"rgba(255,255,0,0.25098039215686274)\" r=\"106.25\" stroke=\"orange\" stroke-width=\"1\" /><line fill=\"#800080\" stroke=\"lightgray\" stroke-width=\"1\" x1=\"127.94980676800452\" x2=\"101.71232139760758\" y1=\"129.7688770991384\" y2=\"226.2654799483486\" /><line fill=\"#800080\" stroke=\"lightgray\" stroke-width=\"1\" x1=\"126.42510050170831\" x2=\"61.86463663824154\" y1=\"128.7066173373489\" y2=\"205.07379946248693\" /><line fill=\"#800080\" stroke=\"lightgray\" stroke-width=\"1\" x1=\"125.96375083404321\" x2=\"35.177933936123786\" y1=\"127.54487016857883\" y2=\"169.47261098748592\" /><line fill=\"#800080\" stroke=\"lightgray\" stroke-width=\"1\" x1=\"125.7542093467916\" x2=\"25.754887596122668\" y1=\"125.9334368422757\" y2=\"125.56513071119745\" /><line fill=\"#800080\" stroke=\"lightgray\" stroke-width=\"1\" x1=\"126.41014648105151\" x2=\"39.99234654929755\" y1=\"123.52102177104543\" y2=\"73.20239842982765\" /><line fill=\"#800080\" stroke=\"lightgray\" stroke-width=\"1\" x1=\"127.40681252941503\" x2=\"70.35125664234158\" y1=\"122.23755701187227\" y2=\"40.11165645414909\" /><line fill=\"#800080\" stroke=\"lightgray\" stroke-width=\"1\" x1=\"128.3929119044881\" x2=\"111.39092264792316\" y1=\"121.46937212365813\" y2=\"22.925309079151734\" /><line fill=\"#800080\" stroke=\"lightgray\" stroke-width=\"1\" x1=\"130.24558673791424\" x2=\"156.48307210831118\" y1=\"121.32542434983252\" y2=\"24.82882150062231\" /><line fill=\"#800080\" stroke=\"purple\" stroke-width=\"1\" x1=\"175.0\" x2=\"175.0\" y1=\"75.0\" y2=\"75.0\" /><line fill=\"#800080\" stroke=\"purple\" stroke-width=\"1\" x1=\"175.0\" x2=\"175.0\" y1=\"75.0\" y2=\"74.99999999999997\" /><polygon fill=\"red\" points=\"125.5574282065136,126.65716136364476 126.74359923238939,129.44090853200845 133.98084444608014,131.40871993478822 136.41329602704977,129.6088784678144 137.46279544186567,125.74901435384602 136.2766244159899,122.96526718548233 129.03937920229913,120.99745578270256 126.6069276213295,122.79729724967636\" stroke=\"black\" stroke-width=\"1\" /><polygon fill=\"black\" points=\"128.52629300502323,123.83732682804336 130.45622506200743,124.36207653545128 129.66910050089552,127.25697462092758 127.73916844391131,126.73222491351966\" stroke=\"black\" stroke-width=\"1\" /><line fill=\"#800080\" stroke=\"black\" stroke-width=\"1\" x1=\"125.29505335280963\" x2=\"126.86930247503348\" y1=\"127.62212739213687\" y2=\"121.83233122118425\" /><polygon fill=\"black\" points=\"125.22945963938366,127.86336889925988 120.40462949692315,126.55149463074005 120.53581692377513,126.069011616494 125.36064706623564,127.38088588501384\" stroke=\"black\" stroke-width=\"1\" /><polygon fill=\"black\" points=\"126.80370876160747,122.07357272830728 121.97887861914695,120.76169845978744 122.11006604599895,120.27921544554138 126.93489618845946,121.59108971406123\" stroke=\"black\" stroke-width=\"1\" /></svg>"
      ],
      "text/plain": [
       "<jyro.simulator.svgcanvas.SVGCanvas at 0x7f0a78748e48>"
      ]
     },
     "metadata": {},
     "output_type": "display_data"
    }
   ],
   "source": [
    "for i in range(500):\n",
    "    sim.step()\n",
    "    for r in sim.robots:\n",
    "        sim.draw(canvas)\n",
    "        clear_output(wait=True)\n",
    "        display(canvas)"
   ]
  },
  {
   "cell_type": "code",
   "execution_count": 11,
   "metadata": {
    "collapsed": false,
    "deletable": true,
    "editable": true
   },
   "outputs": [
    {
     "name": "stdout",
     "output_type": "stream",
     "text": [
      "CPU times: user 580 ms, sys: 4 ms, total: 584 ms\n",
      "Wall time: 587 ms\n"
     ]
    }
   ],
   "source": [
    "%%time\n",
    "\n",
    "import numpy\n",
    "\n",
    "light0 = numpy.zeros((100,100))\n",
    "light1 = numpy.zeros((100,100))\n",
    "\n",
    "for i in range(500):\n",
    "    sim.step()\n",
    "    for r in sim.robots:\n",
    "        light0[int(r._gx/10 * 100), int(r._gy/10 * 100)] = r.device[\"light\"].scan[0]        \n",
    "        light1[int(r._gx/10 * 100), int(r._gy/10 * 100)] = r.device[\"light\"].scan[1]"
   ]
  },
  {
   "cell_type": "markdown",
   "metadata": {
    "deletable": true,
    "editable": true
   },
   "source": [
    "500 steps * 0.1 seconds/step = 50 seconds\n",
    "\n",
    "50 seconds / 0.596"
   ]
  },
  {
   "cell_type": "code",
   "execution_count": 12,
   "metadata": {
    "collapsed": false,
    "deletable": true,
    "editable": true
   },
   "outputs": [
    {
     "data": {
      "text/plain": [
       "83.89261744966443"
      ]
     },
     "execution_count": 12,
     "metadata": {},
     "output_type": "execute_result"
    }
   ],
   "source": [
    "50 / 0.596"
   ]
  },
  {
   "cell_type": "markdown",
   "metadata": {
    "deletable": true,
    "editable": true
   },
   "source": [
    "Looks like it simulates about 83 seconds for every real second, or is 83 times faster."
   ]
  },
  {
   "cell_type": "markdown",
   "metadata": {
    "deletable": true,
    "editable": true
   },
   "source": [
    "## Checking Light Readings\n",
    "\n",
    "New simulated light sensors are 75% direct light and 25% ambient light."
   ]
  },
  {
   "cell_type": "code",
   "execution_count": 13,
   "metadata": {
    "collapsed": false,
    "deletable": true,
    "editable": true
   },
   "outputs": [],
   "source": [
    "%matplotlib inline\n",
    "import matplotlib.pyplot as plt"
   ]
  },
  {
   "cell_type": "code",
   "execution_count": 14,
   "metadata": {
    "collapsed": false,
    "deletable": true,
    "editable": true
   },
   "outputs": [
    {
     "data": {
      "text/plain": [
       "<matplotlib.colorbar.Colorbar at 0x7f0a4c53eb70>"
      ]
     },
     "execution_count": 14,
     "metadata": {},
     "output_type": "execute_result"
    },
    {
     "data": {
      "image/png": "[encoded data removed]",
      "text/plain": [
       "<matplotlib.figure.Figure at 0x7f0a4fbfe668>"
      ]
     },
     "metadata": {},
     "output_type": "display_data"
    }
   ],
   "source": [
    "fig1 = plt.figure()\n",
    "sp0 = fig1.add_subplot(111)\n",
    "p0 = sp0.matshow(light0, origin=\"lower\")\n",
    "fig1.colorbar(p0)"
   ]
  },
  {
   "cell_type": "code",
   "execution_count": 15,
   "metadata": {
    "collapsed": false,
    "deletable": true,
    "editable": true
   },
   "outputs": [
    {
     "data": {
      "text/plain": [
       "<matplotlib.colorbar.Colorbar at 0x7f0a4c440da0>"
      ]
     },
     "execution_count": 15,
     "metadata": {},
     "output_type": "execute_result"
    },
    {
     "data": {
      "image/png": "[encoded data removed]",
      "text/plain": [
       "<matplotlib.figure.Figure at 0x7f0a4c551320>"
      ]
     },
     "metadata": {},
     "output_type": "display_data"
    }
   ],
   "source": [
    "fig2 = plt.figure()\n",
    "sp1 = fig2.add_subplot(111)\n",
    "p1 = sp1.matshow(light1, origin=\"lower\")\n",
    "fig2.colorbar(p1)"
   ]
  },
  {
   "cell_type": "markdown",
   "metadata": {
    "deletable": true,
    "editable": true
   },
   "source": [
    "## Differences between two light sensors"
   ]
  },
  {
   "cell_type": "code",
   "execution_count": 16,
   "metadata": {
    "collapsed": false,
    "deletable": true,
    "editable": true
   },
   "outputs": [
    {
     "data": {
      "text/plain": [
       "<matplotlib.colorbar.Colorbar at 0x7f0a4c3f2dd8>"
      ]
     },
     "execution_count": 16,
     "metadata": {},
     "output_type": "execute_result"
    },
    {
     "data": {
      "image/png": "[encoded data removed]",
      "text/plain": [
       "<matplotlib.figure.Figure at 0x7f0a4c446320>"
      ]
     },
     "metadata": {},
     "output_type": "display_data"
    }
   ],
   "source": [
    "fig3 = plt.figure()\n",
    "sp3 = fig3.add_subplot(111)\n",
    "p3 = sp3.matshow(light1 - light0, origin=\"lower\")\n",
    "fig3.colorbar(p3)"
   ]
  },
  {
   "cell_type": "code",
   "execution_count": 17,
   "metadata": {
    "collapsed": false,
    "deletable": true,
    "editable": true
   },
   "outputs": [
    {
     "data": {
      "image/svg+xml": [
       "<svg baseProfile=\"full\" height=\"250\" version=\"1.1\" width=\"250\" xmlns=\"http://www.w3.org/2000/svg\" xmlns:ev=\"http://www.w3.org/2001/xml-events\" xmlns:xlink=\"http://www.w3.org/1999/xlink\"><defs /><rect fill=\"white\" height=\"250\" stroke=\"#000000\" stroke-width=\"1\" width=\"250\" x=\"0\" y=\"0\" /><rect fill=\"white\" height=\"250.0\" stroke=\"grey\" stroke-width=\"1\" width=\"250.0\" x=\"0.0\" y=\"0.0\" /><rect fill=\"purple\" height=\"25.0\" stroke=\"purple\" stroke-width=\"1\" width=\"25.0\" x=\"25.0\" y=\"200.0\" /><rect fill=\"purple\" height=\"25.0\" stroke=\"purple\" stroke-width=\"1\" width=\"25.0\" x=\"175.0\" y=\"50.0\" /><circle cx=\"175.0\" cy=\"75.0\" fill=\"rgba(255,255,0,0.25098039215686274)\" r=\"106.25\" stroke=\"orange\" stroke-width=\"1\" /><line fill=\"#800080\" stroke=\"lightgray\" stroke-width=\"1\" x1=\"120.625\" x2=\"20.625000000000004\" y1=\"122.50000000000001\" y2=\"122.50000000000001\" /><line fill=\"#800080\" stroke=\"lightgray\" stroke-width=\"1\" x1=\"121.24999999999999\" x2=\"30.619221296335\" y1=\"120.75\" y2=\"78.48817382593005\" /><line fill=\"#800080\" stroke=\"lightgray\" stroke-width=\"1\" x1=\"122.24999999999999\" x2=\"57.971239031346066\" y1=\"120.0\" y2=\"43.395555688102185\" /><line fill=\"#800080\" stroke=\"lightgray\" stroke-width=\"1\" x1=\"123.75\" x2=\"97.86809548974793\" y1=\"119.37500000000001\" y2=\"22.78241737109319\" /><line fill=\"#800080\" stroke=\"lightgray\" stroke-width=\"1\" x1=\"126.25\" x2=\"152.13190451025207\" y1=\"119.37500000000001\" y2=\"22.78241737109319\" /><line fill=\"#800080\" stroke=\"black\" stroke-width=\"1\" x1=\"127.75000000000001\" x2=\"175.0\" y1=\"120.0\" y2=\"63.68964250000002\" /><line fill=\"#800080\" stroke=\"lightgray\" stroke-width=\"1\" x1=\"128.75\" x2=\"219.38077870366502\" y1=\"120.75\" y2=\"78.48817382593005\" /><line fill=\"#800080\" stroke=\"lightgray\" stroke-width=\"1\" x1=\"129.375\" x2=\"229.37500000000003\" y1=\"122.50000000000001\" y2=\"122.50000000000001\" /><line fill=\"#800080\" stroke=\"purple\" stroke-width=\"1\" x1=\"175.0\" x2=\"175.0\" y1=\"75.0\" y2=\"75.0\" /><line fill=\"#800080\" stroke=\"purple\" stroke-width=\"1\" x1=\"175.0\" x2=\"175.0\" y1=\"75.0\" y2=\"75.0\" /><polygon fill=\"red\" points=\"123.0,119.37500000000001 120.625,121.24999999999999 120.625,128.75 123.0,130.625 127.0,130.625 129.375,128.75 129.375,121.24999999999999 127.0,119.37500000000001\" stroke=\"black\" stroke-width=\"1\" /><polygon fill=\"black\" points=\"126.49999999999999,121.50000000000001 126.49999999999999,123.50000000000001 123.50000000000001,123.50000000000001 123.50000000000001,121.50000000000001\" stroke=\"black\" stroke-width=\"1\" /><line fill=\"#800080\" stroke=\"black\" stroke-width=\"1\" x1=\"122.0\" x2=\"128.0\" y1=\"119.37500000000001\" y2=\"119.37500000000001\" /><polygon fill=\"black\" points=\"121.75,119.37500000000001 121.75,114.375 122.24999999999999,114.375 122.24999999999999,119.37500000000001\" stroke=\"black\" stroke-width=\"1\" /><polygon fill=\"black\" points=\"127.75000000000001,119.37500000000001 127.75000000000001,114.375 128.25,114.375 128.25,119.37500000000001\" stroke=\"black\" stroke-width=\"1\" /></svg>"
      ],
      "text/plain": [
       "<jyro.simulator.svgcanvas.SVGCanvas at 0x7f0a78748e48>"
      ]
     },
     "execution_count": 17,
     "metadata": {},
     "output_type": "execute_result"
    }
   ],
   "source": [
    "robot.setPose(5, 5, 0)\n",
    "sim.draw(canvas)"
   ]
  },
  {
   "cell_type": "code",
   "execution_count": 18,
   "metadata": {
    "collapsed": false,
    "deletable": true,
    "editable": true
   },
   "outputs": [],
   "source": [
    "light0 = numpy.zeros((100,100))\n",
    "light1 = numpy.zeros((100,100))\n",
    "\n",
    "for x in range(100):\n",
    "    for y in range(100):\n",
    "        for r in sim.robots:\n",
    "            r.setPose(x/100 * 10, \n",
    "                      y/100 * 10, \n",
    "                      0) # facing up (north)\n",
    "            r.updateDevices()\n",
    "            light0[int(r._gx/10 * 100), int(r._gy/10 * 100)] = r.device[\"light\"].scan[0]        \n",
    "            light1[int(r._gx/10 * 100), int(r._gy/10 * 100)] = r.device[\"light\"].scan[1]"
   ]
  },
  {
   "cell_type": "code",
   "execution_count": 19,
   "metadata": {
    "collapsed": false,
    "deletable": true,
    "editable": true
   },
   "outputs": [
    {
     "data": {
      "text/plain": [
       "<matplotlib.colorbar.Colorbar at 0x7f0a4c337908>"
      ]
     },
     "execution_count": 19,
     "metadata": {},
     "output_type": "execute_result"
    },
    {
     "data": {
      "image/png": "[encoded data removed]",
      "text/plain": [
       "<matplotlib.figure.Figure at 0x7f0a4c38f278>"
      ]
     },
     "metadata": {},
     "output_type": "display_data"
    }
   ],
   "source": [
    "fig = plt.figure()\n",
    "sp = fig.add_subplot(111)\n",
    "p = sp.matshow(light0, origin=\"lower\")\n",
    "fig.colorbar(p)"
   ]
  },
  {
   "cell_type": "code",
   "execution_count": 21,
   "metadata": {
    "collapsed": false,
    "deletable": true,
    "editable": true
   },
   "outputs": [
    {
     "data": {
      "image/svg+xml": [
       "<svg baseProfile=\"full\" height=\"250\" version=\"1.1\" width=\"250\" xmlns=\"http://www.w3.org/2000/svg\" xmlns:ev=\"http://www.w3.org/2001/xml-events\" xmlns:xlink=\"http://www.w3.org/1999/xlink\"><defs /><rect fill=\"white\" height=\"250\" stroke=\"#000000\" stroke-width=\"1\" width=\"250\" x=\"0\" y=\"0\" /><rect fill=\"white\" height=\"250.0\" stroke=\"grey\" stroke-width=\"1\" width=\"250.0\" x=\"0.0\" y=\"0.0\" /><rect fill=\"purple\" height=\"25.0\" stroke=\"purple\" stroke-width=\"1\" width=\"25.0\" x=\"25.0\" y=\"200.0\" /><rect fill=\"purple\" height=\"25.0\" stroke=\"purple\" stroke-width=\"1\" width=\"25.0\" x=\"175.0\" y=\"50.0\" /><circle cx=\"175.0\" cy=\"75.0\" fill=\"rgba(255,255,0,0.25098039215686274)\" r=\"106.25\" stroke=\"orange\" stroke-width=\"1\" /><line fill=\"#800080\" stroke=\"lightgray\" stroke-width=\"1\" x1=\"129.375\" x2=\"229.37500000000003\" y1=\"127.49999999999999\" y2=\"127.50000000000001\" /><line fill=\"#800080\" stroke=\"lightgray\" stroke-width=\"1\" x1=\"128.75\" x2=\"219.38077870366502\" y1=\"129.25\" y2=\"171.51182617406994\" /><line fill=\"#800080\" stroke=\"lightgray\" stroke-width=\"1\" x1=\"127.75000000000001\" x2=\"192.02876096865393\" y1=\"130.0\" y2=\"206.60444431189782\" /><line fill=\"#800080\" stroke=\"lightgray\" stroke-width=\"1\" x1=\"126.25\" x2=\"152.13190451025207\" y1=\"130.625\" y2=\"227.21758262890683\" /><line fill=\"#800080\" stroke=\"lightgray\" stroke-width=\"1\" x1=\"123.75\" x2=\"97.8680954897479\" y1=\"130.625\" y2=\"227.21758262890683\" /><line fill=\"#800080\" stroke=\"lightgray\" stroke-width=\"1\" x1=\"122.24999999999999\" x2=\"57.971239031346045\" y1=\"130.0\" y2=\"206.60444431189777\" /><line fill=\"#800080\" stroke=\"lightgray\" stroke-width=\"1\" x1=\"121.24999999999999\" x2=\"30.619221296334985\" y1=\"129.25\" y2=\"171.51182617406994\" /><line fill=\"#800080\" stroke=\"lightgray\" stroke-width=\"1\" x1=\"120.625\" x2=\"20.625000000000004\" y1=\"127.49999999999999\" y2=\"127.49999999999999\" /><line fill=\"#800080\" stroke=\"purple\" stroke-width=\"1\" x1=\"175.0\" x2=\"175.0\" y1=\"75.0\" y2=\"74.99999999999996\" /><line fill=\"#800080\" stroke=\"purple\" stroke-width=\"1\" x1=\"175.0\" x2=\"175.0\" y1=\"75.0\" y2=\"75.0\" /><polygon fill=\"red\" points=\"127.0,130.625 129.375,128.75 129.375,121.24999999999999 127.0,119.37500000000001 123.0,119.37500000000001 120.625,121.24999999999999 120.625,128.75 123.0,130.625\" stroke=\"black\" stroke-width=\"1\" /><polygon fill=\"black\" points=\"123.50000000000001,128.5 123.50000000000001,126.49999999999999 126.49999999999999,126.49999999999999 126.49999999999999,128.5\" stroke=\"black\" stroke-width=\"1\" /><line fill=\"#800080\" stroke=\"black\" stroke-width=\"1\" x1=\"128.0\" x2=\"122.0\" y1=\"130.625\" y2=\"130.625\" /><polygon fill=\"black\" points=\"128.25,130.625 128.25,135.625 127.75000000000001,135.625 127.75000000000001,130.625\" stroke=\"black\" stroke-width=\"1\" /><polygon fill=\"black\" points=\"122.24999999999999,130.625 122.24999999999999,135.625 121.75,135.625 121.75,130.625\" stroke=\"black\" stroke-width=\"1\" /></svg>"
      ],
      "text/plain": [
       "<jyro.simulator.svgcanvas.SVGCanvas at 0x7f0a78748e48>"
      ]
     },
     "execution_count": 21,
     "metadata": {},
     "output_type": "execute_result"
    }
   ],
   "source": [
    "robot.setPose(5, 5, math.pi)\n",
    "sim.draw(canvas)"
   ]
  },
  {
   "cell_type": "code",
   "execution_count": 22,
   "metadata": {
    "collapsed": true,
    "deletable": true,
    "editable": true
   },
   "outputs": [],
   "source": [
    "light0 = numpy.zeros((100,100))\n",
    "light1 = numpy.zeros((100,100))\n",
    "\n",
    "for x in range(100):\n",
    "    for y in range(100):\n",
    "        for r in sim.robots:\n",
    "            r.setPose(x/100 * 10, \n",
    "                      y/100 * 10, \n",
    "                      math.pi) # facing down (south)\n",
    "            r.updateDevices()\n",
    "            light0[int(r._gx/10 * 100), int(r._gy/10 * 100)] = r.device[\"light\"].scan[0]        \n",
    "            light1[int(r._gx/10 * 100), int(r._gy/10 * 100)] = r.device[\"light\"].scan[1]"
   ]
  },
  {
   "cell_type": "code",
   "execution_count": 23,
   "metadata": {
    "collapsed": false,
    "deletable": true,
    "editable": true
   },
   "outputs": [
    {
     "data": {
      "text/plain": [
       "<matplotlib.colorbar.Colorbar at 0x7f0a4c26f5c0>"
      ]
     },
     "execution_count": 23,
     "metadata": {},
     "output_type": "execute_result"
    },
    {
     "data": {
      "image/png": "[encoded data removed]",
      "text/plain": [
       "<matplotlib.figure.Figure at 0x7f0a4c3755c0>"
      ]
     },
     "metadata": {},
     "output_type": "display_data"
    }
   ],
   "source": [
    "fig = plt.figure()\n",
    "sp = fig.add_subplot(111)\n",
    "p = sp.matshow(light0, origin=\"lower\")\n",
    "fig.colorbar(p)"
   ]
  },
  {
   "cell_type": "code",
   "execution_count": 24,
   "metadata": {
    "collapsed": false,
    "deletable": true,
    "editable": true
   },
   "outputs": [
    {
     "data": {
      "image/svg+xml": [
       "<svg baseProfile=\"full\" height=\"250\" version=\"1.1\" width=\"250\" xmlns=\"http://www.w3.org/2000/svg\" xmlns:ev=\"http://www.w3.org/2001/xml-events\" xmlns:xlink=\"http://www.w3.org/1999/xlink\"><defs /><rect fill=\"white\" height=\"250\" stroke=\"#000000\" stroke-width=\"1\" width=\"250\" x=\"0\" y=\"0\" /><rect fill=\"white\" height=\"250.0\" stroke=\"grey\" stroke-width=\"1\" width=\"250.0\" x=\"0.0\" y=\"0.0\" /><rect fill=\"purple\" height=\"25.0\" stroke=\"purple\" stroke-width=\"1\" width=\"25.0\" x=\"25.0\" y=\"200.0\" /><rect fill=\"purple\" height=\"25.0\" stroke=\"purple\" stroke-width=\"1\" width=\"25.0\" x=\"175.0\" y=\"50.0\" /><circle cx=\"175.0\" cy=\"75.0\" fill=\"rgba(255,255,0,0.25098039215686274)\" r=\"106.25\" stroke=\"orange\" stroke-width=\"1\" /><line fill=\"#800080\" stroke=\"lightgray\" stroke-width=\"1\" x1=\"122.50000000000001\" x2=\"122.49999999999999\" y1=\"129.375\" y2=\"229.37500000000003\" /><line fill=\"#800080\" stroke=\"lightgray\" stroke-width=\"1\" x1=\"120.75\" x2=\"78.48817382593005\" y1=\"128.75\" y2=\"219.38077870366502\" /><line fill=\"#800080\" stroke=\"lightgray\" stroke-width=\"1\" x1=\"120.0\" x2=\"43.39555568810219\" y1=\"127.75000000000001\" y2=\"192.02876096865396\" /><line fill=\"#800080\" stroke=\"lightgray\" stroke-width=\"1\" x1=\"119.37500000000001\" x2=\"22.782417371093178\" y1=\"126.25\" y2=\"152.13190451025204\" /><line fill=\"#800080\" stroke=\"lightgray\" stroke-width=\"1\" x1=\"119.37500000000001\" x2=\"22.782417371093178\" y1=\"123.75\" y2=\"97.86809548974793\" /><line fill=\"#800080\" stroke=\"lightgray\" stroke-width=\"1\" x1=\"120.0\" x2=\"43.39555568810219\" y1=\"122.24999999999999\" y2=\"57.971239031346045\" /><line fill=\"#800080\" stroke=\"lightgray\" stroke-width=\"1\" x1=\"120.75\" x2=\"78.48817382593006\" y1=\"121.24999999999999\" y2=\"30.619221296334985\" /><line fill=\"#800080\" stroke=\"lightgray\" stroke-width=\"1\" x1=\"122.50000000000001\" x2=\"122.50000000000001\" y1=\"120.625\" y2=\"20.624999999999982\" /><line fill=\"#800080\" stroke=\"purple\" stroke-width=\"1\" x1=\"175.0\" x2=\"175.0\" y1=\"75.0\" y2=\"75.0\" /><line fill=\"#800080\" stroke=\"purple\" stroke-width=\"1\" x1=\"175.0\" x2=\"175.0\" y1=\"75.0\" y2=\"75.0\" /><polygon fill=\"red\" points=\"119.37500000000001,127.0 121.24999999999999,129.375 128.75,129.375 130.625,127.0 130.625,123.0 128.75,120.625 121.24999999999999,120.625 119.37500000000001,123.0\" stroke=\"black\" stroke-width=\"1\" /><polygon fill=\"black\" points=\"121.50000000000001,123.50000000000001 123.50000000000001,123.50000000000001 123.50000000000001,126.49999999999999 121.50000000000001,126.49999999999999\" stroke=\"black\" stroke-width=\"1\" /><line fill=\"#800080\" stroke=\"black\" stroke-width=\"1\" x1=\"119.37500000000001\" x2=\"119.37500000000001\" y1=\"128.0\" y2=\"122.0\" /><polygon fill=\"black\" points=\"119.37500000000001,128.25 114.375,128.25 114.375,127.75000000000001 119.37500000000001,127.75000000000001\" stroke=\"black\" stroke-width=\"1\" /><polygon fill=\"black\" points=\"119.37500000000001,122.24999999999999 114.375,122.24999999999999 114.375,121.75 119.37500000000001,121.75\" stroke=\"black\" stroke-width=\"1\" /></svg>"
      ],
      "text/plain": [
       "<jyro.simulator.svgcanvas.SVGCanvas at 0x7f0a78748e48>"
      ]
     },
     "execution_count": 24,
     "metadata": {},
     "output_type": "execute_result"
    }
   ],
   "source": [
    "robot.setPose(5, 5, math.pi/2)\n",
    "sim.draw(canvas)"
   ]
  },
  {
   "cell_type": "code",
   "execution_count": 25,
   "metadata": {
    "collapsed": false,
    "deletable": true,
    "editable": true
   },
   "outputs": [],
   "source": [
    "light0 = numpy.zeros((100,100))\n",
    "light1 = numpy.zeros((100,100))\n",
    "\n",
    "for x in range(100):\n",
    "    for y in range(100):\n",
    "        for r in sim.robots:\n",
    "            r.setPose(x/100 * 10, \n",
    "                      y/100 * 10, \n",
    "                      math.pi/2) # facing left (west)\n",
    "            r.updateDevices()\n",
    "            light0[int(r._gx/10 * 100), int(r._gy/10 * 100)] = r.device[\"light\"].scan[0]        \n",
    "            light1[int(r._gx/10 * 100), int(r._gy/10 * 100)] = r.device[\"light\"].scan[1]"
   ]
  },
  {
   "cell_type": "code",
   "execution_count": 26,
   "metadata": {
    "collapsed": false,
    "deletable": true,
    "editable": true
   },
   "outputs": [
    {
     "data": {
      "text/plain": [
       "<matplotlib.colorbar.Colorbar at 0x7f0a4c1a2c50>"
      ]
     },
     "execution_count": 26,
     "metadata": {},
     "output_type": "execute_result"
    },
    {
     "data": {
      "image/png": "[encoded data removed]",
      "text/plain": [
       "<matplotlib.figure.Figure at 0x7f0a4c212240>"
      ]
     },
     "metadata": {},
     "output_type": "display_data"
    }
   ],
   "source": [
    "fig = plt.figure()\n",
    "sp = fig.add_subplot(111)\n",
    "p = sp.matshow(light0, origin=\"lower\")\n",
    "fig.colorbar(p)"
   ]
  },
  {
   "cell_type": "code",
   "execution_count": 27,
   "metadata": {
    "collapsed": false,
    "deletable": true,
    "editable": true
   },
   "outputs": [
    {
     "data": {
      "image/svg+xml": [
       "<svg baseProfile=\"full\" height=\"250\" version=\"1.1\" width=\"250\" xmlns=\"http://www.w3.org/2000/svg\" xmlns:ev=\"http://www.w3.org/2001/xml-events\" xmlns:xlink=\"http://www.w3.org/1999/xlink\"><defs /><rect fill=\"white\" height=\"250\" stroke=\"#000000\" stroke-width=\"1\" width=\"250\" x=\"0\" y=\"0\" /><rect fill=\"white\" height=\"250.0\" stroke=\"grey\" stroke-width=\"1\" width=\"250.0\" x=\"0.0\" y=\"0.0\" /><rect fill=\"purple\" height=\"25.0\" stroke=\"purple\" stroke-width=\"1\" width=\"25.0\" x=\"25.0\" y=\"200.0\" /><rect fill=\"purple\" height=\"25.0\" stroke=\"purple\" stroke-width=\"1\" width=\"25.0\" x=\"175.0\" y=\"50.0\" /><circle cx=\"175.0\" cy=\"75.0\" fill=\"rgba(255,255,0,0.25098039215686274)\" r=\"106.25\" stroke=\"orange\" stroke-width=\"1\" /><line fill=\"#800080\" stroke=\"lightgray\" stroke-width=\"1\" x1=\"120.13864087934249\" x2=\"49.42796276068774\" y1=\"126.32582521472477\" y2=\"197.03650333337953\" /><line fill=\"#800080\" stroke=\"lightgray\" stroke-width=\"1\" x1=\"119.34314575050762\" x2=\"25.373883671916776\" y1=\"124.64644660940674\" y2=\"158.8484609419736\" /><line fill=\"#800080\" stroke=\"lightgray\" stroke-width=\"1\" x1=\"119.51992244580426\" x2=\"19.900452636629694\" y1=\"123.40900974233027\" y2=\"114.69343546756446\" /><line fill=\"#800080\" stroke=\"lightgray\" stroke-width=\"1\" x1=\"120.13864087934249\" x2=\"33.536100500898634\" y1=\"121.90640783230886\" y2=\"71.90640783230884\" /><line fill=\"#800080\" stroke=\"lightgray\" stroke-width=\"1\" x1=\"121.90640783230886\" x2=\"71.90640783230886\" y1=\"120.13864087934249\" y2=\"33.536100500898634\" /><line fill=\"#800080\" stroke=\"lightgray\" stroke-width=\"1\" x1=\"123.40900974233027\" x2=\"114.69343546756446\" y1=\"119.51992244580426\" y2=\"19.900452636629673\" /><line fill=\"#800080\" stroke=\"lightgray\" stroke-width=\"1\" x1=\"124.64644660940674\" x2=\"158.84846094197363\" y1=\"119.34314575050762\" y2=\"25.373883671916797\" /><line fill=\"#800080\" stroke=\"black\" stroke-width=\"1\" x1=\"126.32582521472477\" x2=\"175.0\" y1=\"120.13864087934249\" y2=\"71.464465\" /><line fill=\"#800080\" stroke=\"purple\" stroke-width=\"1\" x1=\"175.0\" x2=\"175.0\" y1=\"75.0\" y2=\"75.0\" /><line fill=\"#800080\" stroke=\"purple\" stroke-width=\"1\" x1=\"175.0\" x2=\"175.0\" y1=\"75.0\" y2=\"75.0\" /><polygon fill=\"red\" points=\"119.60831079345257,122.43673791819877 119.25475740285931,125.4419417382416 124.5580582617584,130.74524259714067 127.56326208180123,130.39168920654743 130.39168920654743,127.56326208180123 130.74524259714067,124.5580582617584 125.4419417382416,119.25475740285931 122.43673791819877,119.60831079345257\" stroke=\"black\" stroke-width=\"1\" /><polygon fill=\"black\" points=\"123.5857864376269,121.46446609406726 125.0,122.87867965644037 122.87867965644037,125.0 121.46446609406726,123.5857864376269\" stroke=\"black\" stroke-width=\"1\" /><line fill=\"#800080\" stroke=\"black\" stroke-width=\"1\" x1=\"118.90120401226602\" x2=\"123.14384469938533\" y1=\"123.14384469938533\" y2=\"118.90120401226602\" /><polygon fill=\"black\" points=\"118.7244273169694,123.32062139468196 115.18889341103664,119.78508748874921 115.54244680162992,119.43153409815592 119.07798070756269,122.96706800408867\" stroke=\"black\" stroke-width=\"1\" /><polygon fill=\"black\" points=\"122.96706800408867,119.07798070756269 119.43153409815592,115.54244680162992 119.78508748874921,115.18889341103664 123.32062139468196,118.7244273169694\" stroke=\"black\" stroke-width=\"1\" /></svg>"
      ],
      "text/plain": [
       "<jyro.simulator.svgcanvas.SVGCanvas at 0x7f0a78748e48>"
      ]
     },
     "execution_count": 27,
     "metadata": {},
     "output_type": "execute_result"
    }
   ],
   "source": [
    "robot.setPose(5, 5, math.pi/4)\n",
    "sim.draw(canvas)"
   ]
  },
  {
   "cell_type": "code",
   "execution_count": 28,
   "metadata": {
    "collapsed": true,
    "deletable": true,
    "editable": true
   },
   "outputs": [],
   "source": [
    "light0 = numpy.zeros((100,100))\n",
    "light1 = numpy.zeros((100,100))\n",
    "\n",
    "for x in range(100):\n",
    "    for y in range(100):\n",
    "        for r in sim.robots:\n",
    "            r.setPose(x/100 * 10, \n",
    "                      y/100 * 10, \n",
    "                      math.pi/4) # facing up, left (north west)\n",
    "            r.updateDevices()\n",
    "            light0[int(r._gx/10 * 100), int(r._gy/10 * 100)] = r.device[\"light\"].scan[0]        \n",
    "            light1[int(r._gx/10 * 100), int(r._gy/10 * 100)] = r.device[\"light\"].scan[1]"
   ]
  },
  {
   "cell_type": "code",
   "execution_count": 29,
   "metadata": {
    "collapsed": false,
    "deletable": true,
    "editable": true
   },
   "outputs": [
    {
     "data": {
      "text/plain": [
       "<matplotlib.colorbar.Colorbar at 0x7f0a4c0dac50>"
      ]
     },
     "execution_count": 29,
     "metadata": {},
     "output_type": "execute_result"
    },
    {
     "data": {
      "image/png": "[encoded data removed]",
      "text/plain": [
       "<matplotlib.figure.Figure at 0x7f0a4c226be0>"
      ]
     },
     "metadata": {},
     "output_type": "display_data"
    }
   ],
   "source": [
    "fig = plt.figure()\n",
    "sp = fig.add_subplot(111)\n",
    "p = sp.matshow(light0, origin=\"lower\")\n",
    "fig.colorbar(p)"
   ]
  },
  {
   "cell_type": "code",
   "execution_count": 48,
   "metadata": {
    "collapsed": false,
    "deletable": true,
    "editable": true
   },
   "outputs": [
    {
     "data": {
      "image/svg+xml": [
       "<svg baseProfile=\"full\" height=\"250\" version=\"1.1\" width=\"250\" xmlns=\"http://www.w3.org/2000/svg\" xmlns:ev=\"http://www.w3.org/2001/xml-events\" xmlns:xlink=\"http://www.w3.org/1999/xlink\"><defs /><rect fill=\"white\" height=\"250\" stroke=\"#000000\" stroke-width=\"1\" width=\"250\" x=\"0\" y=\"0\" /><rect fill=\"white\" height=\"250.0\" stroke=\"grey\" stroke-width=\"1\" width=\"250.0\" x=\"0.0\" y=\"0.0\" /><rect fill=\"purple\" height=\"25.0\" stroke=\"purple\" stroke-width=\"1\" width=\"25.0\" x=\"25.0\" y=\"200.0\" /><rect fill=\"purple\" height=\"25.0\" stroke=\"purple\" stroke-width=\"1\" width=\"25.0\" x=\"175.0\" y=\"50.0\" /><circle cx=\"175.0\" cy=\"75.0\" fill=\"rgba(255,255,0,0.25098039215686274)\" r=\"106.25\" stroke=\"orange\" stroke-width=\"1\" /><line fill=\"#800080\" stroke=\"lightgray\" stroke-width=\"1\" x1=\"126.32582521472477\" x2=\"197.03650333337953\" y1=\"129.8613591206575\" y2=\"200.57203723931227\" /><line fill=\"#800080\" stroke=\"lightgray\" stroke-width=\"1\" x1=\"124.64644660940674\" x2=\"158.8484609419736\" y1=\"130.65685424949237\" y2=\"224.6261163280832\" /><line fill=\"#800080\" stroke=\"lightgray\" stroke-width=\"1\" x1=\"123.40900974233027\" x2=\"114.69343546756446\" y1=\"130.48007755419576\" y2=\"230.09954736337033\" /><line fill=\"#800080\" stroke=\"lightgray\" stroke-width=\"1\" x1=\"121.90640783230886\" x2=\"71.90640783230886\" y1=\"129.8613591206575\" y2=\"216.46389949910136\" /><line fill=\"#800080\" stroke=\"lightgray\" stroke-width=\"1\" x1=\"120.13864087934247\" x2=\"33.536100500898606\" y1=\"128.09359216769113\" y2=\"178.09359216769113\" /><line fill=\"#800080\" stroke=\"lightgray\" stroke-width=\"1\" x1=\"119.51992244580426\" x2=\"19.900452636629694\" y1=\"126.59099025766973\" y2=\"135.30656453243552\" /><line fill=\"#800080\" stroke=\"lightgray\" stroke-width=\"1\" x1=\"119.34314575050762\" x2=\"25.373883671916786\" y1=\"125.35355339059326\" y2=\"91.15153905802637\" /><line fill=\"#800080\" stroke=\"lightgray\" stroke-width=\"1\" x1=\"120.13864087934249\" x2=\"49.42796276068775\" y1=\"123.67417478527523\" y2=\"52.96349666662046\" /><line fill=\"#800080\" stroke=\"purple\" stroke-width=\"1\" x1=\"175.0\" x2=\"175.0\" y1=\"75.0\" y2=\"75.0\" /><line fill=\"#800080\" stroke=\"purple\" stroke-width=\"1\" x1=\"175.0\" x2=\"175.0\" y1=\"75.0\" y2=\"75.0\" /><line fill=\"#800080\" stroke=\"purple\" stroke-width=\"1\" x1=\"125.0\" x2=\"158.49364912181792\" y1=\"125.0\" y2=\"250.0\" /><line fill=\"#800080\" stroke=\"purple\" stroke-width=\"1\" x1=\"125.0\" x2=\"0.0\" y1=\"125.0\" y2=\"91.50635\" /><line fill=\"#800080\" stroke=\"purple\" stroke-width=\"1\" x1=\"125.0\" x2=\"158.49364912181792\" y1=\"125.0\" y2=\"250.0\" /><line fill=\"#800080\" stroke=\"purple\" stroke-width=\"1\" x1=\"125.0\" x2=\"0.0\" y1=\"125.0\" y2=\"91.50635\" /><line fill=\"#800080\" stroke=\"purple\" stroke-width=\"1\" x1=\"125.0\" x2=\"158.49364912181792\" y1=\"125.0\" y2=\"250.0\" /><line fill=\"#800080\" stroke=\"purple\" stroke-width=\"1\" x1=\"125.0\" x2=\"0.0\" y1=\"125.0\" y2=\"91.50635\" /><line fill=\"#800080\" stroke=\"purple\" stroke-width=\"1\" x1=\"125.0\" x2=\"158.49364912181792\" y1=\"125.0\" y2=\"250.0\" /><line fill=\"#800080\" stroke=\"purple\" stroke-width=\"1\" x1=\"125.0\" x2=\"0.0\" y1=\"125.0\" y2=\"91.50635\" /><line fill=\"#800080\" stroke=\"purple\" stroke-width=\"1\" x1=\"125.0\" x2=\"158.49364912181792\" y1=\"125.0\" y2=\"250.0\" /><line fill=\"#800080\" stroke=\"purple\" stroke-width=\"1\" x1=\"125.0\" x2=\"0.0\" y1=\"125.0\" y2=\"91.50635\" /><line fill=\"#800080\" stroke=\"purple\" stroke-width=\"1\" x1=\"125.0\" x2=\"158.49364912181792\" y1=\"125.0\" y2=\"250.0\" /><line fill=\"#800080\" stroke=\"purple\" stroke-width=\"1\" x1=\"125.0\" x2=\"0.0\" y1=\"125.0\" y2=\"91.50635\" /><polygon fill=\"red\" points=\"122.43673791819877,130.39168920654743 125.4419417382416,130.74524259714067 130.74524259714067,125.4419417382416 130.39168920654743,122.43673791819877 127.56326208180123,119.60831079345257 124.5580582617584,119.25475740285931 119.25475740285931,124.5580582617584 119.60831079345257,127.56326208180123\" stroke=\"black\" stroke-width=\"1\" /><polygon fill=\"black\" points=\"121.46446609406726,126.4142135623731 122.87867965644037,125.0 125.0,127.12132034355963 123.5857864376269,128.53553390593274\" stroke=\"black\" stroke-width=\"1\" /><line fill=\"#800080\" stroke=\"black\" stroke-width=\"1\" x1=\"123.14384469938533\" x2=\"118.90120401226602\" y1=\"131.09879598773398\" y2=\"126.85615530061467\" /><polygon fill=\"black\" points=\"123.32062139468196,131.27557268303062 119.78508748874921,134.81110658896336 119.43153409815592,134.45755319837008 122.96706800408867,130.9220192924373\" stroke=\"black\" stroke-width=\"1\" /><polygon fill=\"black\" points=\"119.07798070756269,127.03293199591133 115.54244680162992,130.56846590184406 115.18889341103664,130.2149125112508 118.7244273169694,126.67937860531804\" stroke=\"black\" stroke-width=\"1\" /></svg>"
      ],
      "text/plain": [
       "<jyro.simulator.svgcanvas.SVGCanvas at 0x7f480517cda0>"
      ]
     },
     "execution_count": 48,
     "metadata": {},
     "output_type": "execute_result"
    }
   ],
   "source": [
    "robot.setPose(5, 5, math.pi * 3/4)\n",
    "sim.draw(canvas)"
   ]
  },
  {
   "cell_type": "code",
   "execution_count": 49,
   "metadata": {
    "collapsed": false,
    "deletable": true,
    "editable": true
   },
   "outputs": [],
   "source": [
    "robot.addDevice(Camera(120, 80))"
   ]
  },
  {
   "cell_type": "code",
   "execution_count": 50,
   "metadata": {
    "collapsed": true,
    "deletable": true,
    "editable": true
   },
   "outputs": [],
   "source": [
    "robot.updateDevices()"
   ]
  },
  {
   "cell_type": "code",
   "execution_count": 51,
   "metadata": {
    "collapsed": false,
    "deletable": true,
    "editable": true
   },
   "outputs": [
    {
     "data": {
      "image/png": "[encoded data removed]",
      "text/plain": [
       "<PIL.Image.Image image mode=RGB size=120x80 at 0x7F48050A5780>"
      ]
     },
     "execution_count": 51,
     "metadata": {},
     "output_type": "execute_result"
    }
   ],
   "source": [
    "robot.device[\"camera\"].getData()"
   ]
  },
  {
   "cell_type": "code",
   "execution_count": 52,
   "metadata": {
    "collapsed": true,
    "deletable": true,
    "editable": true
   },
   "outputs": [],
   "source": [
    "robot.move(0, .5)\n",
    "for i in range(10):\n",
    "    sim.step()"
   ]
  },
  {
   "cell_type": "code",
   "execution_count": 53,
   "metadata": {
    "collapsed": false,
    "deletable": true,
    "editable": true
   },
   "outputs": [
    {
     "data": {
      "image/png": "[encoded data removed]",
      "text/plain": [
       "<PIL.Image.Image image mode=RGB size=120x80 at 0x7F48050AFA58>"
      ]
     },
     "execution_count": 53,
     "metadata": {},
     "output_type": "execute_result"
    }
   ],
   "source": [
    "robot.device[\"camera\"].getData()"
   ]
  },
  {
   "cell_type": "code",
   "execution_count": 54,
   "metadata": {
    "collapsed": false
   },
   "outputs": [
    {
     "data": {
      "image/png": "[encoded data removed]",
      "text/plain": [
       "<PIL.Image.Image image mode=RGB size=240x160 at 0x7F48050AF5F8>"
      ]
     },
     "execution_count": 54,
     "metadata": {},
     "output_type": "execute_result"
    }
   ],
   "source": [
    "import PIL\n",
    "img = robot.device[\"camera\"].getData()\n",
    "img = img.resize((240, 160))\n",
    "img"
   ]
  },
  {
   "cell_type": "code",
   "execution_count": null,
   "metadata": {
    "collapsed": true
   },
   "outputs": [],
   "source": []
  }
 ],
 "metadata": {
  "kernelspec": {
   "display_name": "Python 3",
   "language": "python",
   "name": "python3"
  },
  "language_info": {
   "codemirror_mode": {
    "name": "ipython",
    "version": 3
   },
   "file_extension": ".py",
   "mimetype": "text/x-python",
   "name": "python",
   "nbconvert_exporter": "python",
   "pygments_lexer": "ipython3",
   "version": "3.5.2+"
  }
 },
 "nbformat": 4,
 "nbformat_minor": 2
}
